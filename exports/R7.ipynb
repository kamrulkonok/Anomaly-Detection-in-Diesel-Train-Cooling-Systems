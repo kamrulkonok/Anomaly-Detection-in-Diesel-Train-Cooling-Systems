{
 "cells": [
  {
   "cell_type": "code",
   "execution_count": 36,
   "id": "f679846f",
   "metadata": {},
   "outputs": [],
   "source": [
    "import pandas as pd\n",
    "\n",
    "# Python standard library imports\n",
    "import time\n",
    "\n",
    "# Third-party imports for database connection and data manipulation\n",
    "from sqlalchemy import create_engine\n",
    "import pandas as pd\n",
    "import matplotlib.pyplot as plt\n",
    "import scipy.stats as stats\n",
    "import pandas as pd\n",
    "from sklearn.ensemble import IsolationForest\n",
    "from sklearn.preprocessing import StandardScaler\n",
    "from sklearn.decomposition import PCA\n",
    "from sklearn.covariance import EllipticEnvelope\n",
    "from sklearn.svm import OneClassSVM\n",
    "from sklearn.metrics import classification_report"
   ]
  },
  {
   "cell_type": "code",
   "execution_count": 37,
   "id": "2155174b",
   "metadata": {},
   "outputs": [],
   "source": [
    "# Database connection parameters\n",
    "dbname = 'train'\n",
    "user = 'narmina'\n",
    "password = 'narmina7877'\n",
    "host = 'localhost'  # localhost or the server address\n",
    "port = '5433'  # default PostgreSQL port is 5432\n",
    "\n",
    "# Establish a connection to the database\n",
    "connection_str = f\"postgresql://{user}:{password}@{host}:{port}/{dbname}\"\n",
    "engine = create_engine(connection_str)"
   ]
  },
  {
   "cell_type": "code",
   "execution_count": 38,
   "id": "ba91dae0",
   "metadata": {},
   "outputs": [],
   "source": [
    "# query shows count of abnormal rs_e_inairtemp_pc1 for each month"
   ]
  },
  {
   "cell_type": "code",
   "execution_count": 39,
   "id": "787ea3a5",
   "metadata": {},
   "outputs": [
    {
     "name": "stdout",
     "output_type": "stream",
     "text": [
      "Query took 5.425059795379639 seconds to run.\n"
     ]
    }
   ],
   "source": [
    "# Define the query with placeholders for parameters\n",
    "query1 = f\"\"\"\n",
    "SELECT count(rs_e_inairtemp_pc1), DATE_TRUNC('month', timestamps_utc) AS month_timestamp \n",
    "FROM vehicle_data \n",
    "where rs_e_inairtemp_pc1 > 65 or rs_e_inairtemp_pc1 < 0\n",
    "group by DATE_TRUNC('month', timestamps_utc);\n",
    "\"\"\"\n",
    "\n",
    "# Start timing\n",
    "start_time = time.time()\n",
    "\n",
    "# Execute the query and fetch the data into a DataFrame\n",
    "df1 = pd.read_sql_query(query1, engine)\n",
    "\n",
    "# End timing\n",
    "end_time = time.time()\n",
    "print(f\"Query took {end_time - start_time} seconds to run.\")\n",
    "# Close the database connection\n",
    "engine.dispose()"
   ]
  },
  {
   "cell_type": "code",
   "execution_count": 40,
   "id": "7efdc34b",
   "metadata": {},
   "outputs": [
    {
     "name": "stdout",
     "output_type": "stream",
     "text": [
      "   count month_timestamp\n",
      "0    536      2023-01-01\n",
      "1   1360      2023-02-01\n",
      "2   1013      2023-03-01\n",
      "3   1677      2023-04-01\n",
      "4   4234      2023-05-01\n",
      "5  11853      2023-06-01\n",
      "6   6095      2023-07-01\n",
      "7   6305      2023-08-01\n",
      "8   5832      2023-09-01\n"
     ]
    }
   ],
   "source": [
    "print(df1)"
   ]
  },
  {
   "cell_type": "code",
   "execution_count": 41,
   "id": "df7b512c",
   "metadata": {},
   "outputs": [],
   "source": [
    "# query shows count of abnormal rs_e_wattemp_pc1 for each month"
   ]
  },
  {
   "cell_type": "code",
   "execution_count": 42,
   "id": "baf85b2b",
   "metadata": {},
   "outputs": [
    {
     "name": "stdout",
     "output_type": "stream",
     "text": [
      "Query took 4.856842041015625 seconds to run.\n"
     ]
    }
   ],
   "source": [
    "# Define the query with placeholders for parameters\n",
    "query2 = f\"\"\"\n",
    "SELECT count(rs_e_wattemp_pc1), DATE_TRUNC('month', timestamps_utc) AS month_timestamp \n",
    "FROM vehicle_data \n",
    "where rs_e_wattemp_pc1 > 100 or rs_e_wattemp_pc1 < 0\n",
    "group by DATE_TRUNC('month', timestamps_utc);\n",
    "\"\"\"\n",
    "\n",
    "# Start timing\n",
    "start_time = time.time()\n",
    "\n",
    "# Execute the query and fetch the data into a DataFrame\n",
    "df2 = pd.read_sql_query(query2, engine)\n",
    "\n",
    "# End timing\n",
    "end_time = time.time()\n",
    "print(f\"Query took {end_time - start_time} seconds to run.\")\n",
    "# Close the database connection\n",
    "engine.dispose()"
   ]
  },
  {
   "cell_type": "code",
   "execution_count": 43,
   "id": "43be942c",
   "metadata": {},
   "outputs": [
    {
     "name": "stdout",
     "output_type": "stream",
     "text": [
      "   count month_timestamp\n",
      "0     13      2023-01-01\n",
      "1     27      2023-02-01\n",
      "2      8      2023-03-01\n",
      "3      1      2023-04-01\n",
      "4    229      2023-05-01\n",
      "5    430      2023-06-01\n",
      "6    357      2023-07-01\n",
      "7    428      2023-08-01\n",
      "8     62      2023-09-01\n"
     ]
    }
   ],
   "source": [
    "print(df2)"
   ]
  },
  {
   "cell_type": "code",
   "execution_count": 44,
   "id": "eaa45226",
   "metadata": {},
   "outputs": [],
   "source": [
    "# query shows count of abnormal rs_t_oiltemp_pc1 for each month"
   ]
  },
  {
   "cell_type": "code",
   "execution_count": 45,
   "id": "e455fa82",
   "metadata": {},
   "outputs": [
    {
     "name": "stdout",
     "output_type": "stream",
     "text": [
      "Query took 4.647801637649536 seconds to run.\n"
     ]
    }
   ],
   "source": [
    "# Define the query with placeholders for parameters\n",
    "query3 = f\"\"\"\n",
    "SELECT count(rs_t_oiltemp_pc1), DATE_TRUNC('month', timestamps_utc) AS month_timestamp \n",
    "FROM vehicle_data \n",
    "where rs_t_oiltemp_pc1 > 115 or rs_t_oiltemp_pc1 < 0\n",
    "group by DATE_TRUNC('month', timestamps_utc);\n",
    "\"\"\"\n",
    "\n",
    "# Start timing\n",
    "start_time = time.time()\n",
    "\n",
    "# Execute the query and fetch the data into a DataFrame\n",
    "df3 = pd.read_sql_query(query3, engine)\n",
    "\n",
    "# End timing\n",
    "end_time = time.time()\n",
    "print(f\"Query took {end_time - start_time} seconds to run.\")\n",
    "# Close the database connection\n",
    "engine.dispose()"
   ]
  },
  {
   "cell_type": "code",
   "execution_count": 46,
   "id": "279aa678",
   "metadata": {},
   "outputs": [
    {
     "name": "stdout",
     "output_type": "stream",
     "text": [
      "   count month_timestamp\n",
      "0      4      2023-01-01\n",
      "1     54      2023-02-01\n",
      "2      2      2023-03-01\n",
      "3      1      2023-06-01\n",
      "4      2      2023-07-01\n"
     ]
    }
   ],
   "source": [
    "print(df3)"
   ]
  },
  {
   "cell_type": "code",
   "execution_count": 47,
   "id": "651899f7",
   "metadata": {},
   "outputs": [],
   "source": [
    "# query shows count of abnormal rs_e_rpm_pc1 when engine is shut down for each month"
   ]
  },
  {
   "cell_type": "code",
   "execution_count": 48,
   "id": "12468f4b",
   "metadata": {},
   "outputs": [
    {
     "name": "stdout",
     "output_type": "stream",
     "text": [
      "Query took 4.396161079406738 seconds to run.\n"
     ]
    }
   ],
   "source": [
    "# Define the query with placeholders for parameters\n",
    "query4 = f\"\"\"\n",
    "SELECT count(rs_e_rpm_pc1), DATE_TRUNC('month', timestamps_utc) AS month_timestamp \n",
    "FROM vehicle_data \n",
    "where rs_e_rpm_pc1<>0 and \n",
    "((rs_e_inairtemp_pc1 > 65 or rs_e_inairtemp_pc1 <0) or \n",
    "(rs_e_wattemp_pc1 > 100 or rs_e_wattemp_pc1 < 0) or \n",
    "(rs_t_oiltemp_pc1 > 115 or rs_t_oiltemp_pc1 < 0))\n",
    "group by DATE_TRUNC('month', timestamps_utc);\n",
    "\"\"\"\n",
    "\n",
    "# Start timing\n",
    "start_time = time.time()\n",
    "\n",
    "# Execute the query and fetch the data into a DataFrame\n",
    "df4 = pd.read_sql_query(query4, engine)\n",
    "\n",
    "# End timing\n",
    "end_time = time.time()\n",
    "print(f\"Query took {end_time - start_time} seconds to run.\")\n",
    "# Close the database connection\n",
    "engine.dispose()"
   ]
  },
  {
   "cell_type": "code",
   "execution_count": 49,
   "id": "1350fa68",
   "metadata": {},
   "outputs": [
    {
     "name": "stdout",
     "output_type": "stream",
     "text": [
      "   count month_timestamp\n",
      "0    183      2023-01-01\n",
      "1    150      2023-02-01\n",
      "2    156      2023-03-01\n",
      "3      4      2023-04-01\n",
      "4    832      2023-05-01\n",
      "5    878      2023-06-01\n",
      "6    447      2023-07-01\n",
      "7    460      2023-08-01\n",
      "8    102      2023-09-01\n"
     ]
    }
   ],
   "source": [
    "print(df4)"
   ]
  }
 ],
 "metadata": {
  "kernelspec": {
   "display_name": "Python 3 (ipykernel)",
   "language": "python",
   "name": "python3"
  },
  "language_info": {
   "codemirror_mode": {
    "name": "ipython",
    "version": 3
   },
   "file_extension": ".py",
   "mimetype": "text/x-python",
   "name": "python",
   "nbconvert_exporter": "python",
   "pygments_lexer": "ipython3",
   "version": "3.11.5"
  }
 },
 "nbformat": 4,
 "nbformat_minor": 5
}
