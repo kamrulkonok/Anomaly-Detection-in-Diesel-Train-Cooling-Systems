{
 "cells": [
  {
   "cell_type": "markdown",
   "id": "d013fafc",
   "metadata": {},
   "source": [
    "In this notebook, we are gonna see if there are cases when one engine is off and the another one is on. We need this information because the one that is off has some issues that should be checked."
   ]
  },
  {
   "cell_type": "code",
   "execution_count": 1,
   "id": "cbf9b4a6",
   "metadata": {},
   "outputs": [],
   "source": [
    "import pandas as pd\n",
    "\n",
    "# Python standard library imports\n",
    "import time\n",
    "\n",
    "# Third-party imports for database connection and data manipulation\n",
    "from sqlalchemy import create_engine\n",
    "import pandas as pd\n",
    "import matplotlib.pyplot as plt\n",
    "import scipy.stats as stats\n",
    "import pandas as pd\n",
    "from sklearn.ensemble import IsolationForest\n",
    "from sklearn.preprocessing import StandardScaler\n",
    "from sklearn.decomposition import PCA\n",
    "from sklearn.covariance import EllipticEnvelope\n",
    "from sklearn.svm import OneClassSVM\n",
    "from sklearn.metrics import classification_report\n",
    "import matplotlib.pyplot as plt\n",
    "import seaborn as sns\n"
   ]
  },
  {
   "cell_type": "code",
   "execution_count": 2,
   "id": "ce76dec4",
   "metadata": {},
   "outputs": [],
   "source": [
    "# Database connection parameters\n",
    "dbname = 'train_weather'\n",
    "user = 'narmina'\n",
    "password = 'narmina7877'\n",
    "host = 'localhost'  # localhost or the server address\n",
    "port = '5433'  # default PostgreSQL port is 5432\n",
    "\n",
    "# Establish a connection to the database\n",
    "connection_str = f\"postgresql://{user}:{password}@{host}:{port}/{dbname}\"\n",
    "engine = create_engine(connection_str)"
   ]
  },
  {
   "cell_type": "code",
   "execution_count": 3,
   "id": "2080713d",
   "metadata": {},
   "outputs": [
    {
     "name": "stdout",
     "output_type": "stream",
     "text": [
      "Query took 0.2780911922454834 seconds to run.\n"
     ]
    }
   ],
   "source": [
    "# Define the query with placeholders for parameters\n",
    "query1 = f\"\"\"\n",
    "SELECT *, 'one_engine_off' AS outlier_type\n",
    "FROM vehicle_data_enriched\n",
    "where (\"rs_e_rpm_pc1\"=0 and \"rs_e_rpm_pc2\"!=0) or (\"rs_e_rpm_pc2\"=0 and \"rs_e_rpm_pc1\"!=0);\n",
    "\"\"\"\n",
    "\n",
    "# Start timing\n",
    "start_time = time.time()\n",
    "\n",
    "# Execute the query and fetch the data into a DataFrame\n",
    "df1 = pd.read_sql_query(query1, engine)\n",
    "\n",
    "# End timing\n",
    "end_time = time.time()\n",
    "print(f\"Query took {end_time - start_time} seconds to run.\")\n",
    "# Close the database connection\n",
    "engine.dispose()"
   ]
  },
  {
   "cell_type": "code",
   "execution_count": 4,
   "id": "d4ff0b4d",
   "metadata": {},
   "outputs": [
    {
     "name": "stdout",
     "output_type": "stream",
     "text": [
      "       mapped_veh_id       timestamps_UTC        lat       lon  \\\n",
      "0              194.0  2023-08-24 20:34:22  51.035433  3.711526   \n",
      "1              194.0  2023-08-24 20:47:53  51.035310  3.712176   \n",
      "2              134.0  2023-08-01 17:52:34  51.205410  5.249654   \n",
      "3              187.0  2023-08-01 00:02:46  51.013895  3.779681   \n",
      "4              142.0  2023-08-01 12:48:50  50.936567  5.306654   \n",
      "...              ...                  ...        ...       ...   \n",
      "10669          172.0  2023-09-09 07:23:36  50.935316  5.310786   \n",
      "10670          131.0  2023-09-09 18:51:49  50.107995  4.500648   \n",
      "10671          131.0  2023-09-09 21:21:55  50.065206  4.496489   \n",
      "10672          172.0  2023-09-09 04:31:43  50.935317  5.310762   \n",
      "10673          172.0  2023-09-09 06:24:40  50.935453  5.310185   \n",
      "\n",
      "       RS_E_InAirTemp_PC1  RS_E_InAirTemp_PC2  RS_E_OilPress_PC1  \\\n",
      "0                     0.0                41.0                0.0   \n",
      "1                     0.0                38.0                0.0   \n",
      "2                    31.0                22.0                3.0   \n",
      "3                    60.0                33.0                0.0   \n",
      "4                    34.0                33.0              255.0   \n",
      "...                   ...                 ...                ...   \n",
      "10669                31.0                33.0                0.0   \n",
      "10670                53.0                62.0              690.0   \n",
      "10671                45.0                53.0              690.0   \n",
      "10672                33.0                27.0                0.0   \n",
      "10673                31.0                29.0                0.0   \n",
      "\n",
      "       RS_E_OilPress_PC2  rs_e_rpm_pc1  rs_e_rpm_pc2  ...  RS_T_OilTemp_PC2  \\\n",
      "0             210.000000           0.0    802.000000  ...              82.0   \n",
      "1             213.333333           0.0    799.666667  ...              82.0   \n",
      "2             224.000000           0.0    797.000000  ...              79.0   \n",
      "3             282.000000           0.0    796.000000  ...              83.0   \n",
      "4               3.000000         851.0      0.000000  ...              25.0   \n",
      "...                  ...           ...           ...  ...               ...   \n",
      "10669         231.000000           0.0    798.000000  ...              80.0   \n",
      "10670         690.000000        1395.0      0.000000  ...              71.0   \n",
      "10671         690.000000         823.0      0.000000  ...              54.0   \n",
      "10672         241.000000           0.0    799.000000  ...              79.0   \n",
      "10673         234.000000           0.0    794.000000  ...              79.0   \n",
      "\n",
      "          timestamps_floor  nearest_point_id        Lat       Lon  \\\n",
      "0      2023-08-24 20:00:00               208  51.035433  3.711526   \n",
      "1      2023-08-24 20:00:00               208  51.035310  3.712176   \n",
      "2      2023-08-01 17:00:00               145  51.205410  5.249654   \n",
      "3      2023-08-01 00:00:00               208  51.013895  3.779681   \n",
      "4      2023-08-01 12:00:00               262  50.936567  5.306654   \n",
      "...                    ...               ...        ...       ...   \n",
      "10669  2023-09-09 07:00:00               262  50.935316  5.310786   \n",
      "10670  2023-09-09 18:00:00               566  50.107995  4.500648   \n",
      "10671  2023-09-09 21:00:00               566  50.065206  4.496489   \n",
      "10672  2023-09-09 04:00:00               262  50.935317  5.310762   \n",
      "10673  2023-09-09 06:00:00               262  50.935453  5.310185   \n",
      "\n",
      "                      Time  Temperature  Humidity Rain    outlier_type  \n",
      "0      2023-08-24 20:00:00         21.2      85.0  0.0  one_engine_off  \n",
      "1      2023-08-24 20:00:00         21.2      85.0  0.0  one_engine_off  \n",
      "2      2023-08-01 17:00:00         18.4      65.0  0.0  one_engine_off  \n",
      "3      2023-08-01 00:00:00         15.8      91.0  0.0  one_engine_off  \n",
      "4      2023-08-01 12:00:00         19.7      67.0  0.0  one_engine_off  \n",
      "...                    ...          ...       ...  ...             ...  \n",
      "10669  2023-09-09 07:00:00         19.7      90.0  0.0  one_engine_off  \n",
      "10670  2023-09-09 18:00:00         24.9      72.0  0.0  one_engine_off  \n",
      "10671  2023-09-09 21:00:00         21.7      80.0  0.0  one_engine_off  \n",
      "10672  2023-09-09 04:00:00         15.8      99.0  0.0  one_engine_off  \n",
      "10673  2023-09-09 06:00:00         17.3      97.0  0.0  one_engine_off  \n",
      "\n",
      "[10674 rows x 23 columns]\n"
     ]
    }
   ],
   "source": [
    "print(df1)"
   ]
  },
  {
   "cell_type": "markdown",
   "id": "ec72da41",
   "metadata": {},
   "source": [
    "We can see that we have many cases that one single engine is off"
   ]
  },
  {
   "cell_type": "code",
   "execution_count": 5,
   "id": "9640a340",
   "metadata": {},
   "outputs": [],
   "source": [
    "df1.to_csv('/Users/narmina/Downloads/file.csv', index=False)"
   ]
  },
  {
   "cell_type": "code",
   "execution_count": null,
   "id": "c2eaa887",
   "metadata": {},
   "outputs": [],
   "source": []
  }
 ],
 "metadata": {
  "kernelspec": {
   "display_name": "Python 3 (ipykernel)",
   "language": "python",
   "name": "python3"
  },
  "language_info": {
   "codemirror_mode": {
    "name": "ipython",
    "version": 3
   },
   "file_extension": ".py",
   "mimetype": "text/x-python",
   "name": "python",
   "nbconvert_exporter": "python",
   "pygments_lexer": "ipython3",
   "version": "3.11.5"
  }
 },
 "nbformat": 4,
 "nbformat_minor": 5
}
