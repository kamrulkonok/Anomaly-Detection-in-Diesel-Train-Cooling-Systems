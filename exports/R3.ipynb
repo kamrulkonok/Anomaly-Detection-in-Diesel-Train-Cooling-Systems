{
 "cells": [
  {
   "cell_type": "markdown",
   "id": "18420531",
   "metadata": {},
   "source": [
    "In this notebook, we are going to explore anomalies in rpm values for pc1 and pc2 seperately."
   ]
  },
  {
   "cell_type": "code",
   "execution_count": 1,
   "id": "7f030606",
   "metadata": {},
   "outputs": [],
   "source": [
    "import pandas as pd\n",
    "\n",
    "# Python standard library imports\n",
    "import time\n",
    "\n",
    "# Third-party imports for database connection and data manipulation\n",
    "from sqlalchemy import create_engine\n",
    "import pandas as pd\n",
    "import matplotlib.pyplot as plt\n",
    "import scipy.stats as stats\n",
    "import pandas as pd\n",
    "from sklearn.ensemble import IsolationForest\n",
    "from sklearn.preprocessing import StandardScaler\n",
    "from sklearn.decomposition import PCA\n",
    "from sklearn.covariance import EllipticEnvelope\n",
    "from sklearn.svm import OneClassSVM\n",
    "from sklearn.metrics import classification_report\n",
    "import matplotlib.pyplot as plt\n",
    "import seaborn as sns\n"
   ]
  },
  {
   "cell_type": "code",
   "execution_count": 2,
   "id": "f806d0fd",
   "metadata": {},
   "outputs": [],
   "source": [
    "# Database connection parameters\n",
    "dbname = 'train_weather'\n",
    "user = 'narmina'\n",
    "password = 'narmina7877'\n",
    "host = 'localhost'  # localhost or the server address\n",
    "port = '5433'  # default PostgreSQL port is 5432\n",
    "\n",
    "# Establish a connection to the database\n",
    "connection_str = f\"postgresql://{user}:{password}@{host}:{port}/{dbname}\"\n",
    "engine = create_engine(connection_str)"
   ]
  },
  {
   "cell_type": "markdown",
   "id": "ca4bd9d4",
   "metadata": {},
   "source": [
    "We have a rule that the maximum acceptable temperatures are for the: air: 65°C, water: 100°C, oil: 115°C. Above those thresholds the engines are stopped automatically to avoid damage. When engine stops, rpm value should be 0. Now we are going to check if this condition meets."
   ]
  },
  {
   "cell_type": "code",
   "execution_count": 3,
   "id": "5401f17b",
   "metadata": {},
   "outputs": [
    {
     "name": "stdout",
     "output_type": "stream",
     "text": [
      "Query took 0.23310112953186035 seconds to run.\n"
     ]
    }
   ],
   "source": [
    "# Define the query with placeholders for parameters\n",
    "query1 = f\"\"\"\n",
    "SELECT *, 'rmp' AS outlier_type\n",
    "FROM vehicle_data_enriched where \n",
    "(\"RS_E_InAirTemp_PC1\" > 65) or \n",
    "(\"RS_E_WatTemp_PC1\" > 100) or \n",
    "(\"RS_T_OilTemp_PC1\" > 115);\n",
    "\"\"\"\n",
    "\n",
    "# Start timing\n",
    "start_time = time.time()\n",
    "\n",
    "# Execute the query and fetch the data into a DataFrame\n",
    "df1 = pd.read_sql_query(query1, engine)\n",
    "\n",
    "# End timing\n",
    "end_time = time.time()\n",
    "print(f\"Query took {end_time - start_time} seconds to run.\")\n",
    "# Close the database connection\n",
    "engine.dispose()"
   ]
  },
  {
   "cell_type": "code",
   "execution_count": 4,
   "id": "1153bf6c",
   "metadata": {},
   "outputs": [
    {
     "name": "stdout",
     "output_type": "stream",
     "text": [
      "     mapped_veh_id       timestamps_UTC        lat       lon  \\\n",
      "0            150.0  2023-08-25 07:24:15  51.015536  3.775840   \n",
      "1            150.0  2023-08-25 06:40:09  51.032688  3.738170   \n",
      "2            174.0  2023-08-04 13:04:21  50.419657  4.534719   \n",
      "3            119.0  2023-08-14 19:48:19  51.013374  3.780435   \n",
      "4            149.0  2023-08-08 20:29:30  51.035646  3.710804   \n",
      "..             ...                  ...        ...       ...   \n",
      "836          140.0  2023-09-06 21:33:36  50.400574  4.459039   \n",
      "837          117.0  2023-09-07 12:08:20  51.015642  3.775553   \n",
      "838          181.0  2023-09-07 19:49:24  50.742379  3.602668   \n",
      "839          181.0  2023-09-07 20:00:21  50.742386  3.602660   \n",
      "840          117.0  2023-09-08 09:29:38  51.014937  3.777092   \n",
      "\n",
      "     RS_E_InAirTemp_PC1  RS_E_InAirTemp_PC2  RS_E_OilPress_PC1  \\\n",
      "0                  77.0                32.0                0.0   \n",
      "1                  78.0                33.0                0.0   \n",
      "2                  66.0                32.0                6.0   \n",
      "3                  71.0                60.0                3.0   \n",
      "4                  69.0                65.0                3.0   \n",
      "..                  ...                 ...                ...   \n",
      "836                66.0                65.0               24.0   \n",
      "837                69.0                70.0                3.0   \n",
      "838                70.0                39.0                0.0   \n",
      "839                70.0                37.0                0.0   \n",
      "840                70.0                70.0                3.0   \n",
      "\n",
      "     RS_E_OilPress_PC2  rs_e_rpm_pc1  rs_e_rpm_pc2  ...  RS_T_OilTemp_PC2  \\\n",
      "0                213.0           0.0         798.0  ...              80.0   \n",
      "1                379.0           0.0        1662.0  ...              84.0   \n",
      "2                300.0           0.0         799.0  ...              65.0   \n",
      "3                  0.0           0.0           0.0  ...              74.0   \n",
      "4                  3.0           0.0           0.0  ...              76.0   \n",
      "..                 ...           ...           ...  ...               ...   \n",
      "836                3.0           0.0           0.0  ...              79.0   \n",
      "837                0.0           0.0           0.0  ...              83.0   \n",
      "838              210.0           0.0         799.0  ...              87.0   \n",
      "839              213.0           0.0         801.0  ...              84.0   \n",
      "840                3.0           0.0           0.0  ...              85.0   \n",
      "\n",
      "        timestamps_floor  nearest_point_id        Lat       Lon  \\\n",
      "0    2023-08-25 07:00:00               208  51.015536  3.775840   \n",
      "1    2023-08-25 06:00:00               208  51.032688  3.738170   \n",
      "2    2023-08-04 13:00:00               450  50.419657  4.534719   \n",
      "3    2023-08-14 19:00:00               208  51.013374  3.780435   \n",
      "4    2023-08-08 20:00:00               207  51.035646  3.710804   \n",
      "..                   ...               ...        ...       ...   \n",
      "836  2023-09-06 21:00:00               449  50.400574  4.459039   \n",
      "837  2023-09-07 12:00:00               208  51.015642  3.775553   \n",
      "838  2023-09-07 19:00:00               323  50.742379  3.602668   \n",
      "839  2023-09-07 20:00:00               323  50.742386  3.602660   \n",
      "840  2023-09-08 09:00:00               208  51.014937  3.777092   \n",
      "\n",
      "                    Time  Temperature  Humidity Rain  outlier_type  \n",
      "0    2023-08-25 07:00:00         18.7      94.0  0.1           rmp  \n",
      "1    2023-08-25 06:00:00         18.6      95.0  0.0           rmp  \n",
      "2    2023-08-04 13:00:00         18.6      65.0  0.7           rmp  \n",
      "3    2023-08-14 19:00:00         21.4      73.0  0.0           rmp  \n",
      "4    2023-08-08 20:00:00         15.2      91.0  1.0           rmp  \n",
      "..                   ...          ...       ...  ...           ...  \n",
      "836  2023-09-06 21:00:00         18.5      78.0  0.0           rmp  \n",
      "837  2023-09-07 12:00:00         28.1      47.0  0.0           rmp  \n",
      "838  2023-09-07 19:00:00         22.8      78.0  0.0           rmp  \n",
      "839  2023-09-07 20:00:00         21.9      83.0  0.0           rmp  \n",
      "840  2023-09-08 09:00:00         24.7      71.0  0.0           rmp  \n",
      "\n",
      "[841 rows x 23 columns]\n"
     ]
    }
   ],
   "source": [
    "print(df1)"
   ]
  },
  {
   "cell_type": "code",
   "execution_count": 5,
   "id": "f95177ef",
   "metadata": {},
   "outputs": [
    {
     "data": {
      "image/png": "[encoded data removed]",
      "text/plain": [
       "<Figure size 800x600 with 1 Axes>"
      ]
     },
     "metadata": {},
     "output_type": "display_data"
    }
   ],
   "source": [
    "# Violin plot for rs_e_rpm_pc1 values\n",
    "plt.figure(figsize=(8, 6))\n",
    "sns.violinplot(y=df1['rs_e_rpm_pc1'], color='lightgreen')\n",
    "\n",
    "plt.ylabel('rs_e_rpm_pc1')\n",
    "plt.title('Violin Plot of rs_e_rpm_pc1')\n",
    "plt.grid(True)\n",
    "plt.tight_layout()\n",
    "plt.show()\n"
   ]
  },
  {
   "cell_type": "markdown",
   "id": "8d44103e",
   "metadata": {},
   "source": [
    "Now, we can see that not all values of rpm is zero, so there are anomalies. Now, let's check if these anomalies have some patterns followed."
   ]
  },
  {
   "cell_type": "code",
   "execution_count": 6,
   "id": "d7dae94c",
   "metadata": {},
   "outputs": [
    {
     "name": "stdout",
     "output_type": "stream",
     "text": [
      "No specific pattern found in index differences.\n"
     ]
    }
   ],
   "source": [
    "non_zero_indices = df1.index[df1['rs_e_rpm_pc1'] != 0].tolist()\n",
    "\n",
    "# Calculate differences between consecutive non-zero indices\n",
    "index_differences = [j - i for i, j in zip(non_zero_indices[:-1], non_zero_indices[1:])]\n",
    "\n",
    "# Check if there is any pattern in index differences\n",
    "if len(set(index_differences)) == 1:\n",
    "    print(f\"There is a pattern in the index differences: {index_differences[0]}\")\n",
    "else:\n",
    "    print(\"No specific pattern found in index differences.\")"
   ]
  },
  {
   "cell_type": "markdown",
   "id": "a079f911",
   "metadata": {},
   "source": [
    "There is no specific patterns followed. We can continue to see how many anomly cases we have for rpm values"
   ]
  },
  {
   "cell_type": "code",
   "execution_count": 7,
   "id": "dd1b8303",
   "metadata": {},
   "outputs": [
    {
     "name": "stdout",
     "output_type": "stream",
     "text": [
      "Query took 0.06429481506347656 seconds to run.\n"
     ]
    }
   ],
   "source": [
    "# Define the query with placeholders for parameters\n",
    "query2 = f\"\"\"\n",
    "SELECT *, 'rmp' AS outlier_type\n",
    "FROM vehicle_data_enriched where rs_e_rpm_pc1<>0 and \n",
    "((\"RS_E_InAirTemp_PC1\" > 65) or \n",
    "(\"RS_E_WatTemp_PC1\" > 100) or \n",
    "(\"RS_T_OilTemp_PC1\" > 115));\n",
    "\"\"\"\n",
    "\n",
    "# Start timing\n",
    "start_time = time.time()\n",
    "\n",
    "# Execute the query and fetch the data into a DataFrame\n",
    "df2 = pd.read_sql_query(query2, engine)\n",
    "\n",
    "# End timing\n",
    "end_time = time.time()\n",
    "print(f\"Query took {end_time - start_time} seconds to run.\")\n",
    "# Close the database connection\n",
    "engine.dispose()"
   ]
  },
  {
   "cell_type": "code",
   "execution_count": 8,
   "id": "ef27b207",
   "metadata": {},
   "outputs": [
    {
     "name": "stdout",
     "output_type": "stream",
     "text": [
      "    mapped_veh_id       timestamps_UTC        lat       lon  \\\n",
      "0           128.0  2023-08-15 11:59:28  51.181219  5.061351   \n",
      "1           128.0  2023-08-16 10:43:41  51.015487  5.348506   \n",
      "2           164.0  2023-08-20 15:10:29  51.172743  4.916521   \n",
      "3           151.0  2023-08-23 07:10:45  51.015628  3.775230   \n",
      "4           128.0  2023-08-10 13:41:04  51.050257  5.236593   \n",
      "..            ...                  ...        ...       ...   \n",
      "63          181.0  2023-06-04 14:29:26  50.953031  3.781030   \n",
      "64          136.0  2023-06-05 16:16:12  51.168564  4.962454   \n",
      "65          160.0  2023-05-20 16:31:00  50.919401  3.791549   \n",
      "66          123.0  2023-05-22 15:24:05  51.133095  5.239574   \n",
      "67          190.0  2023-05-19 13:39:28  51.238252  5.456693   \n",
      "\n",
      "    RS_E_InAirTemp_PC1  RS_E_InAirTemp_PC2  RS_E_OilPress_PC1  \\\n",
      "0                 47.0                46.0              327.0   \n",
      "1                 43.0                45.0               72.0   \n",
      "2                 66.0                46.0              196.0   \n",
      "3                 66.0                63.0               20.0   \n",
      "4                 46.0                41.0              175.0   \n",
      "..                 ...                 ...                ...   \n",
      "63                66.0                50.0              203.0   \n",
      "64                66.0                47.0              362.0   \n",
      "65                38.0                36.0              358.0   \n",
      "66                67.0                57.0              365.0   \n",
      "67                46.0                42.0              320.0   \n",
      "\n",
      "    RS_E_OilPress_PC2  rs_e_rpm_pc1  rs_e_rpm_pc2  ...  RS_T_OilTemp_PC2  \\\n",
      "0               331.0        1888.0        1923.0  ...              92.0   \n",
      "1               317.0         189.0        1916.0  ...              89.0   \n",
      "2               189.0         794.0           0.0  ...              84.0   \n",
      "3                 3.0         278.0           0.0  ...              82.0   \n",
      "4               179.0         803.0         798.0  ...              92.0   \n",
      "..                ...           ...           ...  ...               ...   \n",
      "63              193.0         794.0         796.0  ...              89.0   \n",
      "64              455.0        1916.0        1991.0  ...              84.0   \n",
      "65              320.0        1701.0        1498.0  ...              98.0   \n",
      "66              372.0        1887.0        1822.0  ...              88.0   \n",
      "67              338.0        1655.0        1683.0  ...              84.0   \n",
      "\n",
      "       timestamps_floor  nearest_point_id        Lat       Lon  \\\n",
      "0   2023-08-15 11:00:00               143  51.181219  5.061351   \n",
      "1   2023-08-16 10:00:00               224  51.015487  5.348506   \n",
      "2   2023-08-20 15:00:00               142  51.172743  4.916521   \n",
      "3   2023-08-23 07:00:00               208  51.015628  3.775230   \n",
      "4   2023-08-10 13:00:00               223  51.050257  5.236593   \n",
      "..                  ...               ...        ...       ...   \n",
      "63  2023-06-04 14:00:00               247  50.953031  3.781030   \n",
      "64  2023-06-05 16:00:00               142  51.168564  4.962454   \n",
      "65  2023-05-20 16:00:00               247  50.919401  3.791549   \n",
      "66  2023-05-22 15:00:00               184  51.133095  5.239574   \n",
      "67  2023-05-19 13:00:00               147  51.238252  5.456693   \n",
      "\n",
      "                   Time  Temperature  Humidity Rain  outlier_type  \n",
      "0   2023-08-15 11:00:00         22.5      70.0  0.4           rmp  \n",
      "1   2023-08-16 10:00:00         22.0      71.0  0.0           rmp  \n",
      "2   2023-08-20 15:00:00         26.8      49.0  0.0           rmp  \n",
      "3   2023-08-23 07:00:00         15.6      96.0  0.0           rmp  \n",
      "4   2023-08-10 13:00:00         22.8      52.0  0.0           rmp  \n",
      "..                  ...          ...       ...  ...           ...  \n",
      "63  2023-06-04 14:00:00         22.8      31.0  0.0           rmp  \n",
      "64  2023-06-05 16:00:00         23.9      37.0  0.0           rmp  \n",
      "65  2023-05-20 16:00:00         18.7      54.0  0.0           rmp  \n",
      "66  2023-05-22 15:00:00         19.5      73.0  0.0           rmp  \n",
      "67  2023-05-19 13:00:00         18.4      43.0  0.0           rmp  \n",
      "\n",
      "[68 rows x 23 columns]\n"
     ]
    }
   ],
   "source": [
    "print(df2)"
   ]
  },
  {
   "cell_type": "code",
   "execution_count": 9,
   "id": "dca18d31",
   "metadata": {},
   "outputs": [],
   "source": [
    "df2.to_csv('/Users/narmina/Downloads/file.csv', index=False)"
   ]
  },
  {
   "cell_type": "markdown",
   "id": "cc998d52",
   "metadata": {},
   "source": [
    "We can see that 3212 rpm values are shown incorrectly for pc1. So, from here we can say that the sensors show wrong values for rpm or engines are not shutted down. "
   ]
  },
  {
   "cell_type": "markdown",
   "id": "905ab957",
   "metadata": {},
   "source": [
    "In order to find when these specific cases happen most, we can group those abnormal cases first by weeks of the day."
   ]
  },
  {
   "cell_type": "code",
   "execution_count": 10,
   "id": "96931a02",
   "metadata": {},
   "outputs": [
    {
     "name": "stdout",
     "output_type": "stream",
     "text": [
      "Query took 0.06337904930114746 seconds to run.\n"
     ]
    }
   ],
   "source": [
    "query3 = f\"\"\"\n",
    "SELECT \n",
    "    TO_CHAR(\"timestamps_UTC\"::timestamp, 'Day') AS day_of_week,\n",
    "    COUNT(\"rs_e_rpm_pc1\") AS rpm_count\n",
    "FROM \n",
    "    vehicle_data_enriched \n",
    "WHERE \n",
    "    \"rs_e_rpm_pc1\" <> 0 AND \n",
    "    (\n",
    "        (\"RS_E_InAirTemp_PC1\" > 65) or \n",
    "        (\"RS_E_WatTemp_PC1\" > 100) or \n",
    "        (\"RS_T_OilTemp_PC1\" > 115)\n",
    "    )\n",
    "GROUP BY \n",
    "    day_of_week\n",
    "ORDER BY rpm_count DESC\n",
    "\"\"\"\n",
    "\n",
    "# Start timing\n",
    "start_time = time.time()\n",
    "\n",
    "# Execute the query and fetch the data into a DataFrame\n",
    "df3 = pd.read_sql_query(query3, engine)\n",
    "\n",
    "# End timing\n",
    "end_time = time.time()\n",
    "print(f\"Query took {end_time - start_time} seconds to run.\")\n",
    "# Close the database connection\n",
    "engine.dispose()"
   ]
  },
  {
   "cell_type": "code",
   "execution_count": 11,
   "id": "878c8930",
   "metadata": {},
   "outputs": [
    {
     "name": "stdout",
     "output_type": "stream",
     "text": [
      "  day_of_week  rpm_count\n",
      "0   Sunday            14\n",
      "1   Monday            11\n",
      "2   Saturday          10\n",
      "3   Thursday          10\n",
      "4   Tuesday            9\n",
      "5   Wednesday          8\n",
      "6   Friday             6\n"
     ]
    }
   ],
   "source": [
    "print(df3)"
   ]
  },
  {
   "cell_type": "markdown",
   "id": "742217f8",
   "metadata": {},
   "source": [
    "We can observe that on Monday and Sunday anomaly cases for rpm values are the highest."
   ]
  },
  {
   "cell_type": "code",
   "execution_count": 12,
   "id": "75be74af",
   "metadata": {},
   "outputs": [
    {
     "data": {
      "image/png": "[encoded data removed]",
      "text/plain": [
       "<Figure size 1000x600 with 1 Axes>"
      ]
     },
     "metadata": {},
     "output_type": "display_data"
    }
   ],
   "source": [
    "# Plotting the data\n",
    "plt.figure(figsize=(10, 6))  # Set the figure size\n",
    "\n",
    "# Plotting a bar chart\n",
    "plt.bar(df3['day_of_week'], df3['rpm_count'], color='skyblue')\n",
    "\n",
    "# Adding labels and title\n",
    "plt.xlabel('Day of the Week')\n",
    "plt.ylabel('RPM Count')\n",
    "plt.title('RPM Count by Day of the Week')\n",
    "\n",
    "# Rotating x-axis labels for better visibility if necessary\n",
    "plt.xticks(rotation=45)\n",
    "\n",
    "# Show plot\n",
    "plt.tight_layout()\n",
    "plt.show()"
   ]
  },
  {
   "cell_type": "markdown",
   "id": "bc90a242",
   "metadata": {},
   "source": [
    "Now, let's see which months have most number of anomalies"
   ]
  },
  {
   "cell_type": "code",
   "execution_count": 13,
   "id": "772ff621",
   "metadata": {},
   "outputs": [
    {
     "name": "stdout",
     "output_type": "stream",
     "text": [
      "Query took 0.05147886276245117 seconds to run.\n"
     ]
    }
   ],
   "source": [
    "query4 = f\"\"\"\n",
    "SELECT \n",
    "    EXTRACT(MONTH FROM \"timestamps_UTC\"::timestamp) AS month_number,\n",
    "    CASE EXTRACT(MONTH FROM \"timestamps_UTC\"::timestamp)\n",
    "        WHEN 1 THEN 'January'\n",
    "        WHEN 2 THEN 'February'\n",
    "        WHEN 3 THEN 'March'\n",
    "        WHEN 4 THEN 'April'\n",
    "        WHEN 5 THEN 'May'\n",
    "        WHEN 6 THEN 'June'\n",
    "        WHEN 7 THEN 'July'\n",
    "        WHEN 8 THEN 'August'\n",
    "        WHEN 9 THEN 'September'\n",
    "        WHEN 10 THEN 'October'\n",
    "        WHEN 11 THEN 'November'\n",
    "        WHEN 12 THEN 'December'\n",
    "    END AS month_name,\n",
    "    COUNT(\"rs_e_rpm_pc1\") AS rpm_count\n",
    "FROM \n",
    "    vehicle_data_enriched \n",
    "WHERE \n",
    "    \"rs_e_rpm_pc1\" <> 0 AND \n",
    "    (\n",
    "        (\"RS_E_InAirTemp_PC1\" > 65) or \n",
    "        (\"RS_E_WatTemp_PC1\" > 100) or \n",
    "        (\"RS_T_OilTemp_PC1\" > 115)\n",
    "    )\n",
    "GROUP BY \n",
    "    month_number, month_name\n",
    "ORDER BY \n",
    "    rpm_count DESC;\n",
    "\"\"\"\n",
    "\n",
    "# Start timing\n",
    "start_time = time.time()\n",
    "\n",
    "# Execute the query and fetch the data into a DataFrame\n",
    "df4 = pd.read_sql_query(query4, engine)\n",
    "\n",
    "# End timing\n",
    "end_time = time.time()\n",
    "print(f\"Query took {end_time - start_time} seconds to run.\")\n",
    "# Close the database connection\n",
    "engine.dispose()"
   ]
  },
  {
   "cell_type": "code",
   "execution_count": 14,
   "id": "1d1e5bfc",
   "metadata": {},
   "outputs": [
    {
     "name": "stdout",
     "output_type": "stream",
     "text": [
      "   month_number month_name  rpm_count\n",
      "0           6.0       June         27\n",
      "1           5.0        May         20\n",
      "2           8.0     August         20\n",
      "3           9.0  September          1\n"
     ]
    }
   ],
   "source": [
    "print(df4)"
   ]
  },
  {
   "cell_type": "markdown",
   "id": "6d9a8fff",
   "metadata": {},
   "source": [
    "We can clearly see that anomaly cases happen most in summer months, especially in June and May"
   ]
  },
  {
   "cell_type": "code",
   "execution_count": 15,
   "id": "40522c35",
   "metadata": {},
   "outputs": [
    {
     "data": {
      "image/png": "[encoded data removed]",
      "text/plain": [
       "<Figure size 1000x600 with 1 Axes>"
      ]
     },
     "metadata": {},
     "output_type": "display_data"
    }
   ],
   "source": [
    "# Define a color palette with more similar tones for the bars\n",
    "colors = ['#1f78b4', '#33a02c', '#e31a1c', '#ff7f00', '#6a3d9a', '#b15928', '#a6cee3', '#b2df8a', '#fb9a99', '#fdbf6f', '#cab2d6', '#ffff99']\n",
    "\n",
    "# Plotting the data\n",
    "plt.figure(figsize=(10, 6))  # Set the figure size\n",
    "\n",
    "# Plotting a bar chart with custom colors\n",
    "plt.bar(df4['month_name'], df4['rpm_count'], color=colors)\n",
    "\n",
    "# Adding labels and title\n",
    "plt.xlabel('Month')\n",
    "plt.ylabel('RPM Count')\n",
    "plt.title('RPM Count by Month')\n",
    "\n",
    "# Rotating x-axis labels for better visibility\n",
    "plt.xticks(rotation=45)\n",
    "\n",
    "# Adding grid lines\n",
    "plt.grid(axis='y', linestyle='--', alpha=0.7)\n",
    "\n",
    "# Show plot\n",
    "plt.tight_layout()\n",
    "plt.show()"
   ]
  },
  {
   "cell_type": "markdown",
   "id": "bdb5065c",
   "metadata": {},
   "source": [
    "Now, let's make sure that the the pick season for anamly cases is Summer."
   ]
  },
  {
   "cell_type": "code",
   "execution_count": 16,
   "id": "a5841f38",
   "metadata": {},
   "outputs": [
    {
     "name": "stdout",
     "output_type": "stream",
     "text": [
      "Query took 0.05304527282714844 seconds to run.\n"
     ]
    }
   ],
   "source": [
    "query5 = f\"\"\"\n",
    "SELECT \n",
    "    CASE \n",
    "        WHEN EXTRACT(MONTH FROM \"timestamps_UTC\"::timestamp) BETWEEN 3 AND 5 THEN 'Spring'\n",
    "        WHEN EXTRACT(MONTH FROM \"timestamps_UTC\"::timestamp) BETWEEN 6 AND 8 THEN 'Summer'\n",
    "        WHEN EXTRACT(MONTH FROM \"timestamps_UTC\"::timestamp) BETWEEN 9 AND 11 THEN 'Autumn'\n",
    "        ELSE 'Winter'\n",
    "    END AS season,\n",
    "    COUNT(\"rs_e_rpm_pc1\") AS rpm_count\n",
    "FROM \n",
    "    vehicle_data_enriched \n",
    "WHERE \n",
    "    \"rs_e_rpm_pc1\" <> 0 AND \n",
    "    (\n",
    "        (\"RS_E_InAirTemp_PC1\" > 65) or \n",
    "        (\"RS_E_WatTemp_PC1\" > 100) or \n",
    "        (\"RS_T_OilTemp_PC1\" > 115)\n",
    "    )\n",
    "GROUP BY \n",
    "    season\n",
    "ORDER BY rpm_count DESC;\n",
    "\"\"\"\n",
    "\n",
    "# Start timing\n",
    "start_time = time.time()\n",
    "\n",
    "# Execute the query and fetch the data into a DataFrame\n",
    "df5 = pd.read_sql_query(query5, engine)\n",
    "\n",
    "# End timing\n",
    "end_time = time.time()\n",
    "print(f\"Query took {end_time - start_time} seconds to run.\")\n",
    "# Close the database connection\n",
    "engine.dispose()"
   ]
  },
  {
   "cell_type": "code",
   "execution_count": 17,
   "id": "edd5e61e",
   "metadata": {},
   "outputs": [
    {
     "name": "stdout",
     "output_type": "stream",
     "text": [
      "   season  rpm_count\n",
      "0  Summer         47\n",
      "1  Spring         20\n",
      "2  Autumn          1\n"
     ]
    }
   ],
   "source": [
    "print(df5)"
   ]
  },
  {
   "cell_type": "code",
   "execution_count": 18,
   "id": "8769c7b8",
   "metadata": {},
   "outputs": [
    {
     "data": {
      "image/png": "[encoded data removed]",
      "text/plain": [
       "<Figure size 800x600 with 1 Axes>"
      ]
     },
     "metadata": {},
     "output_type": "display_data"
    }
   ],
   "source": [
    "# Define colors associated with each season for the pie chart\n",
    "colors = ['#228B22', '#FFC0CB', '#4682B4', '#FFA500']  # Green, Pink, Blue, Orange\n",
    "\n",
    "# Plotting the data\n",
    "plt.figure(figsize=(8, 6))  # Set the figure size\n",
    "\n",
    "# Create a pie chart with season-wise colors\n",
    "plt.pie(df5['rpm_count'], labels=df5['season'], colors=colors, autopct='%1.1f%%', startangle=140)\n",
    "\n",
    "# Adding title\n",
    "plt.title('RPM Count Distribution by Season')\n",
    "\n",
    "# Show plot\n",
    "plt.tight_layout()\n",
    "plt.axis('equal')  # Equal aspect ratio ensures that pie is drawn as a circle\n",
    "plt.show()\n"
   ]
  },
  {
   "cell_type": "markdown",
   "id": "cf92863c",
   "metadata": {},
   "source": [
    "Now we are sure that in Summer there are the most anomalies with rpm values for pc1."
   ]
  },
  {
   "cell_type": "markdown",
   "id": "d48cde67",
   "metadata": {},
   "source": [
    "Let's check the same for pc2. We start with checking if any values of rpm is different than 0 when temperature values exceed the thresholds."
   ]
  },
  {
   "cell_type": "code",
   "execution_count": 19,
   "id": "2043b148",
   "metadata": {},
   "outputs": [
    {
     "name": "stdout",
     "output_type": "stream",
     "text": [
      "Query took 0.08037781715393066 seconds to run.\n"
     ]
    }
   ],
   "source": [
    "# Define the query with placeholders for parameters\n",
    "query6 = f\"\"\"\n",
    "SELECT *, 'rmp' AS outlier_type\n",
    "FROM vehicle_data_enriched where         \n",
    "(\"RS_E_InAirTemp_PC2\" > 65) or \n",
    "(\"RS_E_WatTemp_PC2\" > 100) or \n",
    "(\"RS_T_OilTemp_PC2\" > 115);\n",
    "\"\"\"\n",
    "\n",
    "# Start timing\n",
    "start_time = time.time()\n",
    "\n",
    "# Execute the query and fetch the data into a DataFrame\n",
    "df6 = pd.read_sql_query(query6, engine)\n",
    "\n",
    "# End timing\n",
    "end_time = time.time()\n",
    "print(f\"Query took {end_time - start_time} seconds to run.\")\n",
    "# Close the database connection\n",
    "engine.dispose()"
   ]
  },
  {
   "cell_type": "code",
   "execution_count": 20,
   "id": "212fa804",
   "metadata": {},
   "outputs": [
    {
     "name": "stdout",
     "output_type": "stream",
     "text": [
      "      mapped_veh_id       timestamps_UTC        lat       lon  \\\n",
      "0             170.0  2023-08-02 06:40:54  51.040250  3.693570   \n",
      "1             166.0  2023-08-01 21:51:54  51.013072  3.780722   \n",
      "2             112.0  2023-08-09 16:32:27  50.851310  3.601335   \n",
      "3             143.0  2023-08-10 10:35:41  51.023376  3.758922   \n",
      "4             122.0  2023-08-10 11:16:35  51.040146  3.692775   \n",
      "...             ...                  ...        ...       ...   \n",
      "1022          128.0  2023-09-06 16:13:13  51.172308  4.921356   \n",
      "1023          142.0  2023-09-06 22:53:26  51.189488  5.108764   \n",
      "1024          117.0  2023-09-07 12:08:20  51.015642  3.775553   \n",
      "1025          117.0  2023-09-08 09:29:38  51.014937  3.777092   \n",
      "1026          150.0  2023-09-07 22:06:33  51.015695  3.775302   \n",
      "\n",
      "      RS_E_InAirTemp_PC1  RS_E_InAirTemp_PC2  RS_E_OilPress_PC1  \\\n",
      "0                   62.0                68.0                3.0   \n",
      "1                   53.0                70.0                6.0   \n",
      "2                   41.0                66.0              286.0   \n",
      "3                   39.0                69.0              241.0   \n",
      "4                   36.0                68.0              182.0   \n",
      "...                  ...                 ...                ...   \n",
      "1022                43.0                90.0              203.0   \n",
      "1023                63.0                67.0                6.0   \n",
      "1024                69.0                70.0                3.0   \n",
      "1025                70.0                70.0                3.0   \n",
      "1026                36.0                70.0              300.0   \n",
      "\n",
      "      RS_E_OilPress_PC2  rs_e_rpm_pc1  rs_e_rpm_pc2  ...  RS_T_OilTemp_PC2  \\\n",
      "0                   0.0           0.0           0.0  ...              79.0   \n",
      "1                   0.0           0.0           0.0  ...              76.0   \n",
      "2                   3.0         800.0           0.0  ...              71.0   \n",
      "3                   3.0         794.0           0.0  ...              70.0   \n",
      "4                   3.0         797.0           0.0  ...              66.0   \n",
      "...                 ...           ...           ...  ...               ...   \n",
      "1022                3.0         814.0           0.0  ...              92.0   \n",
      "1023                3.0           0.0           0.0  ...              77.0   \n",
      "1024                0.0           0.0           0.0  ...              83.0   \n",
      "1025                3.0           0.0           0.0  ...              85.0   \n",
      "1026                3.0         799.0           0.0  ...              76.0   \n",
      "\n",
      "         timestamps_floor  nearest_point_id        Lat       Lon  \\\n",
      "0     2023-08-02 06:00:00               207  51.040250  3.693570   \n",
      "1     2023-08-01 21:00:00               208  51.013072  3.780722   \n",
      "2     2023-08-09 16:00:00               284  50.851310  3.601335   \n",
      "3     2023-08-10 10:00:00               208  51.023376  3.758922   \n",
      "4     2023-08-10 11:00:00               207  51.040146  3.692775   \n",
      "...                   ...               ...        ...       ...   \n",
      "1022  2023-09-06 16:00:00               142  51.172308  4.921356   \n",
      "1023  2023-09-06 22:00:00               143  51.189488  5.108764   \n",
      "1024  2023-09-07 12:00:00               208  51.015642  3.775553   \n",
      "1025  2023-09-08 09:00:00               208  51.014937  3.777092   \n",
      "1026  2023-09-07 22:00:00               208  51.015695  3.775302   \n",
      "\n",
      "                     Time  Temperature  Humidity Rain  outlier_type  \n",
      "0     2023-08-02 06:00:00         16.8      93.0  1.0           rmp  \n",
      "1     2023-08-01 21:00:00         16.8      82.0  0.0           rmp  \n",
      "2     2023-08-09 16:00:00         20.2      48.0  0.0           rmp  \n",
      "3     2023-08-10 10:00:00         21.6      54.0  0.0           rmp  \n",
      "4     2023-08-10 11:00:00         22.6      53.0  0.0           rmp  \n",
      "...                   ...          ...       ...  ...           ...  \n",
      "1022  2023-09-06 16:00:00         28.3      56.0  0.0           rmp  \n",
      "1023  2023-09-06 22:00:00         19.7      72.0  0.0           rmp  \n",
      "1024  2023-09-07 12:00:00         28.1      47.0  0.0           rmp  \n",
      "1025  2023-09-08 09:00:00         24.7      71.0  0.0           rmp  \n",
      "1026  2023-09-07 22:00:00         19.9      88.0  0.0           rmp  \n",
      "\n",
      "[1027 rows x 23 columns]\n"
     ]
    }
   ],
   "source": [
    "print(df6)"
   ]
  },
  {
   "cell_type": "markdown",
   "id": "f7ebaa73",
   "metadata": {},
   "source": [
    "We can clearly see that in pc2 there are also anomalies in rpm values. Now let's check if there is any specific pattern follows these anomaly cases."
   ]
  },
  {
   "cell_type": "code",
   "execution_count": 21,
   "id": "1ccf5529",
   "metadata": {},
   "outputs": [
    {
     "name": "stdout",
     "output_type": "stream",
     "text": [
      "No specific pattern found in index differences.\n"
     ]
    }
   ],
   "source": [
    "non_zero_indices = df6.index[df6['rs_e_rpm_pc2'] != 0].tolist()\n",
    "\n",
    "# Calculate differences between consecutive non-zero indices\n",
    "index_differences = [j - i for i, j in zip(non_zero_indices[:-1], non_zero_indices[1:])]\n",
    "\n",
    "# Check if there is any pattern in index differences\n",
    "if len(set(index_differences)) == 1:\n",
    "    print(f\"There is a pattern in the index differences: {index_differences[0]}\")\n",
    "else:\n",
    "    print(\"No specific pattern found in index differences.\")"
   ]
  },
  {
   "cell_type": "markdown",
   "id": "10cc1e71",
   "metadata": {},
   "source": [
    "We found no specific patterns, so we can continue with counting anomaly cases for pc2."
   ]
  },
  {
   "cell_type": "code",
   "execution_count": 22,
   "id": "119e66c0",
   "metadata": {},
   "outputs": [
    {
     "name": "stdout",
     "output_type": "stream",
     "text": [
      "Query took 0.06069779396057129 seconds to run.\n"
     ]
    }
   ],
   "source": [
    "# Define the query with placeholders for parameters\n",
    "query7 = f\"\"\"\n",
    "SELECT *, 'rmp' AS outlier_type\n",
    "FROM vehicle_data_enriched where \"rs_e_rpm_pc2\"<>0 and \n",
    "(        \n",
    "        (\"RS_E_InAirTemp_PC2\" > 65) or \n",
    "        (\"RS_E_WatTemp_PC2\" > 100) or \n",
    "        (\"RS_T_OilTemp_PC2\" > 115)\n",
    ");\n",
    "\"\"\"\n",
    "\n",
    "# Start timing\n",
    "start_time = time.time()\n",
    "\n",
    "# Execute the query and fetch the data into a DataFrame\n",
    "df7 = pd.read_sql_query(query7, engine)\n",
    "\n",
    "# End timing\n",
    "end_time = time.time()\n",
    "print(f\"Query took {end_time - start_time} seconds to run.\")\n",
    "# Close the database connection\n",
    "engine.dispose()"
   ]
  },
  {
   "cell_type": "code",
   "execution_count": 23,
   "id": "bdc60fe6",
   "metadata": {},
   "outputs": [
    {
     "name": "stdout",
     "output_type": "stream",
     "text": [
      "    mapped_veh_id       timestamps_UTC        lat       lon  \\\n",
      "0           114.0  2023-06-20 16:25:10  51.033847  5.328631   \n",
      "1           170.0  2023-06-14 17:01:25  51.074541  3.819753   \n",
      "2           114.0  2023-06-14 18:14:56  51.162152  5.178867   \n",
      "3           114.0  2023-06-15 16:10:46  51.169441  4.952769   \n",
      "4           114.0  2023-06-14 18:31:24  51.041773  5.257927   \n",
      "5           114.0  2023-06-13 17:19:13  50.995183  5.348533   \n",
      "6           103.0  2023-06-16 10:51:41  50.505953  4.235119   \n",
      "7           197.0  2023-06-12 15:15:23  50.493232  4.264886   \n",
      "8           114.0  2023-06-15 07:38:38  51.213183  5.355031   \n",
      "9           114.0  2023-06-20 12:31:32  51.042129  5.257052   \n",
      "10          114.0  2023-06-15 08:51:49  51.147250  4.525949   \n",
      "11          114.0  2023-06-16 06:44:50  51.205252  5.248726   \n",
      "12          114.0  2023-06-15 16:11:41  51.171663  4.928425   \n",
      "13          114.0  2023-06-15 19:37:41  51.213802  5.372432   \n",
      "14          185.0  2023-06-09 09:45:24  50.960953  5.340841   \n",
      "15          175.0  2023-06-01 06:00:07  51.175671  5.029709   \n",
      "16          163.0  2023-05-19 09:30:59  51.053840  5.230538   \n",
      "17          123.0  2023-05-22 20:47:05  51.035327  5.312968   \n",
      "18          175.0  2023-05-27 18:12:25  51.033668  5.330388   \n",
      "19          123.0  2023-05-22 15:42:03  51.038298  5.281151   \n",
      "20          185.0  2023-05-22 14:06:36  51.187459  5.096730   \n",
      "21          123.0  2023-05-22 15:52:07  51.038298  5.281151   \n",
      "22          172.0  2023-09-08 14:19:19  51.159664  5.183882   \n",
      "23          134.0  2023-06-02 12:38:21  51.109090  5.249658   \n",
      "24          139.0  2023-06-11 10:14:51  50.940370  3.635424   \n",
      "25          114.0  2023-06-14 08:35:04  51.166495  4.757424   \n",
      "26          114.0  2023-06-14 14:20:07  51.164535  5.174040   \n",
      "27          114.0  2023-06-14 14:32:11  51.070637  5.230687   \n",
      "28          175.0  2023-06-05 09:56:24  51.172213  4.922757   \n",
      "29          175.0  2023-06-01 05:54:10  51.169885  4.948317   \n",
      "30          172.0  2023-06-19 15:54:33  50.974047  5.346306   \n",
      "31          170.0  2023-06-14 17:01:29  51.074025  3.817465   \n",
      "32          114.0  2023-06-13 09:16:49  50.995658  5.348509   \n",
      "33          175.0  2023-05-27 08:58:20  51.041378  5.258952   \n",
      "34          175.0  2023-05-27 16:08:15  51.033740  5.329780   \n",
      "35          175.0  2023-05-27 18:02:18  51.052346  5.232529   \n",
      "36          185.0  2023-05-13 10:03:26  51.081016  5.232809   \n",
      "37          175.0  2023-05-27 11:02:20  51.058095  5.228282   \n",
      "38          175.0  2023-05-27 14:34:20  50.930619  5.327733   \n",
      "39          163.0  2023-05-19 09:27:06  51.039585  5.267265   \n",
      "40          175.0  2023-05-27 18:16:26  50.995339  5.348525   \n",
      "41          172.0  2023-09-08 15:33:53  51.065074  5.229424   \n",
      "42          170.0  2023-06-14 11:16:19  50.838306  3.816151   \n",
      "43          114.0  2023-06-13 11:39:25  51.033773  5.329499   \n",
      "44          139.0  2023-06-12 16:43:52  50.756259  3.628954   \n",
      "45          114.0  2023-06-14 09:52:17  51.172286  4.921913   \n",
      "46          170.0  2023-06-14 10:32:15  50.927599  3.782632   \n",
      "47          114.0  2023-06-20 16:56:31  51.174962  5.152872   \n",
      "48          172.0  2023-06-21 17:45:29  50.990782  5.348766   \n",
      "49          114.0  2023-06-20 13:18:12  50.997607  5.348435   \n",
      "50          114.0  2023-06-20 16:57:12  51.182873  5.142102   \n",
      "51          170.0  2023-06-15 10:52:07  50.870873  3.623835   \n",
      "52          170.0  2023-06-15 10:50:22  50.882877  3.629996   \n",
      "53          175.0  2023-05-27 15:05:22  51.088807  5.234585   \n",
      "54          123.0  2023-05-13 12:02:01  51.038228  5.281792   \n",
      "55          134.0  2023-05-27 09:20:45  51.192806  5.129908   \n",
      "56          151.0  2023-05-28 12:43:01  50.868727  3.814688   \n",
      "57          185.0  2023-05-19 17:17:54  51.180403  5.056713   \n",
      "58          163.0  2023-05-19 09:27:46  51.043954  5.252180   \n",
      "\n",
      "    RS_E_InAirTemp_PC1  RS_E_InAirTemp_PC2  RS_E_OilPress_PC1  \\\n",
      "0                 41.0                66.0         380.500000   \n",
      "1                 46.0                67.0         338.000000   \n",
      "2                 49.0                66.0         376.000000   \n",
      "3                 48.0                70.0         376.000000   \n",
      "4                 48.0                67.0         372.000000   \n",
      "5                 48.0                67.0         379.000000   \n",
      "6                 38.0                68.0         231.000000   \n",
      "7                 50.0                66.0         327.000000   \n",
      "8                 40.0                67.0         396.000000   \n",
      "9                 53.0                66.0         372.000000   \n",
      "10                45.0                67.0         376.000000   \n",
      "11                42.0                66.0         389.000000   \n",
      "12                46.0                67.0         372.000000   \n",
      "13                43.0                66.0         389.000000   \n",
      "14                48.0                68.0         175.000000   \n",
      "15                35.0                66.0         282.000000   \n",
      "16                39.0                66.0         341.000000   \n",
      "17                53.0                66.0           3.000000   \n",
      "18                34.0                67.0         407.000000   \n",
      "19                71.0                67.0           3.000000   \n",
      "20                34.0                66.0         179.000000   \n",
      "21                75.0                67.0           3.000000   \n",
      "22                36.0                70.0           0.000000   \n",
      "23                38.0                47.0           3.000000   \n",
      "24                47.0                66.0         217.000000   \n",
      "25                47.0                66.0         407.000000   \n",
      "26                53.0                66.0         348.000000   \n",
      "27                51.0                67.0         372.000000   \n",
      "28                43.0                66.0         355.000000   \n",
      "29                37.0                67.0         365.000000   \n",
      "30                48.0                63.0         162.000000   \n",
      "31                45.0                67.0         334.000000   \n",
      "32                47.0                67.0         396.000000   \n",
      "33                47.0                66.0         365.000000   \n",
      "34                36.0                67.0         341.000000   \n",
      "35                37.0                66.0         379.000000   \n",
      "36                66.0                67.0          30.333333   \n",
      "37                53.0                69.0         331.000000   \n",
      "38                38.0                75.5         214.750000   \n",
      "39                41.0                66.0         341.000000   \n",
      "40                36.0                68.0         382.000000   \n",
      "41                37.0                66.0           0.000000   \n",
      "42                51.0                67.0         279.000000   \n",
      "43                53.0                70.0         203.000000   \n",
      "44                50.0                66.0         410.000000   \n",
      "45                50.0                66.0         379.000000   \n",
      "46                43.0                66.0         307.000000   \n",
      "47                45.0                67.0         369.000000   \n",
      "48                46.0                61.0         175.000000   \n",
      "49                48.0                68.0         369.000000   \n",
      "50                41.0                66.0         369.000000   \n",
      "51                38.0                67.0         172.000000   \n",
      "52                40.0                69.0         172.000000   \n",
      "53                47.0                66.0         196.000000   \n",
      "54                47.0                53.0         172.000000   \n",
      "55                38.0                37.0         276.000000   \n",
      "56                33.0                71.0         186.000000   \n",
      "57                40.0                68.0         331.000000   \n",
      "58                38.0                66.0         365.000000   \n",
      "\n",
      "    RS_E_OilPress_PC2  rs_e_rpm_pc1  rs_e_rpm_pc2  ...  RS_T_OilTemp_PC2  \\\n",
      "0          367.000000   1498.500000   1574.500000  ...         85.000000   \n",
      "1          386.000000   1872.000000   1845.000000  ...         92.000000   \n",
      "2          355.000000   1649.000000   1671.000000  ...         87.000000   \n",
      "3          351.000000   1920.000000   1935.000000  ...         85.000000   \n",
      "4          358.000000   1656.000000   1680.000000  ...         86.000000   \n",
      "5          348.000000   1726.000000   1428.000000  ...         87.000000   \n",
      "6           13.000000    799.000000    178.000000  ...         76.000000   \n",
      "7          420.000000   1893.000000   1844.000000  ...         92.000000   \n",
      "8          372.000000   1957.000000   1963.000000  ...         82.000000   \n",
      "9          341.000000   1725.000000   1743.000000  ...         84.000000   \n",
      "10         379.000000   1911.000000   1935.000000  ...         82.000000   \n",
      "11         365.000000   1989.000000   1941.000000  ...         84.000000   \n",
      "12         351.000000   1905.000000   1914.000000  ...         84.000000   \n",
      "13         376.000000   1852.000000   1857.000000  ...         82.000000   \n",
      "14         210.000000    794.000000   1053.000000  ...         85.000000   \n",
      "15         251.000000    916.000000    786.000000  ...         87.000000   \n",
      "16         410.000000   1928.000000   1832.000000  ...         93.000000   \n",
      "17         272.000000      0.000000   1053.000000  ...         98.000000   \n",
      "18         431.000000   1872.000000   1707.000000  ...         89.000000   \n",
      "19         300.000000      0.000000   1294.000000  ...         99.000000   \n",
      "20         207.000000    801.000000    805.000000  ...         79.000000   \n",
      "21         307.000000      0.000000   1610.000000  ...        103.000000   \n",
      "22         331.000000      0.000000   1666.000000  ...        104.000000   \n",
      "23         317.000000      0.000000   1496.000000  ...         99.000000   \n",
      "24         193.000000    801.000000    796.000000  ...         87.000000   \n",
      "25         382.000000   2037.000000   2041.000000  ...         83.000000   \n",
      "26         334.000000   1460.000000   1491.000000  ...         89.000000   \n",
      "27         351.000000   1645.000000   1672.000000  ...         88.000000   \n",
      "28         417.000000   1736.000000   1771.000000  ...         90.000000   \n",
      "29         424.000000   1635.000000   1663.000000  ...         85.000000   \n",
      "30         165.000000    795.000000    798.000000  ...        106.000000   \n",
      "31         382.000000   1877.000000   1854.000000  ...         89.000000   \n",
      "32         365.000000   1856.000000   1653.000000  ...         88.000000   \n",
      "33         448.000000   1931.000000   1980.000000  ...         88.000000   \n",
      "34         224.000000   1035.000000    809.000000  ...         89.000000   \n",
      "35         420.000000   1497.000000   1497.000000  ...         90.000000   \n",
      "36          36.333333     26.666667     46.666667  ...         79.666667   \n",
      "37         403.000000   1508.000000   1517.000000  ...         91.000000   \n",
      "38          25.500000    792.750000    190.250000  ...         79.000000   \n",
      "39         410.000000   1699.000000   1772.000000  ...         92.000000   \n",
      "40         427.000000   1502.000000   1499.000000  ...         88.000000   \n",
      "41         351.000000      0.000000   1783.000000  ...         93.000000   \n",
      "42         365.000000   1495.000000   1465.000000  ...         94.000000   \n",
      "43          27.000000    800.500000    445.500000  ...         80.500000   \n",
      "44         372.000000   1502.000000   1503.000000  ...         89.000000   \n",
      "45         351.000000   1746.000000   1769.000000  ...         84.000000   \n",
      "46         382.000000   1719.000000   1900.000000  ...         98.000000   \n",
      "47         343.000000   1718.500000   1739.500000  ...         87.000000   \n",
      "48         210.000000    838.000000    813.000000  ...        106.000000   \n",
      "49         338.000000   1613.000000   1349.000000  ...         84.000000   \n",
      "50         355.000000   1499.000000   1499.000000  ...         89.000000   \n",
      "51         210.000000    803.000000    797.000000  ...         90.000000   \n",
      "52         196.000000    803.000000    798.000000  ...         92.000000   \n",
      "53         238.000000    803.000000    797.000000  ...         84.000000   \n",
      "54         162.000000    798.000000    801.000000  ...        104.000000   \n",
      "55         213.000000    822.000000    830.000000  ...        100.000000   \n",
      "56          13.000000    791.000000    246.000000  ...        104.000000   \n",
      "57         414.000000   1938.000000   1936.000000  ...         77.000000   \n",
      "58         417.000000   1499.000000   1502.000000  ...         89.000000   \n",
      "\n",
      "       timestamps_floor  nearest_point_id        Lat       Lon  \\\n",
      "0   2023-06-20 16:00:00               224  51.033847  5.328631   \n",
      "1   2023-06-14 17:00:00               170  51.074541  3.819753   \n",
      "2   2023-06-14 18:00:00               144  51.162152  5.178867   \n",
      "3   2023-06-15 16:00:00               142  51.169441  4.952769   \n",
      "4   2023-06-14 18:00:00               223  51.041773  5.257927   \n",
      "5   2023-06-13 17:00:00               224  50.995183  5.348533   \n",
      "6   2023-06-16 10:00:00               408  50.505953  4.235119   \n",
      "7   2023-06-12 15:00:00               408  50.493232  4.264886   \n",
      "8   2023-06-15 07:00:00               146  51.213183  5.355031   \n",
      "9   2023-06-20 12:00:00               223  51.042129  5.257052   \n",
      "10  2023-06-15 08:00:00               177  51.147250  4.525949   \n",
      "11  2023-06-16 06:00:00               145  51.205252  5.248726   \n",
      "12  2023-06-15 16:00:00               142  51.171663  4.928425   \n",
      "13  2023-06-15 19:00:00               146  51.213802  5.372432   \n",
      "14  2023-06-09 09:00:00               224  50.960953  5.340841   \n",
      "15  2023-06-01 06:00:00               143  51.175671  5.029709   \n",
      "16  2023-05-19 09:00:00               223  51.053840  5.230538   \n",
      "17  2023-05-22 20:00:00               224  51.035327  5.312968   \n",
      "18  2023-05-27 18:00:00               224  51.033668  5.330388   \n",
      "19  2023-05-22 15:00:00               223  51.038298  5.281151   \n",
      "20  2023-05-22 14:00:00               143  51.187459  5.096730   \n",
      "21  2023-05-22 15:00:00               223  51.038298  5.281151   \n",
      "22  2023-09-08 14:00:00               183  51.159664  5.183882   \n",
      "23  2023-06-02 12:00:00               184  51.109090  5.249658   \n",
      "24  2023-06-11 10:00:00               246  50.940370  3.635424   \n",
      "25  2023-06-14 08:00:00               140  51.166495  4.757424   \n",
      "26  2023-06-14 14:00:00               144  51.164535  5.174040   \n",
      "27  2023-06-14 14:00:00               184  51.070637  5.230687   \n",
      "28  2023-06-05 09:00:00               142  51.172213  4.922757   \n",
      "29  2023-06-01 05:00:00               142  51.169885  4.948317   \n",
      "30  2023-06-19 15:00:00               224  50.974047  5.346306   \n",
      "31  2023-06-14 17:00:00               170  51.074025  3.817465   \n",
      "32  2023-06-13 09:00:00               224  50.995658  5.348509   \n",
      "33  2023-05-27 08:00:00               223  51.041378  5.258952   \n",
      "34  2023-05-27 16:00:00               224  51.033740  5.329780   \n",
      "35  2023-05-27 18:00:00               223  51.052346  5.232529   \n",
      "36  2023-05-13 10:00:00               184  51.081016  5.232809   \n",
      "37  2023-05-27 11:00:00               223  51.058095  5.228282   \n",
      "38  2023-05-27 14:00:00               263  50.930619  5.327733   \n",
      "39  2023-05-19 09:00:00               223  51.039585  5.267265   \n",
      "40  2023-05-27 18:00:00               224  50.995339  5.348525   \n",
      "41  2023-09-08 15:00:00               184  51.065074  5.229424   \n",
      "42  2023-06-14 11:00:00               287  50.838306  3.816151   \n",
      "43  2023-06-13 11:00:00               224  51.033773  5.329499   \n",
      "44  2023-06-12 16:00:00               324  50.756259  3.628954   \n",
      "45  2023-06-14 09:00:00               142  51.172286  4.921913   \n",
      "46  2023-06-14 10:00:00               247  50.927599  3.782632   \n",
      "47  2023-06-20 16:00:00               144  51.174962  5.152872   \n",
      "48  2023-06-21 17:00:00               224  50.990782  5.348766   \n",
      "49  2023-06-20 13:00:00               224  50.997607  5.348435   \n",
      "50  2023-06-20 16:00:00               144  51.182873  5.142102   \n",
      "51  2023-06-15 10:00:00               246  50.870873  3.623835   \n",
      "52  2023-06-15 10:00:00               246  50.882877  3.629996   \n",
      "53  2023-05-27 15:00:00               184  51.088807  5.234585   \n",
      "54  2023-05-13 12:00:00               223  51.038228  5.281792   \n",
      "55  2023-05-27 09:00:00               144  51.192806  5.129908   \n",
      "56  2023-05-28 12:00:00               248  50.868727  3.814688   \n",
      "57  2023-05-19 17:00:00               143  51.180403  5.056713   \n",
      "58  2023-05-19 09:00:00               223  51.043954  5.252180   \n",
      "\n",
      "                   Time  Temperature  Humidity Rain  outlier_type  \n",
      "0   2023-06-20 16:00:00         26.7      59.0  1.1           rmp  \n",
      "1   2023-06-14 17:00:00         26.0      28.0  0.0           rmp  \n",
      "2   2023-06-14 18:00:00         24.2      33.0  0.0           rmp  \n",
      "3   2023-06-15 16:00:00         26.1      33.0  0.0           rmp  \n",
      "4   2023-06-14 18:00:00         24.4      32.0  0.0           rmp  \n",
      "5   2023-06-13 17:00:00         27.7      27.0  0.0           rmp  \n",
      "6   2023-06-16 10:00:00         23.8      41.0  0.0           rmp  \n",
      "7   2023-06-12 15:00:00         28.2      29.0  0.0           rmp  \n",
      "8   2023-06-15 07:00:00         20.4      55.0  0.0           rmp  \n",
      "9   2023-06-20 12:00:00         29.5      43.0  0.0           rmp  \n",
      "10  2023-06-15 08:00:00         22.6      46.0  0.0           rmp  \n",
      "11  2023-06-16 06:00:00         17.9      61.0  0.0           rmp  \n",
      "12  2023-06-15 16:00:00         26.1      33.0  0.0           rmp  \n",
      "13  2023-06-15 19:00:00         23.8      33.0  0.0           rmp  \n",
      "14  2023-06-09 09:00:00         25.3      48.0  0.0           rmp  \n",
      "15  2023-06-01 06:00:00         11.2      82.0  0.0           rmp  \n",
      "16  2023-05-19 09:00:00         15.2      56.0  0.0           rmp  \n",
      "17  2023-05-22 20:00:00         15.4      88.0  0.0           rmp  \n",
      "18  2023-05-27 18:00:00         20.4      47.0  0.0           rmp  \n",
      "19  2023-05-22 15:00:00         19.3      73.0  0.1           rmp  \n",
      "20  2023-05-22 14:00:00         19.4      74.0  0.1           rmp  \n",
      "21  2023-05-22 15:00:00         19.3      73.0  0.1           rmp  \n",
      "22  2023-09-08 14:00:00         29.0      53.0  0.0           rmp  \n",
      "23  2023-06-02 12:00:00         16.9      48.0  0.0           rmp  \n",
      "24  2023-06-11 10:00:00         28.2      46.0  0.0           rmp  \n",
      "25  2023-06-14 08:00:00         22.4      43.0  0.0           rmp  \n",
      "26  2023-06-14 14:00:00         25.8      28.0  0.0           rmp  \n",
      "27  2023-06-14 14:00:00         25.5      28.0  0.0           rmp  \n",
      "28  2023-06-05 09:00:00         18.6      58.0  0.0           rmp  \n",
      "29  2023-06-01 05:00:00         10.2      89.0  0.0           rmp  \n",
      "30  2023-06-19 15:00:00         25.6      42.0  0.0           rmp  \n",
      "31  2023-06-14 17:00:00         26.0      28.0  0.0           rmp  \n",
      "32  2023-06-13 09:00:00         25.0      36.0  0.0           rmp  \n",
      "33  2023-05-27 08:00:00         14.1      67.0  0.0           rmp  \n",
      "34  2023-05-27 16:00:00         21.9      40.0  0.0           rmp  \n",
      "35  2023-05-27 18:00:00         20.5      47.0  0.0           rmp  \n",
      "36  2023-05-13 10:00:00         19.1      63.0  0.0           rmp  \n",
      "37  2023-05-27 11:00:00         19.7      48.0  0.0           rmp  \n",
      "38  2023-05-27 14:00:00         21.9      39.0  0.0           rmp  \n",
      "39  2023-05-19 09:00:00         15.2      56.0  0.0           rmp  \n",
      "40  2023-05-27 18:00:00         20.4      47.0  0.0           rmp  \n",
      "41  2023-09-08 15:00:00         28.9      54.0  0.0           rmp  \n",
      "42  2023-06-14 11:00:00         26.0      31.0  0.0           rmp  \n",
      "43  2023-06-13 11:00:00         27.5      28.0  0.0           rmp  \n",
      "44  2023-06-12 16:00:00         28.7      28.0  0.0           rmp  \n",
      "45  2023-06-14 09:00:00         23.8      34.0  0.0           rmp  \n",
      "46  2023-06-14 10:00:00         25.6      30.0  0.0           rmp  \n",
      "47  2023-06-20 16:00:00         23.3      77.0  6.0           rmp  \n",
      "48  2023-06-21 17:00:00         25.5      46.0  0.0           rmp  \n",
      "49  2023-06-20 13:00:00         29.3      41.0  0.0           rmp  \n",
      "50  2023-06-20 16:00:00         23.3      77.0  6.0           rmp  \n",
      "51  2023-06-15 10:00:00         24.6      38.0  0.0           rmp  \n",
      "52  2023-06-15 10:00:00         24.6      38.0  0.0           rmp  \n",
      "53  2023-05-27 15:00:00         21.7      39.0  0.0           rmp  \n",
      "54  2023-05-13 12:00:00         21.8      48.0  0.0           rmp  \n",
      "55  2023-05-27 09:00:00         15.7      64.0  0.0           rmp  \n",
      "56  2023-05-28 12:00:00         22.0      45.0  0.0           rmp  \n",
      "57  2023-05-19 17:00:00         17.8      48.0  0.0           rmp  \n",
      "58  2023-05-19 09:00:00         15.2      56.0  0.0           rmp  \n",
      "\n",
      "[59 rows x 23 columns]\n"
     ]
    }
   ],
   "source": [
    "print(df7)"
   ]
  },
  {
   "cell_type": "code",
   "execution_count": 24,
   "id": "1c9d9221",
   "metadata": {},
   "outputs": [],
   "source": [
    "df7.to_csv('/Users/narmina/Downloads/file.csv', index=False)"
   ]
  },
  {
   "cell_type": "markdown",
   "id": "174bdf8a",
   "metadata": {},
   "source": [
    "We can see that there are 3000 anomaly cases"
   ]
  },
  {
   "cell_type": "markdown",
   "id": "57795f50",
   "metadata": {},
   "source": [
    "Now let's see the anmolies according to the days of week, months, and seasons."
   ]
  },
  {
   "cell_type": "code",
   "execution_count": 25,
   "id": "c5ce732d",
   "metadata": {},
   "outputs": [
    {
     "name": "stdout",
     "output_type": "stream",
     "text": [
      "Query took 0.06159615516662598 seconds to run.\n"
     ]
    }
   ],
   "source": [
    "query8 = f\"\"\"\n",
    "SELECT \n",
    "    TO_CHAR(\"timestamps_UTC\"::timestamp, 'Day') AS day_of_week,\n",
    "    COUNT(\"rs_e_rpm_pc2\") AS rpm_count\n",
    "FROM \n",
    "    vehicle_data_enriched \n",
    "WHERE \n",
    "    \"rs_e_rpm_pc2\" <> 0 AND \n",
    "    (\n",
    "        (\"RS_E_InAirTemp_PC2\" > 65) or \n",
    "        (\"RS_E_WatTemp_PC2\" > 100) or \n",
    "        (\"RS_T_OilTemp_PC2\" > 115)\n",
    "    )\n",
    "GROUP BY \n",
    "    day_of_week\n",
    "ORDER BY rpm_count DESC\n",
    "\"\"\"\n",
    "\n",
    "# Start timing\n",
    "start_time = time.time()\n",
    "\n",
    "# Execute the query and fetch the data into a DataFrame\n",
    "df8 = pd.read_sql_query(query8, engine)\n",
    "\n",
    "# End timing\n",
    "end_time = time.time()\n",
    "print(f\"Query took {end_time - start_time} seconds to run.\")\n",
    "# Close the database connection\n",
    "engine.dispose()"
   ]
  },
  {
   "cell_type": "code",
   "execution_count": 26,
   "id": "6931ef3c",
   "metadata": {},
   "outputs": [
    {
     "name": "stdout",
     "output_type": "stream",
     "text": [
      "  day_of_week  rpm_count\n",
      "0   Wednesday         11\n",
      "1   Saturday          11\n",
      "2   Friday            10\n",
      "3   Thursday           9\n",
      "4   Monday             8\n",
      "5   Tuesday            8\n",
      "6   Sunday             2\n"
     ]
    }
   ],
   "source": [
    "print(df8)"
   ]
  },
  {
   "cell_type": "code",
   "execution_count": 27,
   "id": "a236a709",
   "metadata": {},
   "outputs": [
    {
     "data": {
      "image/png": "[encoded data removed]",
      "text/plain": [
       "<Figure size 1000x600 with 1 Axes>"
      ]
     },
     "metadata": {},
     "output_type": "display_data"
    }
   ],
   "source": [
    "# Plotting the data\n",
    "plt.figure(figsize=(10, 6))  # Set the figure size\n",
    "\n",
    "# Plotting a bar chart\n",
    "plt.bar(df8['day_of_week'], df8['rpm_count'], color='skyblue')\n",
    "\n",
    "# Adding labels and title\n",
    "plt.xlabel('Day of the Week')\n",
    "plt.ylabel('RPM Count')\n",
    "plt.title('RPM Count by Day of the Week')\n",
    "\n",
    "# Rotating x-axis labels for better visibility if necessary\n",
    "plt.xticks(rotation=45)\n",
    "\n",
    "# Show plot\n",
    "plt.tight_layout()\n",
    "plt.show()"
   ]
  },
  {
   "cell_type": "markdown",
   "id": "9b4dbde2",
   "metadata": {},
   "source": [
    "there are more anomalies in rpm values for pc2 on Wednesday"
   ]
  },
  {
   "cell_type": "code",
   "execution_count": 28,
   "id": "9989c675",
   "metadata": {},
   "outputs": [
    {
     "name": "stdout",
     "output_type": "stream",
     "text": [
      "Query took 0.05001187324523926 seconds to run.\n"
     ]
    }
   ],
   "source": [
    "query9 = f\"\"\"\n",
    "SELECT \n",
    "    EXTRACT(MONTH FROM \"timestamps_UTC\"::timestamp) AS month_number,\n",
    "    CASE EXTRACT(MONTH FROM \"timestamps_UTC\"::timestamp)\n",
    "        WHEN 1 THEN 'January'\n",
    "        WHEN 2 THEN 'February'\n",
    "        WHEN 3 THEN 'March'\n",
    "        WHEN 4 THEN 'April'\n",
    "        WHEN 5 THEN 'May'\n",
    "        WHEN 6 THEN 'June'\n",
    "        WHEN 7 THEN 'July'\n",
    "        WHEN 8 THEN 'August'\n",
    "        WHEN 9 THEN 'September'\n",
    "        WHEN 10 THEN 'October'\n",
    "        WHEN 11 THEN 'November'\n",
    "        WHEN 12 THEN 'December'\n",
    "    END AS month_name,\n",
    "    COUNT(\"rs_e_rpm_pc2\") AS rpm_count\n",
    "FROM \n",
    "    vehicle_data_enriched \n",
    "WHERE \n",
    "    \"rs_e_rpm_pc2\" <> 0 AND \n",
    "    (\n",
    "        (\"RS_E_InAirTemp_PC2\" > 65) or \n",
    "        (\"RS_E_WatTemp_PC2\" > 100) or \n",
    "        (\"RS_T_OilTemp_PC2\" > 115)\n",
    "    )\n",
    "GROUP BY \n",
    "    month_number, month_name\n",
    "ORDER BY \n",
    "    rpm_count DESC;\n",
    "\"\"\"\n",
    "\n",
    "# Start timing\n",
    "start_time = time.time()\n",
    "\n",
    "# Execute the query and fetch the data into a DataFrame\n",
    "df9 = pd.read_sql_query(query9, engine)\n",
    "\n",
    "# End timing\n",
    "end_time = time.time()\n",
    "print(f\"Query took {end_time - start_time} seconds to run.\")\n",
    "# Close the database connection\n",
    "engine.dispose()"
   ]
  },
  {
   "cell_type": "code",
   "execution_count": 29,
   "id": "2ea723de",
   "metadata": {},
   "outputs": [
    {
     "name": "stdout",
     "output_type": "stream",
     "text": [
      "   month_number month_name  rpm_count\n",
      "0           6.0       June         37\n",
      "1           5.0        May         20\n",
      "2           9.0  September          2\n"
     ]
    }
   ],
   "source": [
    "print(df9)"
   ]
  },
  {
   "cell_type": "code",
   "execution_count": 30,
   "id": "c3cacad0",
   "metadata": {},
   "outputs": [
    {
     "data": {
      "image/png": "[encoded data removed]",
      "text/plain": [
       "<Figure size 1000x600 with 1 Axes>"
      ]
     },
     "metadata": {},
     "output_type": "display_data"
    }
   ],
   "source": [
    "# Define a color palette with more similar tones for the bars\n",
    "colors = ['#1f78b4', '#33a02c', '#e31a1c', '#ff7f00', '#6a3d9a', '#b15928', '#a6cee3', '#b2df8a', '#fb9a99', '#fdbf6f', '#cab2d6', '#ffff99']\n",
    "\n",
    "# Plotting the data\n",
    "plt.figure(figsize=(10, 6))  # Set the figure size\n",
    "\n",
    "# Plotting a bar chart with custom colors\n",
    "plt.bar(df9['month_name'], df9['rpm_count'], color=colors)\n",
    "\n",
    "# Adding labels and title\n",
    "plt.xlabel('Month')\n",
    "plt.ylabel('RPM Count')\n",
    "plt.title('RPM Count by Month')\n",
    "\n",
    "# Rotating x-axis labels for better visibility\n",
    "plt.xticks(rotation=45)\n",
    "\n",
    "# Adding grid lines\n",
    "plt.grid(axis='y', linestyle='--', alpha=0.7)\n",
    "\n",
    "# Show plot\n",
    "plt.tight_layout()\n",
    "plt.show()"
   ]
  },
  {
   "cell_type": "markdown",
   "id": "cb925953",
   "metadata": {},
   "source": [
    "as in pc1, June and May are the months having the most number of anomalies for rpm values of pc2"
   ]
  },
  {
   "cell_type": "code",
   "execution_count": 31,
   "id": "9c658410",
   "metadata": {},
   "outputs": [
    {
     "name": "stdout",
     "output_type": "stream",
     "text": [
      "Query took 0.05680704116821289 seconds to run.\n"
     ]
    }
   ],
   "source": [
    "query10 = f\"\"\"\n",
    "SELECT \n",
    "    CASE \n",
    "        WHEN EXTRACT(MONTH FROM \"timestamps_UTC\"::timestamp) BETWEEN 3 AND 5 THEN 'Spring'\n",
    "        WHEN EXTRACT(MONTH FROM \"timestamps_UTC\"::timestamp) BETWEEN 6 AND 8 THEN 'Summer'\n",
    "        WHEN EXTRACT(MONTH FROM \"timestamps_UTC\"::timestamp) BETWEEN 9 AND 11 THEN 'Autumn'\n",
    "        ELSE 'Winter'\n",
    "    END AS season,\n",
    "    COUNT(\"rs_e_rpm_pc2\") AS rpm_count\n",
    "FROM \n",
    "    vehicle_data_enriched \n",
    "WHERE \n",
    "    \"rs_e_rpm_pc2\" <> 0 AND \n",
    "    (\n",
    "        (\"RS_E_InAirTemp_PC2\" > 65) or \n",
    "        (\"RS_E_WatTemp_PC2\" > 100) or \n",
    "        (\"RS_T_OilTemp_PC2\" > 115)\n",
    "    )\n",
    "GROUP BY \n",
    "    season\n",
    "ORDER BY rpm_count DESC;\n",
    "\"\"\"\n",
    "\n",
    "# Start timing\n",
    "start_time = time.time()\n",
    "\n",
    "# Execute the query and fetch the data into a DataFrame\n",
    "df10 = pd.read_sql_query(query10, engine)\n",
    "\n",
    "# End timing\n",
    "end_time = time.time()\n",
    "print(f\"Query took {end_time - start_time} seconds to run.\")\n",
    "# Close the database connection\n",
    "engine.dispose()"
   ]
  },
  {
   "cell_type": "code",
   "execution_count": 32,
   "id": "f0b96b46",
   "metadata": {},
   "outputs": [
    {
     "name": "stdout",
     "output_type": "stream",
     "text": [
      "   season  rpm_count\n",
      "0  Summer         37\n",
      "1  Spring         20\n",
      "2  Autumn          2\n"
     ]
    }
   ],
   "source": [
    "print(df10)"
   ]
  },
  {
   "cell_type": "code",
   "execution_count": 33,
   "id": "e9c9101e",
   "metadata": {},
   "outputs": [
    {
     "data": {
      "image/png": "[encoded data removed]",
      "text/plain": [
       "<Figure size 800x600 with 1 Axes>"
      ]
     },
     "metadata": {},
     "output_type": "display_data"
    }
   ],
   "source": [
    "# Define colors associated with each season for the pie chart\n",
    "colors = ['#228B22', '#FFC0CB', '#4682B4', '#FFA500']  # Green, Pink, Blue, Orange\n",
    "\n",
    "# Plotting the data\n",
    "plt.figure(figsize=(8, 6))  # Set the figure size\n",
    "\n",
    "# Create a pie chart with season-wise colors\n",
    "plt.pie(df10['rpm_count'], labels=df10['season'], colors=colors, autopct='%1.1f%%', startangle=140)\n",
    "\n",
    "# Adding title\n",
    "plt.title('RPM Count Distribution by Season')\n",
    "\n",
    "# Show plot\n",
    "plt.tight_layout()\n",
    "plt.axis('equal')  # Equal aspect ratio ensures that pie is drawn as a circle\n",
    "plt.show()\n"
   ]
  },
  {
   "cell_type": "markdown",
   "id": "a15a06a2",
   "metadata": {},
   "source": [
    "also, like in pc1, pc2 have also the most problems woth rpm values in Summer and Spring"
   ]
  },
  {
   "cell_type": "markdown",
   "id": "bc1132e2",
   "metadata": {},
   "source": [
    "In conclusion, we can say that both for pc1 and pc2, there are anomlies around 3000 in rpm values and their reason can be because of the sensor, or maybe the engine was not shutted down. When it comes to when these cases happen most, it is in Summer and Spring"
   ]
  },
  {
   "cell_type": "code",
   "execution_count": null,
   "id": "df30d7b9",
   "metadata": {},
   "outputs": [],
   "source": []
  }
 ],
 "metadata": {
  "kernelspec": {
   "display_name": "Python 3 (ipykernel)",
   "language": "python",
   "name": "python3"
  },
  "language_info": {
   "codemirror_mode": {
    "name": "ipython",
    "version": 3
   },
   "file_extension": ".py",
   "mimetype": "text/x-python",
   "name": "python",
   "nbconvert_exporter": "python",
   "pygments_lexer": "ipython3",
   "version": "3.11.5"
  }
 },
 "nbformat": 4,
 "nbformat_minor": 5
}
