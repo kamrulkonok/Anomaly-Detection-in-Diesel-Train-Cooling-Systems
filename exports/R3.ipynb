{
 "cells": [
  {
   "cell_type": "code",
   "execution_count": 1,
   "id": "6c5b9be1",
   "metadata": {},
   "outputs": [],
   "source": [
    "import pandas as pd\n",
    "\n",
    "# Python standard library imports\n",
    "import time\n",
    "\n",
    "# Third-party imports for database connection and data manipulation\n",
    "from sqlalchemy import create_engine\n",
    "import pandas as pd\n",
    "import matplotlib.pyplot as plt\n",
    "import scipy.stats as stats\n",
    "import pandas as pd\n",
    "from sklearn.ensemble import IsolationForest\n",
    "from sklearn.preprocessing import StandardScaler\n",
    "from sklearn.decomposition import PCA\n",
    "from sklearn.covariance import EllipticEnvelope\n",
    "from sklearn.svm import OneClassSVM\n",
    "from sklearn.metrics import classification_report"
   ]
  },
  {
   "cell_type": "code",
   "execution_count": 2,
   "id": "f806d0fd",
   "metadata": {},
   "outputs": [],
   "source": [
    "# Database connection parameters\n",
    "dbname = 'train'\n",
    "user = 'narmina'\n",
    "password = 'narmina7877'\n",
    "host = 'localhost'  # localhost or the server address\n",
    "port = '5433'  # default PostgreSQL port is 5432\n",
    "\n",
    "# Establish a connection to the database\n",
    "connection_str = f\"postgresql://{user}:{password}@{host}:{port}/{dbname}\"\n",
    "engine = create_engine(connection_str)"
   ]
  },
  {
   "cell_type": "code",
   "execution_count": 3,
   "id": "dd1b8303",
   "metadata": {},
   "outputs": [
    {
     "name": "stdout",
     "output_type": "stream",
     "text": [
      "Query took 5.952168941497803 seconds to run.\n"
     ]
    }
   ],
   "source": [
    "# Define the query with placeholders for parameters\n",
    "query1 = f\"\"\"\n",
    "SELECT rs_e_rpm_pc1, rs_e_inairtemp_pc1,rs_e_wattemp_pc1, rs_t_oiltemp_pc1 \n",
    "FROM vehicle_data where rs_e_rpm_pc1<>0 and \n",
    "((rs_e_inairtemp_pc1 > 65 or rs_e_inairtemp_pc1 <0) or \n",
    "(rs_e_wattemp_pc1 > 100 or rs_e_wattemp_pc1 < 0) or \n",
    "(rs_t_oiltemp_pc1 > 115 or rs_t_oiltemp_pc1 < 0));\n",
    "\"\"\"\n",
    "\n",
    "# Start timing\n",
    "start_time = time.time()\n",
    "\n",
    "# Execute the query and fetch the data into a DataFrame\n",
    "df1 = pd.read_sql_query(query1, engine)\n",
    "\n",
    "# End timing\n",
    "end_time = time.time()\n",
    "print(f\"Query took {end_time - start_time} seconds to run.\")\n",
    "# Close the database connection\n",
    "engine.dispose()"
   ]
  },
  {
   "cell_type": "code",
   "execution_count": 4,
   "id": "ef27b207",
   "metadata": {},
   "outputs": [
    {
     "name": "stdout",
     "output_type": "stream",
     "text": [
      "      rs_e_rpm_pc1  rs_e_inairtemp_pc1  rs_e_wattemp_pc1  rs_t_oiltemp_pc1\n",
      "0           1888.0                47.0             101.0              98.0\n",
      "1            189.0                43.0             103.0             101.0\n",
      "2           1497.0                47.0             102.0             103.0\n",
      "3            806.0                43.0             101.0             101.0\n",
      "4           1497.0                45.0             102.0             101.0\n",
      "...            ...                 ...               ...               ...\n",
      "3207         801.0                45.0             102.0             102.0\n",
      "3208        1399.0                66.0              82.0              84.0\n",
      "3209        1461.5                65.5              81.0              84.0\n",
      "3210        1809.0                66.0              85.0              82.0\n",
      "3211        1879.0                67.0              82.0              81.0\n",
      "\n",
      "[3212 rows x 4 columns]\n"
     ]
    }
   ],
   "source": [
    "print(df1)"
   ]
  },
  {
   "cell_type": "code",
   "execution_count": 5,
   "id": "119e66c0",
   "metadata": {},
   "outputs": [
    {
     "name": "stdout",
     "output_type": "stream",
     "text": [
      "Query took 5.637232780456543 seconds to run.\n"
     ]
    }
   ],
   "source": [
    "# Define the query with placeholders for parameters\n",
    "query2 = f\"\"\"\n",
    "SELECT rs_e_rpm_pc2, rs_e_inairtemp_pc2,rs_e_wattemp_pc2, rs_t_oiltemp_pc2 \n",
    "FROM vehicle_data where rs_e_rpm_pc2<>0 and \n",
    "((rs_e_inairtemp_pc2 > 65 or rs_e_inairtemp_pc2 <0) \n",
    "or (rs_e_wattemp_pc2 > 100 or rs_e_wattemp_pc2 < 0) \n",
    "or (rs_t_oiltemp_pc2 > 115 or rs_t_oiltemp_pc2 < 0));\n",
    "\"\"\"\n",
    "\n",
    "# Start timing\n",
    "start_time = time.time()\n",
    "\n",
    "# Execute the query and fetch the data into a DataFrame\n",
    "df2 = pd.read_sql_query(query2, engine)\n",
    "\n",
    "# End timing\n",
    "end_time = time.time()\n",
    "print(f\"Query took {end_time - start_time} seconds to run.\")\n",
    "# Close the database connection\n",
    "engine.dispose()"
   ]
  },
  {
   "cell_type": "code",
   "execution_count": 6,
   "id": "bdc60fe6",
   "metadata": {},
   "outputs": [
    {
     "name": "stdout",
     "output_type": "stream",
     "text": [
      "      rs_e_rpm_pc2  rs_e_inairtemp_pc2  rs_e_wattemp_pc2  rs_t_oiltemp_pc2\n",
      "0           1574.5                66.0              81.5              85.0\n",
      "1           1845.0                67.0              93.0              92.0\n",
      "2           1496.0                47.0             101.0              99.0\n",
      "3           1844.0                66.0              88.0              92.0\n",
      "4           1503.0                66.0              88.0              89.0\n",
      "...            ...                 ...               ...               ...\n",
      "2995        1807.0                43.0             102.0              98.0\n",
      "2996         802.0                45.0             103.0              98.0\n",
      "2997        1807.0                68.0              87.0              92.0\n",
      "2998          34.0                73.0              66.0              71.5\n",
      "2999         799.0                46.0             105.0             100.0\n",
      "\n",
      "[3000 rows x 4 columns]\n"
     ]
    }
   ],
   "source": [
    "print(df2)"
   ]
  }
 ],
 "metadata": {
  "kernelspec": {
   "display_name": "Python 3 (ipykernel)",
   "language": "python",
   "name": "python3"
  },
  "language_info": {
   "codemirror_mode": {
    "name": "ipython",
    "version": 3
   },
   "file_extension": ".py",
   "mimetype": "text/x-python",
   "name": "python",
   "nbconvert_exporter": "python",
   "pygments_lexer": "ipython3",
   "version": "3.11.5"
  }
 },
 "nbformat": 4,
 "nbformat_minor": 5
}
