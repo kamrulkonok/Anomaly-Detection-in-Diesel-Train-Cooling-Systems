{
 "cells": [
  {
   "cell_type": "code",
   "execution_count": 10,
   "outputs": [],
   "source": [
    "# Python standard library imports\n",
    "import time\n",
    "\n",
    "# Third-party imports for database connection and data manipulation\n",
    "from sqlalchemy import create_engine\n",
    "import pandas as pd\n",
    "import matplotlib.pyplot as plt\n",
    "import seaborn as sns\n",
    "import matplotlib.pyplot as plt\n",
    "from scipy.stats import pearsonr\n",
    "# Third-party imports for mapping\n",
    "import folium\n",
    "import pandas as pd\n",
    "from sqlalchemy import create_engine\n",
    "from geopy.distance import geodesic\n",
    "import numpy as np"
   ],
   "metadata": {
    "collapsed": false,
    "ExecuteTime": {
     "end_time": "2023-12-14T00:32:45.215598Z",
     "start_time": "2023-12-14T00:32:45.214270Z"
    }
   },
   "id": "2ea5dcf9"
  },
  {
   "cell_type": "markdown",
   "id": "d449c31e",
   "metadata": {},
   "source": [
    "Section 2: Connection"
   ]
  },
  {
   "cell_type": "code",
   "execution_count": 11,
   "outputs": [],
   "source": [
    "# Database connection parameters\n",
    "dbname = 'DataMining'\n",
    "user = 'postgres'\n",
    "password = 'datamining'\n",
    "host = 'localhost'  # localhost or the server address\n",
    "port = '5433'  # default PostgreSQL port is 5432\n",
    "\n",
    "# Establish a connection to the database\n",
    "connection_str = f\"postgresql://{user}:{password}@{host}:{port}/{dbname}\"\n",
    "engine = create_engine(connection_str)"
   ],
   "metadata": {
    "collapsed": false,
    "ExecuteTime": {
     "end_time": "2023-12-14T00:32:45.253725Z",
     "start_time": "2023-12-14T00:32:45.221018Z"
    }
   },
   "id": "159c07fe"
  },
  {
   "cell_type": "markdown",
   "source": [
    "Section 3: Define and Execute Query"
   ],
   "metadata": {
    "collapsed": false
   },
   "id": "0b9ae600"
  },
  {
   "cell_type": "code",
   "execution_count": 12,
   "outputs": [],
   "source": [
    "sql_query = \"\"\"\n",
    "    SELECT DISTINCT mapped_veh_id\n",
    "    FROM vehicle_data;\n",
    "\"\"\"\n",
    "vehicle_ids = pd.read_sql(sql_query, engine)['mapped_veh_id']"
   ],
   "metadata": {
    "collapsed": false,
    "ExecuteTime": {
     "end_time": "2023-12-14T00:33:06.178859Z",
     "start_time": "2023-12-14T00:32:45.278376Z"
    }
   },
   "id": "8a7c58cbb7bdad1f"
  },
  {
   "cell_type": "code",
   "execution_count": 13,
   "outputs": [],
   "source": [
    "def calculate_distance(row):\n",
    "    if pd.notna(row['prev_lat']) and pd.notna(row['prev_lon']):\n",
    "        return geodesic((row['lat'], row['lon']), (row['prev_lat'], row['prev_lon'])).kilometers\n",
    "    else:\n",
    "        return None\n",
    "\n",
    "def process_vehicle_data(veh_id):\n",
    "    sql_query = f\"\"\"\n",
    "        SELECT\n",
    "            mapped_veh_id,\n",
    "            timestamps_utc,\n",
    "            lat,\n",
    "            lon\n",
    "        FROM\n",
    "            vehicle_data\n",
    "        WHERE\n",
    "            mapped_veh_id = {veh_id}\n",
    "        ORDER BY\n",
    "            timestamps_utc;\n",
    "    \"\"\"\n",
    "    df = pd.read_sql(sql_query, engine)\n",
    "\n",
    "    # Calculate time difference in minutes\n",
    "    df['prev_time'] = df.groupby('mapped_veh_id')['timestamps_utc'].shift(1)\n",
    "    df['time_diff_minutes'] = (df['timestamps_utc'] - df['prev_time']).dt.total_seconds() / 60\n",
    "\n",
    "    # Calculate distance between consecutive points\n",
    "    df['prev_lat'] = df.groupby('mapped_veh_id')['lat'].shift(1)\n",
    "    df['prev_lon'] = df.groupby('mapped_veh_id')['lon'].shift(1)\n",
    "\n",
    "    df['distance_km'] = df.apply(calculate_distance, axis=1)\n",
    "\n",
    "    # Calculate speed in km/h\n",
    "    df['speed_kmh'] = df['distance_km'] / (df['time_diff_minutes'] / 60)\n",
    "\n",
    "    # Identify anomalies - considering distance greater than 1km and speed over 200 km/h\n",
    "    df['status'] = np.where((df['speed_kmh'] > 200) & (df['distance_km'] > 1) & (df['time_diff_minutes'] < 2), 'Anomaly', 'Normal')\n",
    "    \n",
    "    anomalies['anom_id'] = 'locat_anom'\n",
    "    # Return anomalies\n",
    "    return df[df['status'] == 'Anomaly']"
   ],
   "metadata": {
    "collapsed": false,
    "ExecuteTime": {
     "end_time": "2023-12-14T00:33:06.180106Z",
     "start_time": "2023-12-14T00:33:05.921804Z"
    }
   },
   "id": "b7cf3b51478e6029"
  },
  {
   "cell_type": "code",
   "execution_count": null,
   "outputs": [
    {
     "name": "stderr",
     "output_type": "stream",
     "text": [
      "/var/folders/30/bbv8h_y57kn0cxm37nn_rfx40000gn/T/ipykernel_46414/778744686.py:39: SettingWithCopyWarning: \n",
      "A value is trying to be set on a copy of a slice from a DataFrame.\n",
      "Try using .loc[row_indexer,col_indexer] = value instead\n",
      "\n",
      "See the caveats in the documentation: https://pandas.pydata.org/pandas-docs/stable/user_guide/indexing.html#returning-a-view-versus-a-copy\n",
      "  anomalies['anom_id'] = 'locat_anom'\n"
     ]
    }
   ],
   "source": [
    "first_write = True\n",
    "for veh_id in vehicle_ids:\n",
    "    anomalies = process_vehicle_data(veh_id)\n",
    "\n",
    "    if not anomalies.empty:\n",
    "        if first_write:\n",
    "            anomalies.to_csv('anomalies.csv', mode='w', header=True, index=False)\n",
    "            first_write = False\n",
    "        else:\n",
    "            anomalies.to_csv('anomalies.csv', mode='a', header=False, index=False)"
   ],
   "metadata": {
    "collapsed": false,
    "is_executing": true,
    "ExecuteTime": {
     "start_time": "2023-12-14T00:33:05.926153Z"
    }
   },
   "id": "84a92ccec250e091"
  }
 ],
 "metadata": {
  "kernelspec": {
   "display_name": "Python 3 (ipykernel)",
   "language": "python",
   "name": "python3"
  },
  "language_info": {
   "codemirror_mode": {
    "name": "ipython",
    "version": 3
   },
   "file_extension": ".py",
   "mimetype": "text/x-python",
   "name": "python",
   "nbconvert_exporter": "python",
   "pygments_lexer": "ipython3",
   "version": "3.8.8"
  }
 },
 "nbformat": 4,
 "nbformat_minor": 5
}
