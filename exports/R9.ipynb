{
 "cells": [
  {
   "cell_type": "markdown",
   "metadata": {},
   "source": [
    "Notebook to analyze the internal air temperature values regarding the ambient temperature"
   ]
  },
  {
   "cell_type": "code",
   "execution_count": 6,
   "metadata": {},
   "outputs": [],
   "source": [
    "# Python standard library imports\n",
    "import time\n",
    "\n",
    "# Third-party imports for database connection and data manipulation\n",
    "from sqlalchemy import create_engine\n",
    "import pandas as pd\n",
    "import matplotlib.pyplot as plt\n",
    "import seaborn as sns\n",
    "import matplotlib.pyplot as plt\n",
    "from scipy.stats import pearsonr\n",
    "# Third-party imports for mapping\n",
    "import folium"
   ]
  },
  {
   "cell_type": "code",
   "execution_count": 7,
   "metadata": {},
   "outputs": [],
   "source": [
    "# Database connection parameters\n",
    "dbname = 'ar41'\n",
    "user = 'postgres'\n",
    "password = '1234'\n",
    "host = 'localhost'  # localhost or the server address\n",
    "port = '5432'  # default PostgreSQL port is 5432\n",
    "\n",
    "# Establish a connection to the database\n",
    "connection_str = f\"postgresql://{user}:{password}@{host}:{port}/{dbname}\"\n",
    "engine = create_engine(connection_str)"
   ]
  },
  {
   "cell_type": "markdown",
   "metadata": {},
   "source": [
    "1. Choosing sensors to analyze\n",
    "\n",
    "    - Out of all the internal sensors, both the Internal Air Temperature PC1 and PC2 are the most correlated to the ambient temperature obtained during the enrichment phase of the project."
   ]
  },
  {
   "cell_type": "markdown",
   "metadata": {},
   "source": [
    "\n",
    "\n",
    "2. Logical thinking and procedure:\n",
    "\n",
    "    1. Null values or values above the acceptable boundaries (65°C) are not considered for this analysis\n",
    "    2. We first perform a frequency analysis\n",
    "    3. Using cumulative frequency analysis of the absolute difference between the sensors and the temperature outside of the train we choose the outlier\n"
   ]
  },
  {
   "cell_type": "markdown",
   "metadata": {},
   "source": [
    "3. Bucket analysis"
   ]
  },
  {
   "cell_type": "code",
   "execution_count": 8,
   "metadata": {},
   "outputs": [],
   "source": [
    "query_temperature_differences = f\"\"\"\n",
    "WITH TemperatureDifferences AS (\n",
    "    SELECT\n",
    "        mapped_veh_id,\n",
    "        \"timestamps_UTC\",\n",
    "        \"Temperature\",\n",
    "        \"RS_E_InAirTemp_PC1\",\n",
    "        ABS(\"Temperature\" - \"RS_E_InAirTemp_PC1\") AS temp_difference\n",
    "    FROM\n",
    "        vehicle_data_enriched\n",
    "    WHERE\n",
    "        \"Temperature\" IS NOT NULL\n",
    "        AND \"RS_E_InAirTemp_PC1\" < 70\n",
    ")\n",
    "SELECT\n",
    "    bucket_range,\n",
    "    COUNT(*) AS occurrences\n",
    "FROM (\n",
    "    SELECT\n",
    "        mapped_veh_id,\n",
    "        \"timestamps_UTC\",\n",
    "        \"Temperature\",\n",
    "        \"RS_E_InAirTemp_PC1\",\n",
    "        temp_difference,\n",
    "        floor(temp_difference / 5) * 5 AS bucket_range\n",
    "    FROM\n",
    "        TemperatureDifferences\n",
    ") AS temp_diff_buckets\n",
    "GROUP BY\n",
    "    bucket_range\n",
    "ORDER BY\n",
    "    bucket_range;\n",
    "\"\"\""
   ]
  },
  {
   "cell_type": "code",
   "execution_count": 9,
   "metadata": {},
   "outputs": [
    {
     "name": "stdout",
     "output_type": "stream",
     "text": [
      "    bucket_range  occurrences\n",
      "0            0.0      1240241\n",
      "1            5.0      2584300\n",
      "2           10.0      3144885\n",
      "3           15.0      3789691\n",
      "4           20.0      3177038\n",
      "5           25.0      1862560\n",
      "6           30.0      1024313\n",
      "7           35.0       492889\n",
      "8           40.0       203760\n",
      "9           45.0        87887\n",
      "10          50.0        40473\n",
      "11          55.0        13404\n",
      "12          60.0         3127\n",
      "13          65.0          409\n"
     ]
    }
   ],
   "source": [
    "df_temperature_differences = pd.read_sql_query(query_temperature_differences, engine)\n",
    "print(df_temperature_differences)"
   ]
  },
  {
   "cell_type": "markdown",
   "metadata": {},
   "source": [
    "After here, there are two paths:\n",
    "\n",
    "- Arbitrarily choosing a threshold or value to consider anomaly (field knowledge)\n",
    "- Using cumulative frequency analysis to consider only values above a cumulative percentage (e.g. 99%)"
   ]
  },
  {
   "cell_type": "code",
   "execution_count": 24,
   "metadata": {},
   "outputs": [
    {
     "name": "stdout",
     "output_type": "stream",
     "text": [
      "The outlier bucket is 55.0\n"
     ]
    }
   ],
   "source": [
    "# Calculate the cumulative sum of frequencies\n",
    "df_temperature_differences['Cumulative_Frequency'] = df_temperature_differences['occurrences'].cumsum()\n",
    "\n",
    "# Calculate the total number of occurrences\n",
    "total_occurrences = df_temperature_differences['occurrences'].sum()\n",
    "\n",
    "# Set a threshold percentage\n",
    "threshold_percentage = 99.95\n",
    "\n",
    "# Find the bucket where the cumulative frequency exceeds the threshold percentage\n",
    "outlier_bucket = df_temperature_differences[df_temperature_differences['Cumulative_Frequency'] >= (threshold_percentage / 100 * total_occurrences)]['bucket_range'].min()\n",
    "\n",
    "print(f\"The outlier bucket is {outlier_bucket}\") "
   ]
  },
  {
   "cell_type": "markdown",
   "metadata": {},
   "source": [
    "With this analysis, we can say that any timestamp with a temperature difference above 55 shouldn't be normal.\n",
    "\n",
    "And we can proceed to create our final queries to detect anomalies. For PC1 sensor:"
   ]
  },
  {
   "cell_type": "code",
   "execution_count": 25,
   "metadata": {},
   "outputs": [],
   "source": [
    "# Analysis of PC1 in air temperature vs outside temperature\n",
    "query_temperature_differences_PC1 = f\"\"\"\n",
    "SELECT mapped_veh_id, \"timestamps_UTC\", \"Temperature\", \"RS_E_InAirTemp_PC1\", ABS(\"Temperature\"-\"RS_E_InAirTemp_PC1\")\n",
    "FROM vehicle_data_enriched\n",
    "WHERE \"Temperature\" is not null AND ABS(\"Temperature\"-\"RS_E_InAirTemp_PC1\") >= 55 AND \"RS_E_InAirTemp_PC1\" <= 65\n",
    "GROUP BY mapped_veh_id, \"timestamps_UTC\", \"Temperature\", \"RS_E_InAirTemp_PC1\", ABS(\"Temperature\"-\"RS_E_InAirTemp_PC1\")\n",
    "ORDER BY ABS(\"Temperature\"-\"RS_E_InAirTemp_PC1\") DESC;\n",
    "\"\"\""
   ]
  },
  {
   "cell_type": "code",
   "execution_count": 26,
   "metadata": {},
   "outputs": [
    {
     "name": "stdout",
     "output_type": "stream",
     "text": [
      "       mapped_veh_id       timestamps_UTC  Temperature  RS_E_InAirTemp_PC1  \\\n",
      "0              154.0  2023-02-07 22:50:37         -2.7                65.0   \n",
      "1              154.0  2023-02-07 22:51:37         -2.7                65.0   \n",
      "2              154.0  2023-02-07 22:51:57         -2.7                65.0   \n",
      "3              154.0  2023-02-07 22:52:37         -2.7                65.0   \n",
      "4              154.0  2023-02-07 22:53:37         -2.7                65.0   \n",
      "...              ...                  ...          ...                 ...   \n",
      "13536          197.0  2023-02-08 12:40:26          5.0                60.0   \n",
      "13537          197.0  2023-02-08 12:41:18          5.0                60.0   \n",
      "13538          197.0  2023-02-08 12:41:25          5.0                60.0   \n",
      "13539          197.0  2023-03-01 21:52:23         -1.0                54.0   \n",
      "13540          197.0  2023-03-01 21:52:27         -1.0                54.0   \n",
      "\n",
      "        abs  \n",
      "0      67.7  \n",
      "1      67.7  \n",
      "2      67.7  \n",
      "3      67.7  \n",
      "4      67.7  \n",
      "...     ...  \n",
      "13536  55.0  \n",
      "13537  55.0  \n",
      "13538  55.0  \n",
      "13539  55.0  \n",
      "13540  55.0  \n",
      "\n",
      "[13541 rows x 5 columns]\n"
     ]
    }
   ],
   "source": [
    "df_temperature_differences_PC1 = pd.read_sql_query(query_temperature_differences_PC1, engine)\n",
    "print(df_temperature_differences_PC1)\n",
    "df_temperature_differences_PC1.to_csv('OutsideDiff1.csv', sep=',', index=False, encoding='utf-8')"
   ]
  },
  {
   "cell_type": "code",
   "execution_count": 28,
   "metadata": {},
   "outputs": [
    {
     "name": "stdout",
     "output_type": "stream",
     "text": [
      "       mapped_veh_id       timestamps_UTC        lat       lon  \\\n",
      "0              154.0  2023-02-07 22:53:37  51.015433  3.775966   \n",
      "1              154.0  2023-02-07 22:52:37  51.015444  3.775948   \n",
      "2              154.0  2023-02-07 22:50:37  51.015397  3.775909   \n",
      "3              154.0  2023-02-07 22:54:40  51.015426  3.776021   \n",
      "4              154.0  2023-02-07 22:51:37  51.015409  3.775935   \n",
      "...              ...                  ...        ...       ...   \n",
      "13536          157.0  2023-04-03 09:58:28  51.015223  3.776540   \n",
      "13537          171.0  2023-02-01 00:21:38  50.400397  4.459595   \n",
      "13538          153.0  2023-02-13 07:29:37  51.014134  3.778928   \n",
      "13539          155.0  2023-02-06 22:31:02  51.016140  3.774164   \n",
      "13540          168.0  2023-04-14 21:42:33  51.015991  3.774759   \n",
      "\n",
      "       RS_E_InAirTemp_PC1  RS_E_InAirTemp_PC2  RS_E_OilPress_PC1  \\\n",
      "0                    65.0                52.0                0.0   \n",
      "1                    65.0                49.0                0.0   \n",
      "2                    65.0                26.0                0.0   \n",
      "3                    65.0                55.0                0.0   \n",
      "4                    65.0                 0.0                0.0   \n",
      "...                   ...                 ...                ...   \n",
      "13536                61.0                55.0                3.0   \n",
      "13537                61.0                30.0                0.0   \n",
      "13538                56.0                55.0                3.0   \n",
      "13539                55.0                12.0                0.0   \n",
      "13540                63.0                56.0                0.0   \n",
      "\n",
      "       RS_E_OilPress_PC2  rs_e_rpm_pc1  rs_e_rpm_pc2  ...  \\\n",
      "0                    3.0           0.0           0.0  ...   \n",
      "1                    3.0           0.0           0.0  ...   \n",
      "2                  210.0           0.0         596.0  ...   \n",
      "3                    3.0           0.0           0.0  ...   \n",
      "4                    0.0           0.0           0.0  ...   \n",
      "...                  ...           ...           ...  ...   \n",
      "13536                6.0           0.0           0.0  ...   \n",
      "13537              672.0           0.0         803.0  ...   \n",
      "13538                3.0           0.0           0.0  ...   \n",
      "13539              286.0           0.0         839.0  ...   \n",
      "13540               10.0           0.0           0.0  ...   \n",
      "\n",
      "          timestamps_floor  nearest_point_id        Lat       Lon  \\\n",
      "0      2023-02-07 22:00:00               208  51.015433  3.775966   \n",
      "1      2023-02-07 22:00:00               208  51.015444  3.775948   \n",
      "2      2023-02-07 22:00:00               208  51.015397  3.775909   \n",
      "3      2023-02-07 22:00:00               208  51.015426  3.776021   \n",
      "4      2023-02-07 22:00:00               208  51.015409  3.775935   \n",
      "...                    ...               ...        ...       ...   \n",
      "13536  2023-04-03 09:00:00               208  51.015223  3.776540   \n",
      "13537  2023-02-01 00:00:00               449  50.400397  4.459595   \n",
      "13538  2023-02-13 07:00:00               208  51.014134  3.778928   \n",
      "13539  2023-02-06 22:00:00               208  51.016140  3.774164   \n",
      "13540  2023-04-14 21:00:00               208  51.015991  3.774759   \n",
      "\n",
      "                      Time  Temperature  Humidity  Rain   abs  \\\n",
      "0      2023-02-07 22:00:00         -2.7      93.0   0.0  67.7   \n",
      "1      2023-02-07 22:00:00         -2.7      93.0   0.0  67.7   \n",
      "2      2023-02-07 22:00:00         -2.7      93.0   0.0  67.7   \n",
      "3      2023-02-07 22:00:00         -2.7      93.0   0.0  67.7   \n",
      "4      2023-02-07 22:00:00         -2.7      93.0   0.0  67.7   \n",
      "...                    ...          ...       ...   ...   ...   \n",
      "13536  2023-04-03 09:00:00          6.0      74.0   0.0  55.0   \n",
      "13537  2023-02-01 00:00:00          6.0      97.0   0.0  55.0   \n",
      "13538  2023-02-13 07:00:00          1.0      97.0   0.0  55.0   \n",
      "13539  2023-02-06 22:00:00          0.0      93.0   0.0  55.0   \n",
      "13540  2023-04-14 21:00:00          8.0      79.0   0.0  55.0   \n",
      "\n",
      "              outlier_type  \n",
      "0      Outisde temperature  \n",
      "1      Outisde temperature  \n",
      "2      Outisde temperature  \n",
      "3      Outisde temperature  \n",
      "4      Outisde temperature  \n",
      "...                    ...  \n",
      "13536  Outisde temperature  \n",
      "13537  Outisde temperature  \n",
      "13538  Outisde temperature  \n",
      "13539  Outisde temperature  \n",
      "13540  Outisde temperature  \n",
      "\n",
      "[13541 rows x 24 columns]\n"
     ]
    }
   ],
   "source": [
    "# Analysis of PC1 in air temperature vs outside temperature (dashboard output)\n",
    "query_temperature_differences_PC1_2 = f\"\"\"\n",
    "SELECT *, ABS(\"Temperature\"-\"RS_E_InAirTemp_PC1\")\n",
    "FROM vehicle_data_enriched\n",
    "WHERE \"Temperature\" is not null AND ABS(\"Temperature\"-\"RS_E_InAirTemp_PC1\") >= 55 AND \"RS_E_InAirTemp_PC1\" <= 65\n",
    "ORDER BY ABS(\"Temperature\"-\"RS_E_InAirTemp_PC1\") DESC;\n",
    "\"\"\"\n",
    "\n",
    "df_temperature_differences_PC1_2 = pd.read_sql_query(query_temperature_differences_PC1_2, engine)\n",
    "df_temperature_differences_PC1_2['outlier_type'] = 'Outisde temperature'\n",
    "print(df_temperature_differences_PC1_2)\n",
    "df_temperature_differences_PC1_2.to_csv('R9-1.csv', sep=',', index=False, encoding='utf-8')"
   ]
  },
  {
   "cell_type": "markdown",
   "metadata": {},
   "source": [
    "And for PC2 sensor:"
   ]
  },
  {
   "cell_type": "code",
   "execution_count": 29,
   "metadata": {},
   "outputs": [],
   "source": [
    "# Analysis of PC2 in air temperature vs outside temperature\n",
    "query_temperature_differences_PC2 = f\"\"\"\n",
    "SELECT mapped_veh_id, \"timestamps_UTC\", \"Temperature\", \"RS_E_InAirTemp_PC2\", ABS(\"Temperature\"-\"RS_E_InAirTemp_PC2\")\n",
    "FROM vehicle_data_enriched\n",
    "WHERE \"Temperature\" is not null AND ABS(\"Temperature\"-\"RS_E_InAirTemp_PC2\") >= 55 AND \"RS_E_InAirTemp_PC2\" <= 65\n",
    "GROUP BY mapped_veh_id, \"timestamps_UTC\", \"Temperature\", \"RS_E_InAirTemp_PC2\", ABS(\"Temperature\"-\"RS_E_InAirTemp_PC2\")\n",
    "ORDER BY ABS(\"Temperature\"-\"RS_E_InAirTemp_PC2\") DESC;\n",
    "\"\"\""
   ]
  },
  {
   "cell_type": "code",
   "execution_count": 30,
   "metadata": {},
   "outputs": [
    {
     "name": "stdout",
     "output_type": "stream",
     "text": [
      "       mapped_veh_id       timestamps_UTC  Temperature  RS_E_InAirTemp_PC2  \\\n",
      "0              126.0  2023-03-02 06:57:38         -1.6                65.0   \n",
      "1              126.0  2023-03-02 07:12:18         -1.5                65.0   \n",
      "2              126.0  2023-03-02 07:13:21         -1.5                65.0   \n",
      "3              126.0  2023-03-02 07:14:21         -1.5                65.0   \n",
      "4              126.0  2023-03-02 07:14:32         -1.5                65.0   \n",
      "...              ...                  ...          ...                 ...   \n",
      "17563          192.0  2023-03-20 19:21:58         10.0                65.0   \n",
      "17564          194.0  2023-03-09 18:01:43         10.0                65.0   \n",
      "17565          194.0  2023-03-09 18:02:46         10.0                65.0   \n",
      "17566          194.0  2023-03-27 07:39:38          4.0                59.0   \n",
      "17567          194.0  2023-04-21 22:02:43          5.0                60.0   \n",
      "\n",
      "        abs  \n",
      "0      66.6  \n",
      "1      66.5  \n",
      "2      66.5  \n",
      "3      66.5  \n",
      "4      66.5  \n",
      "...     ...  \n",
      "17563  55.0  \n",
      "17564  55.0  \n",
      "17565  55.0  \n",
      "17566  55.0  \n",
      "17567  55.0  \n",
      "\n",
      "[17568 rows x 5 columns]\n"
     ]
    }
   ],
   "source": [
    "df_temperature_differences_PC2 = pd.read_sql_query(query_temperature_differences_PC2, engine)\n",
    "print(df_temperature_differences_PC2)\n",
    "df_temperature_differences_PC2.to_csv('OutsideDiff2.csv', sep=',', index=False, encoding='utf-8')"
   ]
  },
  {
   "cell_type": "markdown",
   "metadata": {},
   "source": [
    "With this we have a total of ~100K outliers:\n",
    "\n",
    "    - Values with absolute difference from outside temperature PC1: 13541\n",
    "    - Values with absolute difference from outside temperature PC2: 17568\n"
   ]
  },
  {
   "cell_type": "code",
   "execution_count": 31,
   "metadata": {},
   "outputs": [
    {
     "name": "stdout",
     "output_type": "stream",
     "text": [
      "       mapped_veh_id       timestamps_UTC        lat       lon  \\\n",
      "0              126.0  2023-03-02 06:57:38  51.138971  3.641456   \n",
      "1              126.0  2023-03-02 07:13:21  51.143728  3.631155   \n",
      "2              126.0  2023-03-02 07:16:22  51.145184  3.628014   \n",
      "3              126.0  2023-03-02 07:14:32  51.144350  3.629814   \n",
      "4              126.0  2023-03-02 07:19:15  51.148530  3.623480   \n",
      "...              ...                  ...        ...       ...   \n",
      "17563          181.0  2023-05-16 06:19:55  51.014812  3.777485   \n",
      "17564          172.0  2023-04-08 22:19:41  51.189699  5.110142   \n",
      "17565          120.0  2023-01-25 18:15:28  50.403879  4.438693   \n",
      "17566          123.0  2023-04-18 22:11:30  51.190693  5.113100   \n",
      "17567          173.0  2023-03-15 00:21:53  50.094601  4.526841   \n",
      "\n",
      "       RS_E_InAirTemp_PC1  RS_E_InAirTemp_PC2  RS_E_OilPress_PC1  \\\n",
      "0                    63.0                65.0                6.0   \n",
      "1                    13.0                65.0              217.0   \n",
      "2                    15.0                65.0              220.0   \n",
      "3                    13.0                65.0              224.0   \n",
      "4                    16.0                65.0              213.0   \n",
      "...                   ...                 ...                ...   \n",
      "17563                30.0                64.0              265.0   \n",
      "17564                51.0                61.0                3.0   \n",
      "17565                22.0                53.0              189.0   \n",
      "17566                33.0                64.0              238.0   \n",
      "17567                25.0                56.0              203.0   \n",
      "\n",
      "       RS_E_OilPress_PC2  rs_e_rpm_pc1  rs_e_rpm_pc2  ...  \\\n",
      "0                    3.0           0.0           0.0  ...   \n",
      "1                    3.0         799.0           0.0  ...   \n",
      "2                    3.0         806.0           0.0  ...   \n",
      "3                    3.0         803.0           0.0  ...   \n",
      "4                    3.0         801.0           0.0  ...   \n",
      "...                  ...           ...           ...  ...   \n",
      "17563               20.0         800.0           0.0  ...   \n",
      "17564                3.0           0.0           0.0  ...   \n",
      "17565                3.0         799.0           0.0  ...   \n",
      "17566                3.0         803.0           0.0  ...   \n",
      "17567                0.0         776.0           0.0  ...   \n",
      "\n",
      "          timestamps_floor  nearest_point_id        Lat       Lon  \\\n",
      "0      2023-03-02 06:00:00               168  51.138971  3.641456   \n",
      "1      2023-03-02 07:00:00               168  51.143728  3.631155   \n",
      "2      2023-03-02 07:00:00               168  51.145184  3.628014   \n",
      "3      2023-03-02 07:00:00               168  51.144350  3.629814   \n",
      "4      2023-03-02 07:00:00               168  51.148530  3.623480   \n",
      "...                    ...               ...        ...       ...   \n",
      "17563  2023-05-16 06:00:00               208  51.014812  3.777485   \n",
      "17564  2023-04-08 22:00:00               143  51.189699  5.110142   \n",
      "17565  2023-01-25 18:00:00               449  50.403879  4.438693   \n",
      "17566  2023-04-18 22:00:00               144  51.190693  5.113100   \n",
      "17567  2023-03-15 00:00:00               567  50.094601  4.526841   \n",
      "\n",
      "                      Time  Temperature  Humidity  Rain   abs  \\\n",
      "0      2023-03-02 06:00:00         -1.6      81.0   0.0  66.6   \n",
      "1      2023-03-02 07:00:00         -1.5      80.0   0.0  66.5   \n",
      "2      2023-03-02 07:00:00         -1.5      80.0   0.0  66.5   \n",
      "3      2023-03-02 07:00:00         -1.5      80.0   0.0  66.5   \n",
      "4      2023-03-02 07:00:00         -1.5      80.0   0.0  66.5   \n",
      "...                    ...          ...       ...   ...   ...   \n",
      "17563  2023-05-16 06:00:00          9.0      81.0   0.0  55.0   \n",
      "17564  2023-04-08 22:00:00          6.0      91.0   0.0  55.0   \n",
      "17565  2023-01-25 18:00:00         -2.0      89.0   0.0  55.0   \n",
      "17566  2023-04-18 22:00:00          9.0      76.0   0.0  55.0   \n",
      "17567  2023-03-15 00:00:00          1.0      93.0   0.0  55.0   \n",
      "\n",
      "              outlier_type  \n",
      "0      Outisde temperature  \n",
      "1      Outisde temperature  \n",
      "2      Outisde temperature  \n",
      "3      Outisde temperature  \n",
      "4      Outisde temperature  \n",
      "...                    ...  \n",
      "17563  Outisde temperature  \n",
      "17564  Outisde temperature  \n",
      "17565  Outisde temperature  \n",
      "17566  Outisde temperature  \n",
      "17567  Outisde temperature  \n",
      "\n",
      "[17568 rows x 24 columns]\n"
     ]
    }
   ],
   "source": [
    "# Analysis of PC2 in air temperature vs outside temperature (dashboard output)\n",
    "query_temperature_differences_PC2_2 = f\"\"\"\n",
    "SELECT *, ABS(\"Temperature\"-\"RS_E_InAirTemp_PC2\")\n",
    "FROM vehicle_data_enriched\n",
    "WHERE \"Temperature\" is not null AND ABS(\"Temperature\"-\"RS_E_InAirTemp_PC2\") >= 55 AND \"RS_E_InAirTemp_PC2\" <= 65\n",
    "ORDER BY ABS(\"Temperature\"-\"RS_E_InAirTemp_PC2\") DESC;\n",
    "\"\"\"\n",
    "\n",
    "df_temperature_differences_PC2_2 = pd.read_sql_query(query_temperature_differences_PC2_2, engine)\n",
    "df_temperature_differences_PC2_2['outlier_type'] = 'Outisde temperature'\n",
    "print(df_temperature_differences_PC2_2)\n",
    "df_temperature_differences_PC2_2.to_csv('R9-2.csv', sep=',', index=False, encoding='utf-8')"
   ]
  }
 ],
 "metadata": {
  "kernelspec": {
   "display_name": "Python 3",
   "language": "python",
   "name": "python3"
  },
  "language_info": {
   "codemirror_mode": {
    "name": "ipython",
    "version": 3
   },
   "file_extension": ".py",
   "mimetype": "text/x-python",
   "name": "python",
   "nbconvert_exporter": "python",
   "pygments_lexer": "ipython3",
   "version": "3.11.7"
  }
 },
 "nbformat": 4,
 "nbformat_minor": 2
}
