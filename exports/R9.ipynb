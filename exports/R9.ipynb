{
 "cells": [
  {
   "cell_type": "markdown",
   "metadata": {},
   "source": [
    "Notebook to analyze the internal air temperature values regarding the ambient temperature"
   ]
  },
  {
   "cell_type": "code",
   "execution_count": 3,
   "metadata": {},
   "outputs": [],
   "source": [
    "# Python standard library imports\n",
    "import time\n",
    "\n",
    "# Third-party imports for database connection and data manipulation\n",
    "from sqlalchemy import create_engine\n",
    "import pandas as pd\n",
    "import matplotlib.pyplot as plt\n",
    "import seaborn as sns\n",
    "import matplotlib.pyplot as plt\n",
    "from scipy.stats import pearsonr\n",
    "# Third-party imports for mapping\n",
    "import folium"
   ]
  },
  {
   "cell_type": "code",
   "execution_count": 5,
   "metadata": {},
   "outputs": [],
   "source": [
    "# Database connection parameters\n",
    "dbname = 'ar41'\n",
    "user = 'postgres'\n",
    "password = '1234'\n",
    "host = 'localhost'  # localhost or the server address\n",
    "port = '5432'  # default PostgreSQL port is 5432\n",
    "\n",
    "# Establish a connection to the database\n",
    "connection_str = f\"postgresql://{user}:{password}@{host}:{port}/{dbname}\"\n",
    "engine = create_engine(connection_str)"
   ]
  },
  {
   "cell_type": "markdown",
   "metadata": {},
   "source": [
    "1. Choosing sensors to analyze\n",
    "\n",
    "    - Out of all the internal sensors, both the Internal Air Temperature PC1 and PC2 are the most correlated to the ambient temperature obtained during the enrichment phase of the project."
   ]
  },
  {
   "cell_type": "markdown",
   "metadata": {},
   "source": [
    "\n",
    "\n",
    "2. Logical thinking and procedure:\n",
    "\n",
    "    1. Null values or values above the acceptable boundaries (65°C) are not considered for this analysis\n",
    "    2. We first perform a frequency analysis\n",
    "    3. Using cumulative frequency analysis of the absolute difference between the sensors and the temperature outside of the train we choose the outlier\n"
   ]
  },
  {
   "cell_type": "markdown",
   "metadata": {},
   "source": [
    "3. Bucket analysis"
   ]
  },
  {
   "cell_type": "code",
   "execution_count": 7,
   "metadata": {},
   "outputs": [],
   "source": [
    "query_temperature_differences = f\"\"\"\n",
    "WITH TemperatureDifferences AS (\n",
    "    SELECT\n",
    "        mapped_veh_id,\n",
    "        \"timestamps_UTC\",\n",
    "        \"Temperature\",\n",
    "        \"RS_E_InAirTemp_PC1\",\n",
    "        ABS(\"Temperature\" - \"RS_E_InAirTemp_PC1\") AS temp_difference\n",
    "    FROM\n",
    "        vehicle_data_enriched\n",
    "    WHERE\n",
    "        \"Temperature\" IS NOT NULL\n",
    "        AND \"RS_E_InAirTemp_PC1\" < 70\n",
    ")\n",
    "SELECT\n",
    "    bucket_range,\n",
    "    COUNT(*) AS occurrences\n",
    "FROM (\n",
    "    SELECT\n",
    "        mapped_veh_id,\n",
    "        \"timestamps_UTC\",\n",
    "        \"Temperature\",\n",
    "        \"RS_E_InAirTemp_PC1\",\n",
    "        temp_difference,\n",
    "        floor(temp_difference / 5) * 5 AS bucket_range\n",
    "    FROM\n",
    "        TemperatureDifferences\n",
    ") AS temp_diff_buckets\n",
    "GROUP BY\n",
    "    bucket_range\n",
    "ORDER BY\n",
    "    bucket_range;\n",
    "\"\"\""
   ]
  },
  {
   "cell_type": "code",
   "execution_count": 15,
   "metadata": {},
   "outputs": [
    {
     "name": "stdout",
     "output_type": "stream",
     "text": [
      "    bucket_range  occurrences\n",
      "0            0.0      1240241\n",
      "1            5.0      2584300\n",
      "2           10.0      3144885\n",
      "3           15.0      3789691\n",
      "4           20.0      3177038\n",
      "5           25.0      1862560\n",
      "6           30.0      1024313\n",
      "7           35.0       492889\n",
      "8           40.0       203760\n",
      "9           45.0        87887\n",
      "10          50.0        40473\n",
      "11          55.0        13404\n",
      "12          60.0         3127\n",
      "13          65.0          409\n"
     ]
    }
   ],
   "source": [
    "df_temperature_differences = pd.read_sql_query(query_temperature_differences, engine)\n",
    "print(df_temperature_differences)"
   ]
  },
  {
   "cell_type": "markdown",
   "metadata": {},
   "source": [
    "After here, there are two paths:\n",
    "\n",
    "- Arbitrarily choosing a threshold or value to consider anomaly (field knowledge)\n",
    "- Using cumulative frequency analysis to consider only values above a cumulative percentage (e.g. 99%)"
   ]
  },
  {
   "cell_type": "code",
   "execution_count": 31,
   "metadata": {},
   "outputs": [
    {
     "name": "stdout",
     "output_type": "stream",
     "text": [
      "The outlier bucket is 50.0\n"
     ]
    }
   ],
   "source": [
    "# Calculate the cumulative sum of frequencies\n",
    "df_temperature_differences['Cumulative_Frequency'] = df_temperature_differences['occurrences'].cumsum()\n",
    "\n",
    "# Calculate the total number of occurrences\n",
    "total_occurrences = df_temperature_differences['occurrences'].sum()\n",
    "\n",
    "# Set a threshold percentage\n",
    "threshold_percentage = 99.9\n",
    "\n",
    "# Find the bucket where the cumulative frequency exceeds the threshold percentage\n",
    "outlier_bucket = df_temperature_differences[df_temperature_differences['Cumulative_Frequency'] >= (threshold_percentage / 100 * total_occurrences)]['bucket_range'].min()\n",
    "\n",
    "print(f\"The outlier bucket is {outlier_bucket}\") "
   ]
  },
  {
   "cell_type": "markdown",
   "metadata": {},
   "source": [
    "With this analysis, we can say that any timestamp with a temperature difference above 50 shouldn't be normal.\n",
    "\n",
    "And we can proceed to create our final queries to detect anomalies. For PC1 sensor:"
   ]
  },
  {
   "cell_type": "code",
   "execution_count": 32,
   "metadata": {},
   "outputs": [],
   "source": [
    "# Analysis of PC1 in air temperature vs outside temperature\n",
    "query_temperature_differences_PC1 = f\"\"\"\n",
    "SELECT mapped_veh_id, \"timestamps_UTC\", \"Temperature\", \"RS_E_InAirTemp_PC1\", ABS(\"Temperature\"-\"RS_E_InAirTemp_PC1\")\n",
    "FROM vehicle_data_enriched\n",
    "WHERE \"Temperature\" is not null AND ABS(\"Temperature\"-\"RS_E_InAirTemp_PC1\") >= 50 AND \"RS_E_InAirTemp_PC1\" <= 65\n",
    "GROUP BY mapped_veh_id, \"timestamps_UTC\", \"Temperature\", \"RS_E_InAirTemp_PC1\", ABS(\"Temperature\"-\"RS_E_InAirTemp_PC1\")\n",
    "ORDER BY ABS(\"Temperature\"-\"RS_E_InAirTemp_PC1\") DESC;\n",
    "\"\"\""
   ]
  },
  {
   "cell_type": "code",
   "execution_count": 33,
   "metadata": {},
   "outputs": [
    {
     "name": "stdout",
     "output_type": "stream",
     "text": [
      "       mapped_veh_id       timestamps_UTC  Temperature  RS_E_InAirTemp_PC1  \\\n",
      "0              154.0  2023-02-07 22:50:37         -2.7                65.0   \n",
      "1              154.0  2023-02-07 22:51:37         -2.7                65.0   \n",
      "2              154.0  2023-02-07 22:51:57         -2.7                65.0   \n",
      "3              154.0  2023-02-07 22:52:37         -2.7                65.0   \n",
      "4              154.0  2023-02-07 22:53:37         -2.7                65.0   \n",
      "...              ...                  ...          ...                 ...   \n",
      "48612          197.0  2023-04-03 06:14:54          0.0                50.0   \n",
      "48613          197.0  2023-04-03 06:19:35          0.0                50.0   \n",
      "48614          197.0  2023-04-03 06:19:36          0.0                50.0   \n",
      "48615          197.0  2023-08-07 20:38:07         14.0                64.0   \n",
      "48616          197.0  2023-08-07 20:38:10         14.0                64.0   \n",
      "\n",
      "        abs  \n",
      "0      67.7  \n",
      "1      67.7  \n",
      "2      67.7  \n",
      "3      67.7  \n",
      "4      67.7  \n",
      "...     ...  \n",
      "48612  50.0  \n",
      "48613  50.0  \n",
      "48614  50.0  \n",
      "48615  50.0  \n",
      "48616  50.0  \n",
      "\n",
      "[48617 rows x 5 columns]\n"
     ]
    }
   ],
   "source": [
    "df_temperature_differences_PC1 = pd.read_sql_query(query_temperature_differences_PC1, engine)\n",
    "print(df_temperature_differences_PC1)"
   ]
  },
  {
   "cell_type": "markdown",
   "metadata": {},
   "source": [
    "And for PC2 sensor:"
   ]
  },
  {
   "cell_type": "code",
   "execution_count": 34,
   "metadata": {},
   "outputs": [],
   "source": [
    "# Analysis of PC1 in air temperature vs outside temperature\n",
    "query_temperature_differences_PC2 = f\"\"\"\n",
    "SELECT mapped_veh_id, \"timestamps_UTC\", \"Temperature\", \"RS_E_InAirTemp_PC2\", ABS(\"Temperature\"-\"RS_E_InAirTemp_PC2\")\n",
    "FROM vehicle_data_enriched\n",
    "WHERE \"Temperature\" is not null AND ABS(\"Temperature\"-\"RS_E_InAirTemp_PC2\") >= 50 AND \"RS_E_InAirTemp_PC2\" <= 65\n",
    "GROUP BY mapped_veh_id, \"timestamps_UTC\", \"Temperature\", \"RS_E_InAirTemp_PC2\", ABS(\"Temperature\"-\"RS_E_InAirTemp_PC2\")\n",
    "ORDER BY ABS(\"Temperature\"-\"RS_E_InAirTemp_PC2\") DESC;\n",
    "\"\"\""
   ]
  },
  {
   "cell_type": "code",
   "execution_count": 35,
   "metadata": {},
   "outputs": [
    {
     "name": "stdout",
     "output_type": "stream",
     "text": [
      "       mapped_veh_id       timestamps_UTC  Temperature  RS_E_InAirTemp_PC2  \\\n",
      "0              126.0  2023-03-02 06:57:38         -1.6                65.0   \n",
      "1              126.0  2023-03-02 07:12:18         -1.5                65.0   \n",
      "2              126.0  2023-03-02 07:13:21         -1.5                65.0   \n",
      "3              126.0  2023-03-02 07:14:21         -1.5                65.0   \n",
      "4              126.0  2023-03-02 07:14:32         -1.5                65.0   \n",
      "...              ...                  ...          ...                 ...   \n",
      "52354          197.0  2023-02-23 10:44:50          8.0                58.0   \n",
      "52355          197.0  2023-02-23 10:44:54          8.0                58.0   \n",
      "52356          197.0  2023-02-23 10:45:50          8.0                58.0   \n",
      "52357          197.0  2023-03-01 21:51:23         -1.0                49.0   \n",
      "52358          197.0  2023-03-01 21:51:26         -1.0                49.0   \n",
      "\n",
      "        abs  \n",
      "0      66.6  \n",
      "1      66.5  \n",
      "2      66.5  \n",
      "3      66.5  \n",
      "4      66.5  \n",
      "...     ...  \n",
      "52354  50.0  \n",
      "52355  50.0  \n",
      "52356  50.0  \n",
      "52357  50.0  \n",
      "52358  50.0  \n",
      "\n",
      "[52359 rows x 5 columns]\n"
     ]
    }
   ],
   "source": [
    "df_temperature_differences_PC2 = pd.read_sql_query(query_temperature_differences_PC2, engine)\n",
    "print(df_temperature_differences_PC2)"
   ]
  },
  {
   "cell_type": "markdown",
   "metadata": {},
   "source": [
    "With this we have a total of ~100K outliers:\n",
    "\n",
    "    - Values with absolute difference from outside temperature PC1: 48617\n",
    "    - Values with absolute difference from outside temperature PC2: 52359"
   ]
  }
 ],
 "metadata": {
  "kernelspec": {
   "display_name": "Python 3",
   "language": "python",
   "name": "python3"
  },
  "language_info": {
   "codemirror_mode": {
    "name": "ipython",
    "version": 3
   },
   "file_extension": ".py",
   "mimetype": "text/x-python",
   "name": "python",
   "nbconvert_exporter": "python",
   "pygments_lexer": "ipython3",
   "version": "3.11.7"
  }
 },
 "nbformat": 4,
 "nbformat_minor": 2
}
