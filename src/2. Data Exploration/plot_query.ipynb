{
 "cells": [
  {
   "cell_type": "code",
   "execution_count": 1,
   "id": "2ea5dcf9",
   "metadata": {
    "ExecuteTime": {
     "end_time": "2023-11-23T21:03:23.687287Z",
     "start_time": "2023-11-23T21:03:21.687094Z"
    }
   },
   "outputs": [],
   "source": [
    "# Python standard library imports\n",
    "import time\n",
    "\n",
    "# Third-party imports for database connection and data manipulation\n",
    "from sqlalchemy import create_engine\n",
    "import pandas as pd\n",
    "\n",
    "# Third-party imports for mapping\n",
    "import folium"
   ]
  },
  {
   "cell_type": "markdown",
   "id": "d449c31e",
   "metadata": {},
   "source": [
    "Section 2: Connection"
   ]
  },
  {
   "cell_type": "code",
   "execution_count": 2,
   "id": "159c07fe",
   "metadata": {
    "ExecuteTime": {
     "end_time": "2023-11-23T21:03:26.777213Z",
     "start_time": "2023-11-23T21:03:26.719687Z"
    }
   },
   "outputs": [],
   "source": [
    "# Database connection parameters\n",
    "dbname = 'DataMining'\n",
    "user = 'postgres'\n",
    "password = 'datamining'\n",
    "host = 'localhost'  # localhost or the server address\n",
    "port = '5433'  # default PostgreSQL port is 5432\n",
    "vehicle_id = 181  # Replace with the vehicle ID you are interested in\n",
    "\n",
    "# Establish a connection to the database\n",
    "connection_str = f\"postgresql://{user}:{password}@{host}:{port}/{dbname}\"\n",
    "engine = create_engine(connection_str)"
   ]
  },
  {
   "cell_type": "markdown",
   "id": "0b9ae600",
   "metadata": {},
   "source": [
    "Section 3: Define and Execute Query"
   ]
  },
  {
   "cell_type": "code",
   "execution_count": 8,
   "id": "45388c41",
   "metadata": {
    "ExecuteTime": {
     "end_time": "2023-11-23T21:15:28.002197Z",
     "start_time": "2023-11-23T21:15:20.254466Z"
    }
   },
   "outputs": [
    {
     "name": "stdout",
     "output_type": "stream",
     "text": [
      "Query took 7.785139322280884 seconds to run.\n"
     ]
    }
   ],
   "source": [
    "# Define the query with placeholders for parameters\n",
    "query = f\"\"\"\n",
    "SELECT lon, lat, timestamps_UTC \n",
    "FROM vehicle_data \n",
    "WHERE (rs_e_inairtemp_pc1 > 65 OR rs_e_inairtemp_pc2 > 65)\n",
    "ORDER BY timestamps_UTC;\n",
    "\"\"\"\n",
    "\n",
    "# Start timing\n",
    "start_time = time.time()\n",
    "\n",
    "# Execute the query and fetch the data into a DataFrame\n",
    "df = pd.read_sql_query(query, engine)\n",
    "\n",
    "# End timing\n",
    "end_time = time.time()\n",
    "print(f\"Query took {end_time - start_time} seconds to run.\")\n",
    "# Close the database connection\n",
    "engine.dispose()"
   ]
  },
  {
   "cell_type": "markdown",
   "id": "dcada0c3",
   "metadata": {},
   "source": [
    "Section 4: Map the datapoints"
   ]
  },
  {
   "cell_type": "code",
   "execution_count": null,
   "id": "8573d9e1",
   "metadata": {},
   "outputs": [],
   "source": [
    "# Create a map centered around the average coordinates of Belgium\n",
    "belgium_center = [50.5039, 4.4699]  # Roughly the center of Belgium\n",
    "map_belgium = folium.Map(location=belgium_center, zoom_start=8)\n",
    "\n",
    "# Add the data points to the map\n",
    "for idx, row in df.iterrows():\n",
    "    folium.CircleMarker(\n",
    "        location=[row['lat'], row['lon']],\n",
    "        radius=3,\n",
    "        color='blue',\n",
    "        fill=True,\n",
    "        fill_color='blue',\n",
    "        fill_opacity=0.6\n",
    "    ).add_to(map_belgium)\n",
    "map_belgium"
   ]
  },
  {
   "cell_type": "code",
   "execution_count": null,
   "id": "3e8f3043fac877f3",
   "metadata": {},
   "outputs": [],
   "source": [
    "# Here I saved some queries that showcase problems\n",
    "\n",
    "# Query for the location jump point: \n",
    "# Define the query with placeholders for parameters\n",
    "query = f\"\"\"\n",
    "SELECT lon, lat, timestamps_UTC FROM vehicle_data \n",
    "WHERE mapped_veh_id = 181\n",
    "AND timestamps_utc BETWEEN TIMESTAMP '2023-08-08 18:22:24' AND TIMESTAMP '2023-08-08 18:23:29'\n",
    "ORDER BY timestamps_UTC;\n",
    "\"\"\"\n",
    "\n",
    "# Check where the temp is out of the boundaries location wise\n",
    "\n",
    "query = f\"\"\"\n",
    "SELECT lon, lat, timestamps_UTC \n",
    "FROM vehicle_data \n",
    "WHERE (rs_e_inairtemp_pc1 > 65 OR rs_e_inairtemp_pc2 > 65)\n",
    "ORDER BY timestamps_UTC;\n",
    "\"\"\"\n",
    "\n",
    "\n"
   ]
  }
 ],
 "metadata": {
  "kernelspec": {
   "display_name": "Python 3 (ipykernel)",
   "language": "python",
   "name": "python3"
  },
  "language_info": {
   "codemirror_mode": {
    "name": "ipython",
    "version": 3
   },
   "file_extension": ".py",
   "mimetype": "text/x-python",
   "name": "python",
   "nbconvert_exporter": "python",
   "pygments_lexer": "ipython3",
   "version": "3.8.8"
  }
 },
 "nbformat": 4,
 "nbformat_minor": 5
}
