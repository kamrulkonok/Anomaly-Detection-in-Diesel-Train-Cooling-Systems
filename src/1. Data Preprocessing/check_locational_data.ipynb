{
 "cells": [
  {
   "cell_type": "code",
   "execution_count": null,
   "id": "initial_id",
   "metadata": {
    "collapsed": true
   },
   "outputs": [],
   "source": [
    "# Python standard library imports\n",
    "import time\n",
    "from geopy.distance import geodesic\n",
    "\n",
    "# Third-party imports for database connection and data manipulation\n",
    "from sqlalchemy import create_engine\n",
    "import pandas as pd\n",
    "\n",
    "# Third-party imports for mapping\n",
    "import folium\n",
    "from folium.plugins import TimestampedGeoJson"
   ]
  },
  {
   "cell_type": "markdown",
   "source": [
    "Section 2: Connection"
   ],
   "metadata": {
    "collapsed": false
   },
   "id": "dc138e29404375cd"
  },
  {
   "cell_type": "code",
   "execution_count": null,
   "outputs": [],
   "source": [
    "# Database connection parameters\n",
    "dbname = 'DataMining'\n",
    "user = 'postgres'\n",
    "password = 'datamining'\n",
    "host = 'localhost'  # localhost or the server address\n",
    "port = '5433'  # default PostgreSQL port is 5432\n",
    "\n",
    "# Establish a connection to the database\n",
    "connection_str = f\"postgresql://{user}:{password}@{host}:{port}/{dbname}\"\n",
    "engine = create_engine(connection_str)"
   ],
   "metadata": {
    "collapsed": false
   },
   "id": "41cfa314569dc516"
  },
  {
   "cell_type": "markdown",
   "source": [
    "The first function gets all the data for a certain veh_id sorted on timestamp\n",
    "The second function checks for a dataframe that the concurrent entries are correct in the sense that they are very close location wise"
   ],
   "metadata": {
    "collapsed": false
   },
   "id": "de3d89b57e448375"
  },
  {
   "cell_type": "code",
   "execution_count": null,
   "outputs": [],
   "source": [
    "def fetch_data(veh_id):\n",
    "    # Define the query with placeholders for parameters\n",
    "    query = f\"\"\"\n",
    "    SELECT * FROM vehicle_data \n",
    "    WHERE mapped_veh_id = {veh_id}\n",
    "    ORDER BY timestamps_UTC;\n",
    "    \"\"\"\n",
    "\n",
    "    # Start timing\n",
    "    start_time = time.time()\n",
    "\n",
    "    # Execute the query and fetch the data into a DataFrame\n",
    "    df = pd.read_sql_query(query, engine)\n",
    "\n",
    "    # End timing\n",
    "    end_time = time.time()\n",
    "    print(f\"Query took {end_time - start_time} seconds to run.\")\n",
    "    # Close the database connection\n",
    "    engine.dispose()\n",
    "    \n",
    "    return df\n",
    "\n",
    "def entries_not_close(df, treshold_speed):\n",
    "    \"\"\"\n",
    "    Check if consecutive entries in a DataFrame are not within a certain distance of each other\n",
    "    and the time difference between them is less than a specified threshold. Also, calculate and \n",
    "    return the time difference, location difference, and speed (in km/h) between these entries.\n",
    "\n",
    "    Parameters:\n",
    "    df (pandas.DataFrame): The DataFrame containing the location and time data.\n",
    "    threshold_distance (float): The distance threshold in meters.\n",
    "    time_threshold (str): The time difference threshold in Pandas timedelta string format.\n",
    "\n",
    "    Returns:\n",
    "    list of dicts: A list containing details of pairs of rows that are not close to each other \n",
    "                   and have a time difference less than the specified threshold.\n",
    "    \"\"\"\n",
    "    not_close_entries = []\n",
    "\n",
    "    for i in range(len(df) - 1):\n",
    "        current_row = df.iloc[i]\n",
    "        next_row = df.iloc[i + 1]\n",
    "\n",
    "        # Calculate time difference in seconds\n",
    "        time_diff = abs(pd.to_datetime(next_row['timestamps_utc']) - pd.to_datetime(current_row['timestamps_utc']))\n",
    "        time_diff_seconds = time_diff.total_seconds()\n",
    "\n",
    "        if time_diff_seconds <= 60:\n",
    "            # Calculate the distance in meters\n",
    "            distance = geodesic((current_row['lat'], current_row['lon']), (next_row['lat'], next_row['lon'])).meters\n",
    "            \n",
    "            speed_kmh = (distance / time_diff_seconds) * 3.6 if time_diff_seconds > 0 else 0\n",
    "\n",
    "            # Check if the distance exceeds the threshold\n",
    "            if speed_kmh > treshold_speed:\n",
    "                # Calculate speed in km/h (meters per second to km/h conversion)\n",
    "\n",
    "                # Append the result with details\n",
    "                not_close_entries.append({\n",
    "                    'indices': (i, i + 1),\n",
    "                    'time_diff_seconds': time_diff_seconds,\n",
    "                    'distance_meters': distance,\n",
    "                    'speed_kmh': speed_kmh\n",
    "                })\n",
    "\n",
    "    return not_close_entries\n"
   ],
   "metadata": {
    "collapsed": false
   },
   "id": "d1f7efed3856e3c0"
  },
  {
   "cell_type": "code",
   "execution_count": null,
   "outputs": [],
   "source": [
    "df = fetch_data(181)"
   ],
   "metadata": {
    "collapsed": false
   },
   "id": "1467001553c5de4b"
  },
  {
   "cell_type": "code",
   "execution_count": null,
   "outputs": [],
   "source": [
    "print(entries_not_close(df, 10000))"
   ],
   "metadata": {
    "collapsed": false
   },
   "id": "58b7cc53b905391d"
  },
  {
   "cell_type": "markdown",
   "source": [
    "Here we observe that there are quite some entries where the speed can not be correct. After we checked on the map we saw that the points did not make sense. "
   ],
   "metadata": {
    "collapsed": false
   },
   "id": "c767a6333249f38c"
  },
  {
   "cell_type": "code",
   "execution_count": null,
   "outputs": [],
   "source": [
    "# Index values identified by the function\n",
    "index_pair = (221153, 221154)\n",
    "print(df.iloc[index_pair[0]])\n",
    "print(df.iloc[index_pair[1]])"
   ],
   "metadata": {
    "collapsed": false
   },
   "id": "a1a2260efa61118c"
  },
  {
   "cell_type": "code",
   "execution_count": null,
   "outputs": [],
   "source": [
    "belgium_center = [50.5039, 4.4699]  # Roughly the center of Belgium\n",
    "map_belgium = folium.Map(location=belgium_center, zoom_start=8)\n",
    "\n",
    "folium.CircleMarker(\n",
    "        location=[51.168687, 4.786373],\n",
    "        radius=3,\n",
    "        color='blue',\n",
    "        fill=True,\n",
    "        fill_color='blue',\n",
    "        fill_opacity=0.6\n",
    "    ).add_to(map_belgium)\n",
    "\n",
    "folium.CircleMarker(\n",
    "        location=[51.171492, 4.480429],\n",
    "        radius=3,\n",
    "        color='blue',\n",
    "        fill=True,\n",
    "        fill_color='blue',\n",
    "        fill_opacity=0.6\n",
    "    ).add_to(map_belgium)\n",
    "map_belgium"
   ],
   "metadata": {
    "collapsed": false
   },
   "id": "aaca39585d05c1a5"
  },
  {
   "cell_type": "markdown",
   "source": [
    "Here for example the distance is more than 20km but the difference in time is 5 seconds."
   ],
   "metadata": {
    "collapsed": false
   },
   "id": "d9f0da97d94b625e"
  },
  {
   "cell_type": "code",
   "execution_count": null,
   "outputs": [],
   "source": [
    "# Create a Folium map\n",
    "belgium_center = [50.5039, 4.4699]  # Roughly the center of Belgium\n",
    "m = folium.Map(location=belgium_center, zoom_start=12)\n",
    "\n",
    "# Prepare data for the TimestampedGeoJson\n",
    "features = []\n",
    "count = 0\n",
    "for idx, row in df.iterrows():\n",
    "    count += 1\n",
    "    print(count)\n",
    "    feature = {\n",
    "        \"type\": \"Feature\",\n",
    "        \"geometry\": {\n",
    "            \"type\": \"Point\",\n",
    "            \"coordinates\": [row['lon'], row['lat']],\n",
    "        },\n",
    "        \"properties\": {\n",
    "            \"time\": row['timestamps_utc'].isoformat(),\n",
    "            \"popup\": f\"Vehicle ID: {row['mapped_veh_id']}\",\n",
    "        },\n",
    "    }\n",
    "    features.append(feature)\n",
    "\n",
    "# Add the TimestampedGeoJson to the map with a period of 10 minutes\n",
    "TimestampedGeoJson(\n",
    "    {\n",
    "        \"type\": \"FeatureCollection\",\n",
    "        \"features\": features,\n",
    "    },\n",
    "    period=\"PT2M\",  # Change the time period to 10 minutes\n",
    "    add_last_point=False,\n",
    "    duration= \"PT1M\"\n",
    ").add_to(m)\n",
    "m"
   ],
   "metadata": {
    "collapsed": false
   },
   "id": "31dfe07bbdade827"
  },
  {
   "cell_type": "code",
   "execution_count": 58,
   "outputs": [
    {
     "name": "stdout",
     "output_type": "stream",
     "text": [
      "Query took 13.496201038360596 seconds to run.\n"
     ]
    }
   ],
   "source": [
    "engine = create_engine(connection_str)\n",
    "# Define the query with placeholders for parameters\n",
    "query = f\"\"\"\n",
    "SELECT * FROM vehicle_data \n",
    "WHERE (lat, lon) IN (\n",
    "    SELECT lat, lon FROM vehicle_data \n",
    "    WHERE mapped_veh_id = 181\n",
    "    GROUP BY lat, lon\n",
    "    HAVING COUNT(*) > 1\n",
    ")\n",
    "AND mapped_veh_id = 181\n",
    "ORDER BY timestamps_UTC;\n",
    "\n",
    "\"\"\"\n",
    "\n",
    "# Start timing\n",
    "start_time = time.time()\n",
    "\n",
    "# Execute the query and fetch the data into a DataFrame\n",
    "df = pd.read_sql_query(query, engine)\n",
    "\n",
    "# End timing\n",
    "end_time = time.time()\n",
    "print(f\"Query took {end_time - start_time} seconds to run.\")\n",
    "#Close the database connection\n",
    "engine.dispose()"
   ],
   "metadata": {
    "collapsed": false,
    "ExecuteTime": {
     "end_time": "2023-11-19T15:17:22.610523Z",
     "start_time": "2023-11-19T15:17:09.121759Z"
    }
   },
   "id": "105637cd5b7ea0aa"
  },
  {
   "cell_type": "code",
   "execution_count": 60,
   "outputs": [
    {
     "name": "stdout",
     "output_type": "stream",
     "text": [
      "     mapped_veh_id      timestamps_utc        lat       lon  \\\n",
      "0              181 2023-01-26 07:56:20  51.015416  3.775855   \n",
      "1              181 2023-01-26 18:41:13  50.742513  3.603249   \n",
      "2              181 2023-01-27 04:02:46  50.854848  3.605787   \n",
      "3              181 2023-01-27 05:31:54  50.854848  3.605787   \n",
      "4              181 2023-01-27 18:10:21  50.771254  3.618018   \n",
      "..             ...                 ...        ...       ...   \n",
      "498            181 2023-09-13 16:03:03  50.742557  3.603205   \n",
      "499            181 2023-09-13 17:27:14  51.061597  3.739819   \n",
      "500            181 2023-09-13 17:28:13  51.061597  3.739819   \n",
      "501            181 2023-09-13 17:29:13  51.061597  3.739819   \n",
      "502            181 2023-09-13 17:30:14  51.061597  3.739819   \n",
      "\n",
      "     rs_e_inairtemp_pc1  rs_e_inairtemp_pc2  rs_e_oilpress_pc1  \\\n",
      "0                   0.0                 0.0                0.0   \n",
      "1                  19.0                17.0              258.0   \n",
      "2                  14.0                12.0              307.0   \n",
      "3                  13.0                13.0              300.0   \n",
      "4                  47.0                42.0              410.0   \n",
      "..                  ...                 ...                ...   \n",
      "498                43.0                38.0              258.0   \n",
      "499                45.0                41.0              220.0   \n",
      "500                44.0                41.0              227.0   \n",
      "501                42.0                40.0              238.0   \n",
      "502                41.0                38.0              248.0   \n",
      "\n",
      "     rs_e_oilpress_pc2  rs_e_rpm_pc1  rs_e_rpm_pc2  rs_e_wattemp_pc1  \\\n",
      "0                  0.0           0.0           0.0               0.0   \n",
      "1                231.0         800.0         797.0              81.0   \n",
      "2                286.0         803.0         806.0              71.0   \n",
      "3                279.0         797.0         799.0              72.0   \n",
      "4                341.0        1765.0        1783.0              87.0   \n",
      "..                 ...           ...           ...               ...   \n",
      "498              217.0         803.0         800.0              81.0   \n",
      "499              196.0         799.0         799.0              88.0   \n",
      "500              203.0         806.0         812.0              84.0   \n",
      "501              203.0         798.0         802.0              83.0   \n",
      "502              213.0         832.0         852.0              84.0   \n",
      "\n",
      "     rs_e_wattemp_pc2  rs_t_oiltemp_pc1  rs_t_oiltemp_pc2  \n",
      "0                 0.0              77.0              79.0  \n",
      "1                79.0              76.0              79.0  \n",
      "2                66.0              65.0              63.0  \n",
      "3                68.0              66.0              67.0  \n",
      "4                90.0              82.0              86.0  \n",
      "..                ...               ...               ...  \n",
      "498              88.0              79.0              85.0  \n",
      "499              90.0              87.0              90.0  \n",
      "500              85.0              85.0              87.0  \n",
      "501              86.0              84.0              88.0  \n",
      "502              89.0              85.0              91.0  \n",
      "\n",
      "[503 rows x 14 columns]\n"
     ]
    }
   ],
   "source": [
    "print(df)"
   ],
   "metadata": {
    "collapsed": false,
    "ExecuteTime": {
     "end_time": "2023-11-19T15:17:27.226191Z",
     "start_time": "2023-11-19T15:17:27.210365Z"
    }
   },
   "id": "3229624351c59df2"
  },
  {
   "cell_type": "markdown",
   "source": [],
   "metadata": {
    "collapsed": false
   },
   "id": "7aba9af6db4c271c"
  }
 ],
 "metadata": {
  "kernelspec": {
   "display_name": "Python 3",
   "language": "python",
   "name": "python3"
  },
  "language_info": {
   "codemirror_mode": {
    "name": "ipython",
    "version": 2
   },
   "file_extension": ".py",
   "mimetype": "text/x-python",
   "name": "python",
   "nbconvert_exporter": "python",
   "pygments_lexer": "ipython2",
   "version": "2.7.6"
  }
 },
 "nbformat": 4,
 "nbformat_minor": 5
}
