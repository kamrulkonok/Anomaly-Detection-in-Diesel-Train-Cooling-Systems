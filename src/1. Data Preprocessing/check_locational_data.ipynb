{
 "cells": [
  {
   "cell_type": "code",
   "execution_count": 33,
   "id": "initial_id",
   "metadata": {
    "collapsed": true,
    "ExecuteTime": {
     "end_time": "2023-11-19T12:30:00.349175Z",
     "start_time": "2023-11-19T12:30:00.312609Z"
    }
   },
   "outputs": [],
   "source": [
    "# Python standard library imports\n",
    "import time\n",
    "from geopy.distance import geodesic\n",
    "\n",
    "# Third-party imports for database connection and data manipulation\n",
    "from sqlalchemy import create_engine\n",
    "import pandas as pd\n",
    "\n",
    "# Third-party imports for mapping\n",
    "import folium"
   ]
  },
  {
   "cell_type": "markdown",
   "source": [
    "Section 2: Connection"
   ],
   "metadata": {
    "collapsed": false
   },
   "id": "dc138e29404375cd"
  },
  {
   "cell_type": "code",
   "execution_count": 34,
   "outputs": [],
   "source": [
    "# Database connection parameters\n",
    "dbname = 'DataMining'\n",
    "user = 'postgres'\n",
    "password = 'datamining'\n",
    "host = 'localhost'  # localhost or the server address\n",
    "port = '5433'  # default PostgreSQL port is 5432\n",
    "\n",
    "# Establish a connection to the database\n",
    "connection_str = f\"postgresql://{user}:{password}@{host}:{port}/{dbname}\"\n",
    "engine = create_engine(connection_str)"
   ],
   "metadata": {
    "collapsed": false,
    "ExecuteTime": {
     "end_time": "2023-11-19T12:30:00.349682Z",
     "start_time": "2023-11-19T12:30:00.321679Z"
    }
   },
   "id": "41cfa314569dc516"
  },
  {
   "cell_type": "markdown",
   "source": [
    "The first function gets all the data for a certain veh_id sorted on timestamp\n",
    "The second function checks for a dataframe that the concurrent entries are correct in the sense that they are very close location wise"
   ],
   "metadata": {
    "collapsed": false
   },
   "id": "de3d89b57e448375"
  },
  {
   "cell_type": "code",
   "execution_count": 42,
   "outputs": [],
   "source": [
    "def fetch_data(veh_id):\n",
    "    # Define the query with placeholders for parameters\n",
    "    query = f\"\"\"\n",
    "    SELECT * FROM vehicle_data \n",
    "    WHERE mapped_veh_id = {veh_id}\n",
    "    ORDER BY timestamps_UTC;\n",
    "    \"\"\"\n",
    "\n",
    "    # Start timing\n",
    "    start_time = time.time()\n",
    "\n",
    "    # Execute the query and fetch the data into a DataFrame\n",
    "    df = pd.read_sql_query(query, engine)\n",
    "\n",
    "    # End timing\n",
    "    end_time = time.time()\n",
    "    print(f\"Query took {end_time - start_time} seconds to run.\")\n",
    "    # Close the database connection\n",
    "    engine.dispose()\n",
    "    \n",
    "    return df\n",
    "\n",
    "def entries_not_close(df, treshold_speed):\n",
    "    \"\"\"\n",
    "    Check if consecutive entries in a DataFrame are not within a certain distance of each other\n",
    "    and the time difference between them is less than a specified threshold. Also, calculate and \n",
    "    return the time difference, location difference, and speed (in km/h) between these entries.\n",
    "\n",
    "    Parameters:\n",
    "    df (pandas.DataFrame): The DataFrame containing the location and time data.\n",
    "    threshold_distance (float): The distance threshold in meters.\n",
    "    time_threshold (str): The time difference threshold in Pandas timedelta string format.\n",
    "\n",
    "    Returns:\n",
    "    list of dicts: A list containing details of pairs of rows that are not close to each other \n",
    "                   and have a time difference less than the specified threshold.\n",
    "    \"\"\"\n",
    "    not_close_entries = []\n",
    "\n",
    "    for i in range(len(df) - 1):\n",
    "        current_row = df.iloc[i]\n",
    "        next_row = df.iloc[i + 1]\n",
    "\n",
    "        # Calculate time difference in seconds\n",
    "        time_diff = abs(pd.to_datetime(next_row['timestamps_utc']) - pd.to_datetime(current_row['timestamps_utc']))\n",
    "        time_diff_seconds = time_diff.total_seconds()\n",
    "\n",
    "        if time_diff_seconds <= 60:\n",
    "            # Calculate the distance in meters\n",
    "            distance = geodesic((current_row['lat'], current_row['lon']), (next_row['lat'], next_row['lon'])).meters\n",
    "            \n",
    "            speed_kmh = (distance / time_diff_seconds) * 3.6 if time_diff_seconds > 0 else 0\n",
    "\n",
    "            # Check if the distance exceeds the threshold\n",
    "            if speed_kmh > treshold_speed:\n",
    "                # Calculate speed in km/h (meters per second to km/h conversion)\n",
    "\n",
    "                # Append the result with details\n",
    "                not_close_entries.append({\n",
    "                    'indices': (i, i + 1),\n",
    "                    'time_diff_seconds': time_diff_seconds,\n",
    "                    'distance_meters': distance,\n",
    "                    'speed_kmh': speed_kmh\n",
    "                })\n",
    "\n",
    "    return not_close_entries\n"
   ],
   "metadata": {
    "collapsed": false,
    "ExecuteTime": {
     "end_time": "2023-11-19T12:36:35.873475Z",
     "start_time": "2023-11-19T12:36:35.869680Z"
    }
   },
   "id": "d1f7efed3856e3c0"
  },
  {
   "cell_type": "code",
   "execution_count": 36,
   "outputs": [
    {
     "name": "stdout",
     "output_type": "stream",
     "text": [
      "Query took 8.514650821685791 seconds to run.\n"
     ]
    }
   ],
   "source": [
    "df = fetch_data(181)"
   ],
   "metadata": {
    "collapsed": false,
    "ExecuteTime": {
     "end_time": "2023-11-19T12:30:08.860468Z",
     "start_time": "2023-11-19T12:30:00.335188Z"
    }
   },
   "id": "1467001553c5de4b"
  },
  {
   "cell_type": "code",
   "execution_count": 43,
   "outputs": [
    {
     "name": "stdout",
     "output_type": "stream",
     "text": [
      "[{'indices': (18339, 18340), 'time_diff_seconds': 1.0, 'distance_meters': 2968.634126572451, 'speed_kmh': 10687.082855660823}, {'indices': (18343, 18344), 'time_diff_seconds': 1.0, 'distance_meters': 4052.4783512860686, 'speed_kmh': 14588.922064629847}, {'indices': (18345, 18346), 'time_diff_seconds': 1.0, 'distance_meters': 4480.233072526793, 'speed_kmh': 16128.839061096454}, {'indices': (50160, 50161), 'time_diff_seconds': 1.0, 'distance_meters': 5088.420746354056, 'speed_kmh': 18318.3146868746}, {'indices': (50162, 50163), 'time_diff_seconds': 1.0, 'distance_meters': 5889.42138002374, 'speed_kmh': 21201.916968085465}, {'indices': (50170, 50171), 'time_diff_seconds': 1.0, 'distance_meters': 8862.308238027852, 'speed_kmh': 31904.309656900266}, {'indices': (50177, 50178), 'time_diff_seconds': 2.0, 'distance_meters': 8865.54202842724, 'speed_kmh': 15957.975651169034}, {'indices': (50736, 50737), 'time_diff_seconds': 1.0, 'distance_meters': 5653.663076806266, 'speed_kmh': 20353.18707650256}, {'indices': (50738, 50739), 'time_diff_seconds': 1.0, 'distance_meters': 5746.224829457278, 'speed_kmh': 20686.4093860462}, {'indices': (50740, 50741), 'time_diff_seconds': 1.0, 'distance_meters': 5936.172614717577, 'speed_kmh': 21370.221412983276}, {'indices': (63703, 63704), 'time_diff_seconds': 1.0, 'distance_meters': 4335.633678968533, 'speed_kmh': 15608.281244286718}, {'indices': (63722, 63723), 'time_diff_seconds': 2.0, 'distance_meters': 8370.197546331949, 'speed_kmh': 15066.355583397508}, {'indices': (63724, 63725), 'time_diff_seconds': 2.0, 'distance_meters': 9787.53119390596, 'speed_kmh': 17617.556149030726}, {'indices': (63726, 63727), 'time_diff_seconds': 1.0, 'distance_meters': 9892.912958020368, 'speed_kmh': 35614.486648873324}, {'indices': (63732, 63733), 'time_diff_seconds': 1.0, 'distance_meters': 13430.381482102854, 'speed_kmh': 48349.37333557027}, {'indices': (63734, 63735), 'time_diff_seconds': 1.0, 'distance_meters': 13909.96384441921, 'speed_kmh': 50075.86983990916}, {'indices': (63736, 63737), 'time_diff_seconds': 1.0, 'distance_meters': 13914.529538174467, 'speed_kmh': 50092.30633742808}, {'indices': (70222, 70223), 'time_diff_seconds': 1.0, 'distance_meters': 3434.7731519127638, 'speed_kmh': 12365.18334688595}, {'indices': (70227, 70228), 'time_diff_seconds': 1.0, 'distance_meters': 4256.065370804349, 'speed_kmh': 15321.835334895657}, {'indices': (70241, 70242), 'time_diff_seconds': 2.0, 'distance_meters': 6180.01265727348, 'speed_kmh': 11124.022783092263}, {'indices': (70243, 70244), 'time_diff_seconds': 1.0, 'distance_meters': 6179.058281818773, 'speed_kmh': 22244.609814547584}, {'indices': (70245, 70246), 'time_diff_seconds': 1.0, 'distance_meters': 6178.965420738205, 'speed_kmh': 22244.275514657536}, {'indices': (70247, 70248), 'time_diff_seconds': 1.0, 'distance_meters': 6416.306098400198, 'speed_kmh': 23098.70195424071}, {'indices': (70258, 70259), 'time_diff_seconds': 1.0, 'distance_meters': 8987.574055378142, 'speed_kmh': 32355.26659936131}, {'indices': (99199, 99200), 'time_diff_seconds': 1.0, 'distance_meters': 3779.040153775721, 'speed_kmh': 13604.544553592596}, {'indices': (99202, 99203), 'time_diff_seconds': 1.0, 'distance_meters': 4530.718712187855, 'speed_kmh': 16310.587363876279}, {'indices': (99204, 99205), 'time_diff_seconds': 2.0, 'distance_meters': 5923.571002399073, 'speed_kmh': 10662.427804318331}, {'indices': (99206, 99207), 'time_diff_seconds': 2.0, 'distance_meters': 6159.248511144702, 'speed_kmh': 11086.647320060465}, {'indices': (99213, 99214), 'time_diff_seconds': 2.0, 'distance_meters': 8042.0174696097465, 'speed_kmh': 14475.631445297544}, {'indices': (99215, 99216), 'time_diff_seconds': 3.0, 'distance_meters': 8522.473088938394, 'speed_kmh': 10226.967706726073}, {'indices': (99217, 99218), 'time_diff_seconds': 2.0, 'distance_meters': 8989.310548588654, 'speed_kmh': 16180.758987459576}, {'indices': (100915, 100916), 'time_diff_seconds': 1.0, 'distance_meters': 2852.9161039327796, 'speed_kmh': 10270.497974158006}, {'indices': (100927, 100928), 'time_diff_seconds': 1.0, 'distance_meters': 6960.919885247366, 'speed_kmh': 25059.31158689052}, {'indices': (134929, 134930), 'time_diff_seconds': 2.0, 'distance_meters': 6118.798113966698, 'speed_kmh': 11013.836605140057}, {'indices': (221151, 221152), 'time_diff_seconds': 1.0, 'distance_meters': 4470.722060500252, 'speed_kmh': 16094.599417800908}, {'indices': (221153, 221154), 'time_diff_seconds': 1.0, 'distance_meters': 4625.480036189571, 'speed_kmh': 16651.728130282456}, {'indices': (221156, 221157), 'time_diff_seconds': 1.0, 'distance_meters': 5098.940939483577, 'speed_kmh': 18356.187382140877}, {'indices': (221160, 221161), 'time_diff_seconds': 1.0, 'distance_meters': 6907.681660559073, 'speed_kmh': 24867.653978012662}, {'indices': (221163, 221164), 'time_diff_seconds': 1.0, 'distance_meters': 7847.961844139022, 'speed_kmh': 28252.66263890048}, {'indices': (221165, 221166), 'time_diff_seconds': 1.0, 'distance_meters': 8882.609203535929, 'speed_kmh': 31977.393132729343}, {'indices': (221168, 221169), 'time_diff_seconds': 2.0, 'distance_meters': 9629.183145410836, 'speed_kmh': 17332.529661739507}, {'indices': (240526, 240527), 'time_diff_seconds': 2.0, 'distance_meters': 7260.991713761712, 'speed_kmh': 13069.785084771082}, {'indices': (240530, 240531), 'time_diff_seconds': 2.0, 'distance_meters': 9354.61315394315, 'speed_kmh': 16838.30367709767}, {'indices': (240538, 240539), 'time_diff_seconds': 1.0, 'distance_meters': 14190.63057040911, 'speed_kmh': 51086.2700534728}, {'indices': (240540, 240541), 'time_diff_seconds': 1.0, 'distance_meters': 16004.997528644893, 'speed_kmh': 57617.99110312162}, {'indices': (240542, 240543), 'time_diff_seconds': 5.0, 'distance_meters': 17884.873593623666, 'speed_kmh': 12877.10898740904}, {'indices': (240544, 240545), 'time_diff_seconds': 5.0, 'distance_meters': 19730.231287487175, 'speed_kmh': 14205.766526990767}, {'indices': (240546, 240547), 'time_diff_seconds': 5.0, 'distance_meters': 21400.179406969575, 'speed_kmh': 15408.129173018093}]\n"
     ]
    }
   ],
   "source": [
    "print(entries_not_close(df, 10000))"
   ],
   "metadata": {
    "collapsed": false,
    "ExecuteTime": {
     "end_time": "2023-11-19T12:37:48.145518Z",
     "start_time": "2023-11-19T12:36:43.129822Z"
    }
   },
   "id": "58b7cc53b905391d"
  },
  {
   "cell_type": "markdown",
   "source": [
    "Here we observe that there are quite some entries where the speed can not be correct. After we checked on the map we saw that the points did not make sense. "
   ],
   "metadata": {
    "collapsed": false
   },
   "id": "c767a6333249f38c"
  },
  {
   "cell_type": "code",
   "execution_count": 47,
   "outputs": [
    {
     "name": "stdout",
     "output_type": "stream",
     "text": [
      "mapped_veh_id                         181\n",
      "timestamps_utc        2023-08-23 08:36:25\n",
      "lat                             51.164911\n",
      "lon                              4.735919\n",
      "rs_e_inairtemp_pc1                   46.0\n",
      "rs_e_inairtemp_pc2                   41.0\n",
      "rs_e_oilpress_pc1                   403.0\n",
      "rs_e_oilpress_pc2                   351.0\n",
      "rs_e_rpm_pc1                       1888.0\n",
      "rs_e_rpm_pc2                       1930.0\n",
      "rs_e_wattemp_pc1                     88.0\n",
      "rs_e_wattemp_pc2                     87.0\n",
      "rs_t_oiltemp_pc1                     84.0\n",
      "rs_t_oiltemp_pc2                     87.0\n",
      "Name: 240542, dtype: object\n",
      "mapped_veh_id                         181\n",
      "timestamps_utc        2023-08-23 08:36:30\n",
      "lat                             51.171492\n",
      "lon                              4.480429\n",
      "rs_e_inairtemp_pc1                   46.0\n",
      "rs_e_inairtemp_pc2                   41.0\n",
      "rs_e_oilpress_pc1                   410.0\n",
      "rs_e_oilpress_pc2                   351.0\n",
      "rs_e_rpm_pc1                       1918.0\n",
      "rs_e_rpm_pc2                       1896.0\n",
      "rs_e_wattemp_pc1                     88.0\n",
      "rs_e_wattemp_pc2                     87.0\n",
      "rs_t_oiltemp_pc1                     84.0\n",
      "rs_t_oiltemp_pc2                     87.0\n",
      "Name: 240543, dtype: object\n"
     ]
    }
   ],
   "source": [
    "# Index values identified by the function\n",
    "index_pair = (240542, 240543)\n",
    "print(df.iloc[index_pair[0]])\n",
    "print(df.iloc[index_pair[1]])"
   ],
   "metadata": {
    "collapsed": false,
    "ExecuteTime": {
     "end_time": "2023-11-19T14:37:48.318647Z",
     "start_time": "2023-11-19T14:37:48.234235Z"
    }
   },
   "id": "a1a2260efa61118c"
  },
  {
   "cell_type": "code",
   "execution_count": 46,
   "outputs": [
    {
     "data": {
      "text/plain": "<folium.folium.Map at 0x7fa74b85c760>",
      "text/html": "<div style=\"width:100%;\"><div style=\"position:relative;width:100%;height:0;padding-bottom:60%;\"><span style=\"color:#565656\">Make this Notebook Trusted to load map: File -> Trust Notebook</span><iframe srcdoc=\"&lt;!DOCTYPE html&gt;\n&lt;html&gt;\n&lt;head&gt;\n    \n    &lt;meta http-equiv=&quot;content-type&quot; content=&quot;text/html; charset=UTF-8&quot; /&gt;\n    \n        &lt;script&gt;\n            L_NO_TOUCH = false;\n            L_DISABLE_3D = false;\n        &lt;/script&gt;\n    \n    &lt;style&gt;html, body {width: 100%;height: 100%;margin: 0;padding: 0;}&lt;/style&gt;\n    &lt;style&gt;#map {position:absolute;top:0;bottom:0;right:0;left:0;}&lt;/style&gt;\n    &lt;script src=&quot;https://cdn.jsdelivr.net/npm/leaflet@1.9.3/dist/leaflet.js&quot;&gt;&lt;/script&gt;\n    &lt;script src=&quot;https://code.jquery.com/jquery-3.7.1.min.js&quot;&gt;&lt;/script&gt;\n    &lt;script src=&quot;https://cdn.jsdelivr.net/npm/bootstrap@5.2.2/dist/js/bootstrap.bundle.min.js&quot;&gt;&lt;/script&gt;\n    &lt;script src=&quot;https://cdnjs.cloudflare.com/ajax/libs/Leaflet.awesome-markers/2.0.2/leaflet.awesome-markers.js&quot;&gt;&lt;/script&gt;\n    &lt;link rel=&quot;stylesheet&quot; href=&quot;https://cdn.jsdelivr.net/npm/leaflet@1.9.3/dist/leaflet.css&quot;/&gt;\n    &lt;link rel=&quot;stylesheet&quot; href=&quot;https://cdn.jsdelivr.net/npm/bootstrap@5.2.2/dist/css/bootstrap.min.css&quot;/&gt;\n    &lt;link rel=&quot;stylesheet&quot; href=&quot;https://netdna.bootstrapcdn.com/bootstrap/3.0.0/css/bootstrap.min.css&quot;/&gt;\n    &lt;link rel=&quot;stylesheet&quot; href=&quot;https://cdn.jsdelivr.net/npm/@fortawesome/fontawesome-free@6.2.0/css/all.min.css&quot;/&gt;\n    &lt;link rel=&quot;stylesheet&quot; href=&quot;https://cdnjs.cloudflare.com/ajax/libs/Leaflet.awesome-markers/2.0.2/leaflet.awesome-markers.css&quot;/&gt;\n    &lt;link rel=&quot;stylesheet&quot; href=&quot;https://cdn.jsdelivr.net/gh/python-visualization/folium/folium/templates/leaflet.awesome.rotate.min.css&quot;/&gt;\n    \n            &lt;meta name=&quot;viewport&quot; content=&quot;width=device-width,\n                initial-scale=1.0, maximum-scale=1.0, user-scalable=no&quot; /&gt;\n            &lt;style&gt;\n                #map_d126d318946736fc9e15969bc088e220 {\n                    position: relative;\n                    width: 100.0%;\n                    height: 100.0%;\n                    left: 0.0%;\n                    top: 0.0%;\n                }\n                .leaflet-container { font-size: 1rem; }\n            &lt;/style&gt;\n        \n&lt;/head&gt;\n&lt;body&gt;\n    \n    \n            &lt;div class=&quot;folium-map&quot; id=&quot;map_d126d318946736fc9e15969bc088e220&quot; &gt;&lt;/div&gt;\n        \n&lt;/body&gt;\n&lt;script&gt;\n    \n    \n            var map_d126d318946736fc9e15969bc088e220 = L.map(\n                &quot;map_d126d318946736fc9e15969bc088e220&quot;,\n                {\n                    center: [50.5039, 4.4699],\n                    crs: L.CRS.EPSG3857,\n                    zoom: 8,\n                    zoomControl: true,\n                    preferCanvas: false,\n                }\n            );\n\n            \n\n        \n    \n            var tile_layer_72c6a7ed2ff86998d3af022eca7db4e1 = L.tileLayer(\n                &quot;https://{s}.tile.openstreetmap.org/{z}/{x}/{y}.png&quot;,\n                {&quot;attribution&quot;: &quot;Data by \\u0026copy; \\u003ca target=\\&quot;_blank\\&quot; href=\\&quot;http://openstreetmap.org\\&quot;\\u003eOpenStreetMap\\u003c/a\\u003e, under \\u003ca target=\\&quot;_blank\\&quot; href=\\&quot;http://www.openstreetmap.org/copyright\\&quot;\\u003eODbL\\u003c/a\\u003e.&quot;, &quot;detectRetina&quot;: false, &quot;maxNativeZoom&quot;: 18, &quot;maxZoom&quot;: 18, &quot;minZoom&quot;: 0, &quot;noWrap&quot;: false, &quot;opacity&quot;: 1, &quot;subdomains&quot;: &quot;abc&quot;, &quot;tms&quot;: false}\n            );\n        \n    \n                tile_layer_72c6a7ed2ff86998d3af022eca7db4e1.addTo(map_d126d318946736fc9e15969bc088e220);\n    \n            var circle_marker_3cdf2abae061b5a6fdab0a929fe33f26 = L.circleMarker(\n                [51.168687, 4.786373],\n                {&quot;bubblingMouseEvents&quot;: true, &quot;color&quot;: &quot;blue&quot;, &quot;dashArray&quot;: null, &quot;dashOffset&quot;: null, &quot;fill&quot;: true, &quot;fillColor&quot;: &quot;blue&quot;, &quot;fillOpacity&quot;: 0.6, &quot;fillRule&quot;: &quot;evenodd&quot;, &quot;lineCap&quot;: &quot;round&quot;, &quot;lineJoin&quot;: &quot;round&quot;, &quot;opacity&quot;: 1.0, &quot;radius&quot;: 3, &quot;stroke&quot;: true, &quot;weight&quot;: 3}\n            ).addTo(map_d126d318946736fc9e15969bc088e220);\n        \n    \n            var circle_marker_1cc2bc4a715583c4562ebe28dd1a6cdb = L.circleMarker(\n                [51.171492, 4.480429],\n                {&quot;bubblingMouseEvents&quot;: true, &quot;color&quot;: &quot;blue&quot;, &quot;dashArray&quot;: null, &quot;dashOffset&quot;: null, &quot;fill&quot;: true, &quot;fillColor&quot;: &quot;blue&quot;, &quot;fillOpacity&quot;: 0.6, &quot;fillRule&quot;: &quot;evenodd&quot;, &quot;lineCap&quot;: &quot;round&quot;, &quot;lineJoin&quot;: &quot;round&quot;, &quot;opacity&quot;: 1.0, &quot;radius&quot;: 3, &quot;stroke&quot;: true, &quot;weight&quot;: 3}\n            ).addTo(map_d126d318946736fc9e15969bc088e220);\n        \n&lt;/script&gt;\n&lt;/html&gt;\" style=\"position:absolute;width:100%;height:100%;left:0;top:0;border:none !important;\" allowfullscreen webkitallowfullscreen mozallowfullscreen></iframe></div></div>"
     },
     "execution_count": 46,
     "metadata": {},
     "output_type": "execute_result"
    }
   ],
   "source": [
    "belgium_center = [50.5039, 4.4699]  # Roughly the center of Belgium\n",
    "map_belgium = folium.Map(location=belgium_center, zoom_start=8)\n",
    "\n",
    "folium.CircleMarker(\n",
    "        location=[51.168687, 4.786373],\n",
    "        radius=3,\n",
    "        color='blue',\n",
    "        fill=True,\n",
    "        fill_color='blue',\n",
    "        fill_opacity=0.6\n",
    "    ).add_to(map_belgium)\n",
    "\n",
    "folium.CircleMarker(\n",
    "        location=[51.171492, 4.480429],\n",
    "        radius=3,\n",
    "        color='blue',\n",
    "        fill=True,\n",
    "        fill_color='blue',\n",
    "        fill_opacity=0.6\n",
    "    ).add_to(map_belgium)\n",
    "map_belgium"
   ],
   "metadata": {
    "collapsed": false,
    "ExecuteTime": {
     "end_time": "2023-11-19T14:22:44.473957Z",
     "start_time": "2023-11-19T14:22:44.396526Z"
    }
   },
   "id": "aaca39585d05c1a5"
  },
  {
   "cell_type": "markdown",
   "source": [
    "Here for example the distance is more than 20km but the difference in time is 5 seconds."
   ],
   "metadata": {
    "collapsed": false
   },
   "id": "d9f0da97d94b625e"
  },
  {
   "cell_type": "code",
   "execution_count": null,
   "outputs": [],
   "source": [],
   "metadata": {
    "collapsed": false
   },
   "id": "31dfe07bbdade827"
  },
  {
   "cell_type": "markdown",
   "source": [],
   "metadata": {
    "collapsed": false
   },
   "id": "7aba9af6db4c271c"
  }
 ],
 "metadata": {
  "kernelspec": {
   "display_name": "Python 3",
   "language": "python",
   "name": "python3"
  },
  "language_info": {
   "codemirror_mode": {
    "name": "ipython",
    "version": 2
   },
   "file_extension": ".py",
   "mimetype": "text/x-python",
   "name": "python",
   "nbconvert_exporter": "python",
   "pygments_lexer": "ipython2",
   "version": "2.7.6"
  }
 },
 "nbformat": 4,
 "nbformat_minor": 5
}
