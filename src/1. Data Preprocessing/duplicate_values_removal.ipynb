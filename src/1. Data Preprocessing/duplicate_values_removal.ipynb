{
 "cells": [
  {
   "cell_type": "code",
   "execution_count": 1,
   "id": "initial_id",
   "metadata": {
    "collapsed": true,
    "ExecuteTime": {
     "end_time": "2023-11-19T11:35:04.004890Z",
     "start_time": "2023-11-19T11:35:02.258988Z"
    }
   },
   "outputs": [],
   "source": [
    "# Python standard library imports\n",
    "import time\n",
    "\n",
    "# Third-party imports for database connection and data manipulation\n",
    "from sqlalchemy import create_engine\n",
    "import pandas as pd\n",
    "\n",
    "# Third-party imports for mapping\n",
    "import folium"
   ]
  },
  {
   "cell_type": "markdown",
   "source": [
    "Section 2: Connection"
   ],
   "metadata": {
    "collapsed": false
   },
   "id": "dc138e29404375cd"
  },
  {
   "cell_type": "code",
   "execution_count": 2,
   "outputs": [],
   "source": [
    "# Database connection parameters\n",
    "dbname = 'DataMining'\n",
    "user = 'postgres'\n",
    "password = 'datamining'\n",
    "host = 'localhost'  # localhost or the server address\n",
    "port = '5433'  # default PostgreSQL port is 5432\n",
    "\n",
    "# Establish a connection to the database\n",
    "connection_str = f\"postgresql://{user}:{password}@{host}:{port}/{dbname}\"\n",
    "engine = create_engine(connection_str)"
   ],
   "metadata": {
    "collapsed": false,
    "ExecuteTime": {
     "end_time": "2023-11-19T11:35:09.194648Z",
     "start_time": "2023-11-19T11:35:09.106362Z"
    }
   },
   "id": "41cfa314569dc516"
  },
  {
   "cell_type": "markdown",
   "source": [
    "The following SQL query is designed to identify and count duplicate rows in the vehicle_data table."
   ],
   "metadata": {
    "collapsed": false
   },
   "id": "de3d89b57e448375"
  },
  {
   "cell_type": "code",
   "execution_count": 3,
   "outputs": [
    {
     "name": "stdout",
     "output_type": "stream",
     "text": [
      "Query took 27.09993028640747 seconds to run.\n"
     ]
    }
   ],
   "source": [
    "# Define the query with placeholders for parameters\n",
    "query = f\"\"\"\n",
    "SELECT \n",
    "    mapped_veh_id, \n",
    "    timestamps_UTC, \n",
    "    lat, \n",
    "    lon, \n",
    "    RS_E_InAirTemp_PC1, \n",
    "    RS_E_InAirTemp_PC2, \n",
    "    RS_E_OilPress_PC1, \n",
    "    RS_E_OilPress_PC2, \n",
    "    RS_E_RPM_PC1, \n",
    "    RS_E_RPM_PC2, \n",
    "    RS_E_WatTemp_PC1, \n",
    "    RS_E_WatTemp_PC2, \n",
    "    RS_T_OilTemp_PC1, \n",
    "    RS_T_OilTemp_PC2, \n",
    "    COUNT(*) AS duplicate_count\n",
    "FROM \n",
    "    vehicle_data\n",
    "GROUP BY \n",
    "    mapped_veh_id, \n",
    "    timestamps_UTC, \n",
    "    lat, \n",
    "    lon, \n",
    "    RS_E_InAirTemp_PC1, \n",
    "    RS_E_InAirTemp_PC2, \n",
    "    RS_E_OilPress_PC1, \n",
    "    RS_E_OilPress_PC2, \n",
    "    RS_E_RPM_PC1, \n",
    "    RS_E_RPM_PC2, \n",
    "    RS_E_WatTemp_PC1, \n",
    "    RS_E_WatTemp_PC2, \n",
    "    RS_T_OilTemp_PC1, \n",
    "    RS_T_OilTemp_PC2\n",
    "HAVING \n",
    "    COUNT(*) > 1;\n",
    "\n",
    "\"\"\"\n",
    "\n",
    "# Start timing\n",
    "start_time = time.time()\n",
    "\n",
    "# Execute the query and fetch the data into a DataFrame\n",
    "df = pd.read_sql_query(query, engine)\n",
    "\n",
    "# End timing\n",
    "end_time = time.time()\n",
    "print(f\"Query took {end_time - start_time} seconds to run.\")\n",
    "# Close the database connection\n",
    "engine.dispose()"
   ],
   "metadata": {
    "collapsed": false,
    "ExecuteTime": {
     "end_time": "2023-11-19T11:35:42.591977Z",
     "start_time": "2023-11-19T11:35:15.480186Z"
    }
   },
   "id": "d1f7efed3856e3c0"
  },
  {
   "cell_type": "code",
   "execution_count": 7,
   "outputs": [
    {
     "data": {
      "text/plain": "0"
     },
     "execution_count": 7,
     "metadata": {},
     "output_type": "execute_result"
    }
   ],
   "source": [
    "df.size"
   ],
   "metadata": {
    "collapsed": false,
    "ExecuteTime": {
     "end_time": "2023-11-19T11:38:39.937043Z",
     "start_time": "2023-11-19T11:38:39.924446Z"
    }
   },
   "id": "1467001553c5de4b"
  },
  {
   "cell_type": "markdown",
   "source": [
    "The size of the executed query is zero, so we can conclude that there are no exact duplicate values. "
   ],
   "metadata": {
    "collapsed": false
   },
   "id": "2863962115a6212a"
  },
  {
   "cell_type": "markdown",
   "source": [],
   "metadata": {
    "collapsed": false
   },
   "id": "7aba9af6db4c271c"
  }
 ],
 "metadata": {
  "kernelspec": {
   "display_name": "Python 3",
   "language": "python",
   "name": "python3"
  },
  "language_info": {
   "codemirror_mode": {
    "name": "ipython",
    "version": 2
   },
   "file_extension": ".py",
   "mimetype": "text/x-python",
   "name": "python",
   "nbconvert_exporter": "python",
   "pygments_lexer": "ipython2",
   "version": "2.7.6"
  }
 },
 "nbformat": 4,
 "nbformat_minor": 5
}
