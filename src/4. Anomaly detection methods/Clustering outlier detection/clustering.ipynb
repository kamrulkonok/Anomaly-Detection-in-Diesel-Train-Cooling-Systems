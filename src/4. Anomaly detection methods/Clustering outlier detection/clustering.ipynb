{
 "cells": [
  {
   "cell_type": "code",
   "execution_count": 4,
   "id": "initial_id",
   "metadata": {
    "collapsed": true,
    "ExecuteTime": {
     "end_time": "2023-12-16T14:23:19.231691Z",
     "start_time": "2023-12-16T14:23:19.229933Z"
    }
   },
   "outputs": [],
   "source": [
    "import pandas as pd\n",
    "from sqlalchemy import create_engine\n",
    "\n",
    "\n",
    "dbname = 'DataMining'\n",
    "user = 'postgres'\n",
    "password = 'datamining'\n",
    "host = 'localhost'  # localhost or the server address\n",
    "port = '5433'  # default PostgreSQL port is 5432\n",
    "\n",
    "# Establish a connection to the database\n",
    "connection_str = f\"postgresql://{user}:{password}@{host}:{port}/{dbname}\"\n",
    "engine = create_engine(connection_str)"
   ]
  },
  {
   "cell_type": "code",
   "execution_count": 10,
   "outputs": [],
   "source": [
    "query = \"\"\"\n",
    "SELECT \n",
    "    timestamps_utc, \n",
    "    lat, \n",
    "    lon, \n",
    "    rs_e_inairtemp_pc1, \n",
    "    rs_e_inairtemp_pc2, \n",
    "    rs_e_oilpress_pc1, \n",
    "    rs_e_oilpress_pc2, \n",
    "    rs_e_rpm_pc1, \n",
    "    rs_e_rpm_pc2, \n",
    "    rs_e_wattemp_pc1, \n",
    "    rs_e_wattemp_pc2, \n",
    "    rs_t_oiltemp_pc1, \n",
    "    rs_t_oiltemp_pc2\n",
    "FROM \n",
    "    vehicle_data;\n",
    "\"\"\"\n",
    "\n",
    "\n",
    "# Execute the query and fetch the data into a DataFrame\n",
    "df = pd.read_sql_query(query, engine)\n",
    "\n",
    "# Close the database connection\n",
    "engine.dispose()"
   ],
   "metadata": {
    "collapsed": false,
    "ExecuteTime": {
     "end_time": "2023-12-16T14:42:15.764880Z",
     "start_time": "2023-12-16T14:24:36.482761Z"
    }
   },
   "id": "8b2c7cfe115153d1"
  },
  {
   "cell_type": "markdown",
   "source": [
    "NORMALIZE DATA FOR PROXIMITY BASED CLUSTERING"
   ],
   "metadata": {
    "collapsed": false
   },
   "id": "5a4a529345a9e2a7"
  },
  {
   "cell_type": "code",
   "execution_count": 13,
   "outputs": [],
   "source": [
    "from sklearn.preprocessing import MinMaxScaler\n",
    "from sklearn.neighbors import LocalOutlierFactor\n",
    "# Drop rows with NaN values\n",
    "df = df.dropna()\n",
    "\n",
    "data_columns = [\n",
    "    'rs_e_inairtemp_pc1', 'rs_e_inairtemp_pc2',\n",
    "    'rs_e_oilpress_pc1', 'rs_e_oilpress_pc2',\n",
    "    'rs_e_rpm_pc1', 'rs_e_rpm_pc2',\n",
    "    'rs_e_wattemp_pc1', 'rs_e_wattemp_pc2',\n",
    "    'rs_t_oiltemp_pc1', 'rs_t_oiltemp_pc2'\n",
    "]\n",
    "\n",
    "\n",
    "\n",
    "# Initialize the MinMaxScaler\n",
    "scaler = MinMaxScaler()\n",
    "\n",
    "# Fit and transform the data\n",
    "df_normalized_lof = df.copy()\n",
    "df_normalized_lof[data_columns] = scaler.fit_transform(df[data_columns])\n",
    "\n",
    "df_normalized_iso_forest = df.copy()\n",
    "df_normalized_iso_forest[data_columns] = scaler.fit_transform(df[data_columns])\n"
   ],
   "metadata": {
    "collapsed": false,
    "ExecuteTime": {
     "end_time": "2023-12-16T15:09:47.113728Z",
     "start_time": "2023-12-16T15:09:27.736151Z"
    }
   },
   "id": "cbd23936ba12eb27"
  },
  {
   "cell_type": "markdown",
   "source": [
    "LOCAL OUTLIER DETECTION"
   ],
   "metadata": {
    "collapsed": false
   },
   "id": "31ef362f8748067b"
  },
  {
   "cell_type": "code",
   "execution_count": null,
   "outputs": [],
   "source": [
    "# Now apply Local Outlier Factor for proximity-based outlier detection\n",
    "# LocalOutlierFactor is one way to do proximity-based outlier detection\n",
    "lof = LocalOutlierFactor(n_neighbors=20, algorithm='auto', metric='euclidean', contamination='auto')\n",
    "\n",
    "# Fit the model and predict outliers\n",
    "# The negative_outlier_factor_ is the opposite of the outlier score. Lower means more abnormal.\n",
    "df_normalized_lof['outlier_score'] = lof.fit_predict(df_normalized_lof[data_columns])\n",
    "\n",
    "# You can then filter the outliers based on the outlier score\n",
    "# Outliers will have an outlier score of -1\n",
    "outliers = df_normalized_lof[df_normalized_lof['outlier_score'] == -1]\n",
    "\n",
    "# You can also examine the negative outlier factor to see how \"outlying\" a point is\n",
    "df_normalized_lof['negative_outlier_factor'] = lof.negative_outlier_factor_\n",
    "\n",
    "# Display outliers\n",
    "print(outliers)"
   ],
   "metadata": {
    "collapsed": false,
    "is_executing": true,
    "ExecuteTime": {
     "start_time": "2023-12-16T15:09:59.254968Z"
    }
   },
   "id": "9d5f01cca7ffab03"
  },
  {
   "cell_type": "markdown",
   "source": [
    "Isolation Forest"
   ],
   "metadata": {
    "collapsed": false
   },
   "id": "132abce48247d358"
  },
  {
   "cell_type": "code",
   "execution_count": null,
   "outputs": [],
   "source": [
    "from sklearn.ensemble import IsolationForest\n",
    "iso_forest = IsolationForest(n_estimators=100, contamination='auto', random_state=42)\n",
    "df_normalized_iso_forest['iso_forest_score'] = iso_forest.fit_predict(df_normalized_iso_forest[data_columns])\n"
   ],
   "metadata": {
    "collapsed": false
   },
   "id": "79034961e1fc5810"
  }
 ],
 "metadata": {
  "kernelspec": {
   "display_name": "Python 3",
   "language": "python",
   "name": "python3"
  },
  "language_info": {
   "codemirror_mode": {
    "name": "ipython",
    "version": 2
   },
   "file_extension": ".py",
   "mimetype": "text/x-python",
   "name": "python",
   "nbconvert_exporter": "python",
   "pygments_lexer": "ipython2",
   "version": "2.7.6"
  }
 },
 "nbformat": 4,
 "nbformat_minor": 5
}
