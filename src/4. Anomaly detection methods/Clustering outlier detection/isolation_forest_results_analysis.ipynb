{
 "cells": [
  {
   "cell_type": "markdown",
   "source": [
    "In this script we analyse the results from outlier detection using isolation forest.\n",
    "\n",
    "The result csv was normalised but we matched it again with the original data."
   ],
   "metadata": {
    "collapsed": false
   },
   "id": "3bb2523fd6780c48"
  },
  {
   "cell_type": "code",
   "execution_count": 1,
   "outputs": [],
   "source": [
    "import pandas as pd\n",
    "from sqlalchemy import create_engine\n",
    "\n",
    "\n",
    "dbname = 'DataMining'\n",
    "user = 'postgres'\n",
    "password = 'datamining'\n",
    "host = 'localhost'  # localhost or the server address\n",
    "port = '5433'  # default PostgreSQL port is 5432\n",
    "\n",
    "# Establish a connection to the database\n",
    "connection_str = f\"postgresql://{user}:{password}@{host}:{port}/{dbname}\"\n",
    "engine = create_engine(connection_str)"
   ],
   "metadata": {
    "collapsed": false,
    "ExecuteTime": {
     "end_time": "2023-12-17T11:37:34.814270Z",
     "start_time": "2023-12-17T11:37:33.375988Z"
    }
   },
   "id": "initial_id"
  },
  {
   "cell_type": "code",
   "execution_count": 2,
   "outputs": [
    {
     "name": "stdout",
     "output_type": "stream",
     "text": [
      "    count\n",
      "0  176666\n"
     ]
    }
   ],
   "source": [
    "query = \"\"\"\n",
    "select count(*) from iso_forest_analysis;\n",
    "\"\"\"\n",
    "\n",
    "# Execute the query and fetch the data into a DataFrame\n",
    "print(pd.read_sql_query(query, engine))"
   ],
   "metadata": {
    "collapsed": false,
    "ExecuteTime": {
     "end_time": "2023-12-17T11:37:36.854191Z",
     "start_time": "2023-12-17T11:37:36.652376Z"
    }
   },
   "id": "9647c93d67becc1c"
  },
  {
   "cell_type": "code",
   "execution_count": 3,
   "outputs": [
    {
     "name": "stdout",
     "output_type": "stream",
     "text": [
      "    count\n",
      "0  133039\n"
     ]
    }
   ],
   "source": [
    "query = \"\"\"\n",
    "select count(*) from iso_forest_analysis\n",
    "where (RS_E_RPM_PC1 = 0) and (RS_E_RPM_PC2 = 0);\n",
    "\"\"\"\n",
    "\n",
    "# Execute the query and fetch the data into a DataFrame\n",
    "print(pd.read_sql_query(query, engine))"
   ],
   "metadata": {
    "collapsed": false,
    "ExecuteTime": {
     "end_time": "2023-12-17T11:37:38.863640Z",
     "start_time": "2023-12-17T11:37:38.789988Z"
    }
   },
   "id": "c92da5a6a6829c48"
  },
  {
   "cell_type": "markdown",
   "source": [
    "Here we see that a lot of the detected outliers are entries where the train is not moving. This is a result that could be expected. We can continue looking at the results where the train is moving (where one of the rpm values is not zero). We already analysed the points where the train is not moving (-> research question 12)"
   ],
   "metadata": {
    "collapsed": false
   },
   "id": "b0b609a0bf10d504"
  },
  {
   "cell_type": "code",
   "execution_count": 9,
   "outputs": [
    {
     "name": "stdout",
     "output_type": "stream",
     "text": [
      "       rs_e_inairtemp_pc1  rs_e_inairtemp_pc2\n",
      "count        18603.000000        18603.000000\n",
      "mean           534.215491          719.048116\n",
      "std           5860.538483         6795.348801\n",
      "min              0.000000            0.000000\n",
      "25%              3.000000            2.000000\n",
      "50%              5.000000            5.000000\n",
      "75%              7.000000            7.000000\n",
      "max          65535.000000        65535.000000\n"
     ]
    }
   ],
   "source": [
    "query = \"\"\"\n",
    "select * from iso_forest_analysis\n",
    "where (RS_E_RPM_PC1 != 0) and (RS_E_RPM_PC2 != 0);\n",
    "\"\"\"\n",
    "\n",
    "# Execute the query and fetch the data into a DataFrame\n",
    "df = pd.read_sql_query(query, engine)\n",
    "\n",
    "stats = df[['rs_e_inairtemp_pc1', 'rs_e_inairtemp_pc2']].describe()\n",
    "\n",
    "# Display the statistics\n",
    "print(stats)\n"
   ],
   "metadata": {
    "collapsed": false,
    "ExecuteTime": {
     "end_time": "2023-12-17T11:41:42.246834Z",
     "start_time": "2023-12-17T11:41:42.006310Z"
    }
   },
   "id": "8af6a15e360b38d9"
  },
  {
   "cell_type": "markdown",
   "source": [
    "So here we see the stats for rpm values that are not zero for both engines.\n",
    "\n",
    "We can start by looking at the data for one vehicle id. Let's start with veh_id = 102"
   ],
   "metadata": {
    "collapsed": false
   },
   "id": "e8a121afa60db01e"
  },
  {
   "cell_type": "code",
   "execution_count": 10,
   "outputs": [],
   "source": [
    "df_102 = df[df['mapped_veh_id'] == 102]"
   ],
   "metadata": {
    "collapsed": false,
    "ExecuteTime": {
     "end_time": "2023-12-17T11:41:46.191917Z",
     "start_time": "2023-12-17T11:41:46.180452Z"
    }
   },
   "id": "18b402406710bba8"
  },
  {
   "cell_type": "code",
   "execution_count": 13,
   "outputs": [
    {
     "data": {
      "text/plain": "       mapped_veh_id      timestamps_utc        lat       lon  \\\n68               102 2023-05-19 01:37:50  50.855865  3.607164   \n179              102 2023-04-22 03:33:15  51.016010  3.774037   \n203              102 2023-04-22 03:32:14  51.016027  3.774070   \n300              102 2023-03-27 02:28:47  50.774428  3.872819   \n345              102 2023-03-27 02:26:51  50.774074  3.872653   \n...              ...                 ...        ...       ...   \n17868            102 2023-03-12 22:53:01  50.856710  3.608108   \n18038            102 2023-02-27 05:39:49  51.013972  3.778861   \n18183            102 2023-01-25 22:39:17  51.015482  3.775960   \n18249            102 2023-04-03 08:56:56  51.014289  3.779160   \n18411            102 2023-03-11 09:05:02  50.856728  3.608113   \n\n       rs_e_inairtemp_pc1  rs_e_inairtemp_pc2  rs_e_oilpress_pc1  \\\n68                   10.0            8.000000              596.0   \n179                   6.0            8.000000              562.0   \n203                   6.0            8.000000              565.0   \n300                   4.0            5.000000              558.0   \n345                   4.0            4.000000              576.0   \n...                   ...                 ...                ...   \n17868                10.0            9.000000              596.0   \n18038                 1.0            1.000000              596.0   \n18183                 3.0            3.333333                1.0   \n18249                 6.0            6.000000              552.0   \n18411                 1.0            2.000000              600.0   \n\n       rs_e_oilpress_pc2  rs_e_rpm_pc1  rs_e_rpm_pc2  rs_e_wattemp_pc1  \\\n68            569.000000         801.0    802.000000              17.0   \n179           583.000000         802.0    801.000000              20.0   \n203           610.000000         788.0    801.000000              16.0   \n300           565.000000         797.0    799.000000              25.0   \n345           589.000000         799.0    800.000000              21.0   \n...                  ...           ...           ...               ...   \n17868         579.000000         801.0    799.000000              18.0   \n18038         527.000000         799.0    797.000000              16.0   \n18183          36.666667          34.0     80.333333              26.0   \n18249         569.000000         802.0    799.000000              28.0   \n18411         607.000000         799.0    799.000000              13.0   \n\n       rs_e_wattemp_pc2  rs_t_oiltemp_pc1  rs_t_oiltemp_pc2  \\\n68                 18.0         16.000000              14.0   \n179                18.0         14.000000              16.0   \n203                16.0         13.000000              14.0   \n300                21.0          8.000000               8.0   \n345                17.0         15.000000               6.0   \n...                 ...               ...               ...   \n17868              15.0          9.000000               9.0   \n18038              33.0         12.000000              19.0   \n18183              27.0         77.333333              80.0   \n18249              21.0         11.000000              10.0   \n18411              13.0          0.000000               3.0   \n\n                                                pg_point  \\\n68     0101000020E6100000E6779ACC78DB0C404165FCFB8C6D...   \n179    0101000020E61000006B195F6A3A310E40C474C69C0C82...   \n203    0101000020E61000003F8B4A8F4B310E40EDABBC2E0D82...   \n300    0101000020E6100000909E228788FB0E403D4DC1752063...   \n345    0101000020E6100000F920BA5631FB0E40CC18D5D81463...   \n...                                                  ...   \n17868  0101000020E6100000F590DF9167DD0C405012B7AFA86D...   \n18038  0101000020E61000008DFCB0941B3B0E407B08F4D3C981...   \n18183  0101000020E61000009D1CF45B2A350E400817974FFB81...   \n18249  0101000020E6100000AEE3AE14B83B0E4052DA7635D481...   \n18411  0101000020E61000004727A6666ADD0C407A49AD41A96D...   \n\n                                               utm_point  \n68     0101000020777F0000D57C3F502090204156C66216ED7D...  \n179    0101000020777F00009EC8B1AF6DEA20414F8AD4956C8F...  \n203    0101000020777F000084C5AB3B72EA20414DD934136D8F...  \n300    0101000020777F0000DC1699BE0A232141CF7AF1034475...  \n345    0101000020777F0000E5724239F42221413EE9F6203A75...  \n...                                                  ...  \n17868  0101000020777F00009218BD9CA3902041ACD4E1B9047E...  \n18038  0101000020777F00000819023A17ED2041841FF7D0348F...  \n18183  0101000020777F00004EA770A07CEB20416DBFD7425E8F...  \n18249  0101000020777F00002FC6115C40ED2041E617C5AD3D8F...  \n18411  0101000020777F00007AEE2E57A49020419719EA35057E...  \n\n[219 rows x 16 columns]",
      "text/html": "<div>\n<style scoped>\n    .dataframe tbody tr th:only-of-type {\n        vertical-align: middle;\n    }\n\n    .dataframe tbody tr th {\n        vertical-align: top;\n    }\n\n    .dataframe thead th {\n        text-align: right;\n    }\n</style>\n<table border=\"1\" class=\"dataframe\">\n  <thead>\n    <tr style=\"text-align: right;\">\n      <th></th>\n      <th>mapped_veh_id</th>\n      <th>timestamps_utc</th>\n      <th>lat</th>\n      <th>lon</th>\n      <th>rs_e_inairtemp_pc1</th>\n      <th>rs_e_inairtemp_pc2</th>\n      <th>rs_e_oilpress_pc1</th>\n      <th>rs_e_oilpress_pc2</th>\n      <th>rs_e_rpm_pc1</th>\n      <th>rs_e_rpm_pc2</th>\n      <th>rs_e_wattemp_pc1</th>\n      <th>rs_e_wattemp_pc2</th>\n      <th>rs_t_oiltemp_pc1</th>\n      <th>rs_t_oiltemp_pc2</th>\n      <th>pg_point</th>\n      <th>utm_point</th>\n    </tr>\n  </thead>\n  <tbody>\n    <tr>\n      <th>68</th>\n      <td>102</td>\n      <td>2023-05-19 01:37:50</td>\n      <td>50.855865</td>\n      <td>3.607164</td>\n      <td>10.0</td>\n      <td>8.000000</td>\n      <td>596.0</td>\n      <td>569.000000</td>\n      <td>801.0</td>\n      <td>802.000000</td>\n      <td>17.0</td>\n      <td>18.0</td>\n      <td>16.000000</td>\n      <td>14.0</td>\n      <td>0101000020E6100000E6779ACC78DB0C404165FCFB8C6D...</td>\n      <td>0101000020777F0000D57C3F502090204156C66216ED7D...</td>\n    </tr>\n    <tr>\n      <th>179</th>\n      <td>102</td>\n      <td>2023-04-22 03:33:15</td>\n      <td>51.016010</td>\n      <td>3.774037</td>\n      <td>6.0</td>\n      <td>8.000000</td>\n      <td>562.0</td>\n      <td>583.000000</td>\n      <td>802.0</td>\n      <td>801.000000</td>\n      <td>20.0</td>\n      <td>18.0</td>\n      <td>14.000000</td>\n      <td>16.0</td>\n      <td>0101000020E61000006B195F6A3A310E40C474C69C0C82...</td>\n      <td>0101000020777F00009EC8B1AF6DEA20414F8AD4956C8F...</td>\n    </tr>\n    <tr>\n      <th>203</th>\n      <td>102</td>\n      <td>2023-04-22 03:32:14</td>\n      <td>51.016027</td>\n      <td>3.774070</td>\n      <td>6.0</td>\n      <td>8.000000</td>\n      <td>565.0</td>\n      <td>610.000000</td>\n      <td>788.0</td>\n      <td>801.000000</td>\n      <td>16.0</td>\n      <td>16.0</td>\n      <td>13.000000</td>\n      <td>14.0</td>\n      <td>0101000020E61000003F8B4A8F4B310E40EDABBC2E0D82...</td>\n      <td>0101000020777F000084C5AB3B72EA20414DD934136D8F...</td>\n    </tr>\n    <tr>\n      <th>300</th>\n      <td>102</td>\n      <td>2023-03-27 02:28:47</td>\n      <td>50.774428</td>\n      <td>3.872819</td>\n      <td>4.0</td>\n      <td>5.000000</td>\n      <td>558.0</td>\n      <td>565.000000</td>\n      <td>797.0</td>\n      <td>799.000000</td>\n      <td>25.0</td>\n      <td>21.0</td>\n      <td>8.000000</td>\n      <td>8.0</td>\n      <td>0101000020E6100000909E228788FB0E403D4DC1752063...</td>\n      <td>0101000020777F0000DC1699BE0A232141CF7AF1034475...</td>\n    </tr>\n    <tr>\n      <th>345</th>\n      <td>102</td>\n      <td>2023-03-27 02:26:51</td>\n      <td>50.774074</td>\n      <td>3.872653</td>\n      <td>4.0</td>\n      <td>4.000000</td>\n      <td>576.0</td>\n      <td>589.000000</td>\n      <td>799.0</td>\n      <td>800.000000</td>\n      <td>21.0</td>\n      <td>17.0</td>\n      <td>15.000000</td>\n      <td>6.0</td>\n      <td>0101000020E6100000F920BA5631FB0E40CC18D5D81463...</td>\n      <td>0101000020777F0000E5724239F42221413EE9F6203A75...</td>\n    </tr>\n    <tr>\n      <th>...</th>\n      <td>...</td>\n      <td>...</td>\n      <td>...</td>\n      <td>...</td>\n      <td>...</td>\n      <td>...</td>\n      <td>...</td>\n      <td>...</td>\n      <td>...</td>\n      <td>...</td>\n      <td>...</td>\n      <td>...</td>\n      <td>...</td>\n      <td>...</td>\n      <td>...</td>\n      <td>...</td>\n    </tr>\n    <tr>\n      <th>17868</th>\n      <td>102</td>\n      <td>2023-03-12 22:53:01</td>\n      <td>50.856710</td>\n      <td>3.608108</td>\n      <td>10.0</td>\n      <td>9.000000</td>\n      <td>596.0</td>\n      <td>579.000000</td>\n      <td>801.0</td>\n      <td>799.000000</td>\n      <td>18.0</td>\n      <td>15.0</td>\n      <td>9.000000</td>\n      <td>9.0</td>\n      <td>0101000020E6100000F590DF9167DD0C405012B7AFA86D...</td>\n      <td>0101000020777F00009218BD9CA3902041ACD4E1B9047E...</td>\n    </tr>\n    <tr>\n      <th>18038</th>\n      <td>102</td>\n      <td>2023-02-27 05:39:49</td>\n      <td>51.013972</td>\n      <td>3.778861</td>\n      <td>1.0</td>\n      <td>1.000000</td>\n      <td>596.0</td>\n      <td>527.000000</td>\n      <td>799.0</td>\n      <td>797.000000</td>\n      <td>16.0</td>\n      <td>33.0</td>\n      <td>12.000000</td>\n      <td>19.0</td>\n      <td>0101000020E61000008DFCB0941B3B0E407B08F4D3C981...</td>\n      <td>0101000020777F00000819023A17ED2041841FF7D0348F...</td>\n    </tr>\n    <tr>\n      <th>18183</th>\n      <td>102</td>\n      <td>2023-01-25 22:39:17</td>\n      <td>51.015482</td>\n      <td>3.775960</td>\n      <td>3.0</td>\n      <td>3.333333</td>\n      <td>1.0</td>\n      <td>36.666667</td>\n      <td>34.0</td>\n      <td>80.333333</td>\n      <td>26.0</td>\n      <td>27.0</td>\n      <td>77.333333</td>\n      <td>80.0</td>\n      <td>0101000020E61000009D1CF45B2A350E400817974FFB81...</td>\n      <td>0101000020777F00004EA770A07CEB20416DBFD7425E8F...</td>\n    </tr>\n    <tr>\n      <th>18249</th>\n      <td>102</td>\n      <td>2023-04-03 08:56:56</td>\n      <td>51.014289</td>\n      <td>3.779160</td>\n      <td>6.0</td>\n      <td>6.000000</td>\n      <td>552.0</td>\n      <td>569.000000</td>\n      <td>802.0</td>\n      <td>799.000000</td>\n      <td>28.0</td>\n      <td>21.0</td>\n      <td>11.000000</td>\n      <td>10.0</td>\n      <td>0101000020E6100000AEE3AE14B83B0E4052DA7635D481...</td>\n      <td>0101000020777F00002FC6115C40ED2041E617C5AD3D8F...</td>\n    </tr>\n    <tr>\n      <th>18411</th>\n      <td>102</td>\n      <td>2023-03-11 09:05:02</td>\n      <td>50.856728</td>\n      <td>3.608113</td>\n      <td>1.0</td>\n      <td>2.000000</td>\n      <td>600.0</td>\n      <td>607.000000</td>\n      <td>799.0</td>\n      <td>799.000000</td>\n      <td>13.0</td>\n      <td>13.0</td>\n      <td>0.000000</td>\n      <td>3.0</td>\n      <td>0101000020E61000004727A6666ADD0C407A49AD41A96D...</td>\n      <td>0101000020777F00007AEE2E57A49020419719EA35057E...</td>\n    </tr>\n  </tbody>\n</table>\n<p>219 rows × 16 columns</p>\n</div>"
     },
     "execution_count": 13,
     "metadata": {},
     "output_type": "execute_result"
    }
   ],
   "source": [
    "df_102"
   ],
   "metadata": {
    "collapsed": false,
    "ExecuteTime": {
     "end_time": "2023-12-17T11:42:06.529039Z",
     "start_time": "2023-12-17T11:42:06.494775Z"
    }
   },
   "id": "dff2465f9ee59cd8"
  },
  {
   "cell_type": "markdown",
   "source": [
    "By analysing this data we see that the rpm's and oilpressures are high for both engines, but all the temperatures are extremely low. This might indicate that something is wrong. As we don't now what is an acceptible oil pressure we can not make further conclusions. "
   ],
   "metadata": {
    "collapsed": false
   },
   "id": "97e06fe661fdada5"
  },
  {
   "cell_type": "code",
   "execution_count": 16,
   "outputs": [],
   "source": [
    "df_102.describe()\n",
    "df_102.to_csv('iso_forest_102.csv')"
   ],
   "metadata": {
    "collapsed": false,
    "ExecuteTime": {
     "end_time": "2023-12-17T11:56:45.960929Z",
     "start_time": "2023-12-17T11:56:45.766567Z"
    }
   },
   "id": "716490b7da5ea593"
  },
  {
   "cell_type": "code",
   "execution_count": 15,
   "outputs": [
    {
     "data": {
      "text/plain": "       mapped_veh_id           lat           lon  rs_e_inairtemp_pc1  \\\ncount   18603.000000  18603.000000  18603.000000        18603.000000   \nmean      150.885986     50.779155      4.204294          534.215491   \nstd        27.653919      0.287674      0.555511         5860.538483   \nmin       102.000000     50.062296      3.582963            0.000000   \n25%       128.000000     50.455000      3.774702            3.000000   \n50%       151.000000     50.856217      3.873062            5.000000   \n75%       174.000000     51.014326      4.527237            7.000000   \nmax       197.000000     51.246052      5.541531        65535.000000   \n\n       rs_e_inairtemp_pc2  rs_e_oilpress_pc1  rs_e_oilpress_pc2  rs_e_rpm_pc1  \\\ncount        18603.000000       18603.000000       18603.000000  18603.000000   \nmean           719.048116         564.025603         575.834971    800.694411   \nstd           6795.348801         101.255078          93.621472    170.228904   \nmin              0.000000           0.000000           0.000000      6.666667   \n25%              2.000000         552.000000         562.000000    798.000000   \n50%              5.000000         576.000000         586.000000    800.000000   \n75%              7.000000         603.000000         610.000000    801.000000   \nmax          65535.000000         690.000000         690.000000   1994.000000   \n\n       rs_e_rpm_pc2  rs_e_wattemp_pc1  rs_e_wattemp_pc2  rs_t_oiltemp_pc1  \\\ncount  18603.000000      18603.000000      18603.000000      18603.000000   \nmean     805.607056         19.621102         18.230022         12.484307   \nstd      157.761327          9.080518          8.474851          9.363052   \nmin       13.333333          0.000000        -17.000000          0.000000   \n25%      798.000000         13.000000         12.000000          8.000000   \n50%      800.000000         19.000000         17.000000         11.000000   \n75%      802.000000         25.000000         23.000000         16.000000   \nmax     2011.000000         97.000000         93.000000         94.500000   \n\n       rs_t_oiltemp_pc2  \ncount      18603.000000  \nmean          11.809591  \nstd            9.197544  \nmin            0.000000  \n25%            7.000000  \n50%           10.000000  \n75%           14.500000  \nmax           94.666667  ",
      "text/html": "<div>\n<style scoped>\n    .dataframe tbody tr th:only-of-type {\n        vertical-align: middle;\n    }\n\n    .dataframe tbody tr th {\n        vertical-align: top;\n    }\n\n    .dataframe thead th {\n        text-align: right;\n    }\n</style>\n<table border=\"1\" class=\"dataframe\">\n  <thead>\n    <tr style=\"text-align: right;\">\n      <th></th>\n      <th>mapped_veh_id</th>\n      <th>lat</th>\n      <th>lon</th>\n      <th>rs_e_inairtemp_pc1</th>\n      <th>rs_e_inairtemp_pc2</th>\n      <th>rs_e_oilpress_pc1</th>\n      <th>rs_e_oilpress_pc2</th>\n      <th>rs_e_rpm_pc1</th>\n      <th>rs_e_rpm_pc2</th>\n      <th>rs_e_wattemp_pc1</th>\n      <th>rs_e_wattemp_pc2</th>\n      <th>rs_t_oiltemp_pc1</th>\n      <th>rs_t_oiltemp_pc2</th>\n    </tr>\n  </thead>\n  <tbody>\n    <tr>\n      <th>count</th>\n      <td>18603.000000</td>\n      <td>18603.000000</td>\n      <td>18603.000000</td>\n      <td>18603.000000</td>\n      <td>18603.000000</td>\n      <td>18603.000000</td>\n      <td>18603.000000</td>\n      <td>18603.000000</td>\n      <td>18603.000000</td>\n      <td>18603.000000</td>\n      <td>18603.000000</td>\n      <td>18603.000000</td>\n      <td>18603.000000</td>\n    </tr>\n    <tr>\n      <th>mean</th>\n      <td>150.885986</td>\n      <td>50.779155</td>\n      <td>4.204294</td>\n      <td>534.215491</td>\n      <td>719.048116</td>\n      <td>564.025603</td>\n      <td>575.834971</td>\n      <td>800.694411</td>\n      <td>805.607056</td>\n      <td>19.621102</td>\n      <td>18.230022</td>\n      <td>12.484307</td>\n      <td>11.809591</td>\n    </tr>\n    <tr>\n      <th>std</th>\n      <td>27.653919</td>\n      <td>0.287674</td>\n      <td>0.555511</td>\n      <td>5860.538483</td>\n      <td>6795.348801</td>\n      <td>101.255078</td>\n      <td>93.621472</td>\n      <td>170.228904</td>\n      <td>157.761327</td>\n      <td>9.080518</td>\n      <td>8.474851</td>\n      <td>9.363052</td>\n      <td>9.197544</td>\n    </tr>\n    <tr>\n      <th>min</th>\n      <td>102.000000</td>\n      <td>50.062296</td>\n      <td>3.582963</td>\n      <td>0.000000</td>\n      <td>0.000000</td>\n      <td>0.000000</td>\n      <td>0.000000</td>\n      <td>6.666667</td>\n      <td>13.333333</td>\n      <td>0.000000</td>\n      <td>-17.000000</td>\n      <td>0.000000</td>\n      <td>0.000000</td>\n    </tr>\n    <tr>\n      <th>25%</th>\n      <td>128.000000</td>\n      <td>50.455000</td>\n      <td>3.774702</td>\n      <td>3.000000</td>\n      <td>2.000000</td>\n      <td>552.000000</td>\n      <td>562.000000</td>\n      <td>798.000000</td>\n      <td>798.000000</td>\n      <td>13.000000</td>\n      <td>12.000000</td>\n      <td>8.000000</td>\n      <td>7.000000</td>\n    </tr>\n    <tr>\n      <th>50%</th>\n      <td>151.000000</td>\n      <td>50.856217</td>\n      <td>3.873062</td>\n      <td>5.000000</td>\n      <td>5.000000</td>\n      <td>576.000000</td>\n      <td>586.000000</td>\n      <td>800.000000</td>\n      <td>800.000000</td>\n      <td>19.000000</td>\n      <td>17.000000</td>\n      <td>11.000000</td>\n      <td>10.000000</td>\n    </tr>\n    <tr>\n      <th>75%</th>\n      <td>174.000000</td>\n      <td>51.014326</td>\n      <td>4.527237</td>\n      <td>7.000000</td>\n      <td>7.000000</td>\n      <td>603.000000</td>\n      <td>610.000000</td>\n      <td>801.000000</td>\n      <td>802.000000</td>\n      <td>25.000000</td>\n      <td>23.000000</td>\n      <td>16.000000</td>\n      <td>14.500000</td>\n    </tr>\n    <tr>\n      <th>max</th>\n      <td>197.000000</td>\n      <td>51.246052</td>\n      <td>5.541531</td>\n      <td>65535.000000</td>\n      <td>65535.000000</td>\n      <td>690.000000</td>\n      <td>690.000000</td>\n      <td>1994.000000</td>\n      <td>2011.000000</td>\n      <td>97.000000</td>\n      <td>93.000000</td>\n      <td>94.500000</td>\n      <td>94.666667</td>\n    </tr>\n  </tbody>\n</table>\n</div>"
     },
     "execution_count": 15,
     "metadata": {},
     "output_type": "execute_result"
    }
   ],
   "source": [
    "df.describe()"
   ],
   "metadata": {
    "collapsed": false,
    "ExecuteTime": {
     "end_time": "2023-12-17T11:51:46.326132Z",
     "start_time": "2023-12-17T11:51:46.297923Z"
    }
   },
   "id": "3222779f75ce6f50"
  }
 ],
 "metadata": {
  "kernelspec": {
   "display_name": "Python 3",
   "language": "python",
   "name": "python3"
  },
  "language_info": {
   "codemirror_mode": {
    "name": "ipython",
    "version": 2
   },
   "file_extension": ".py",
   "mimetype": "text/x-python",
   "name": "python",
   "nbconvert_exporter": "python",
   "pygments_lexer": "ipython2",
   "version": "2.7.6"
  }
 },
 "nbformat": 4,
 "nbformat_minor": 5
}
