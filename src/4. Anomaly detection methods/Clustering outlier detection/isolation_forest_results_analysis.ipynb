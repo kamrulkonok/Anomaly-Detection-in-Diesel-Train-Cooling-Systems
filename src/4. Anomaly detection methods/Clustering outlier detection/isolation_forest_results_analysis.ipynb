{
 "cells": [
  {
   "cell_type": "markdown",
   "source": [
    "In this script we analyse the results from outlier detection using isolation forest.\n",
    "\n",
    "The result csv was normalised but we matched it again with the original data."
   ],
   "metadata": {
    "collapsed": false
   },
   "id": "3bb2523fd6780c48"
  },
  {
   "cell_type": "code",
   "execution_count": 1,
   "outputs": [],
   "source": [
    "import pandas as pd\n",
    "from sqlalchemy import create_engine\n",
    "\n",
    "\n",
    "dbname = 'DataMining'\n",
    "user = 'postgres'\n",
    "password = 'datamining'\n",
    "host = 'localhost'  # localhost or the server address\n",
    "port = '5433'  # default PostgreSQL port is 5432\n",
    "\n",
    "# Establish a connection to the database\n",
    "connection_str = f\"postgresql://{user}:{password}@{host}:{port}/{dbname}\"\n",
    "engine = create_engine(connection_str)"
   ],
   "metadata": {
    "collapsed": false,
    "ExecuteTime": {
     "start_time": "2023-12-17T10:06:02.870766Z"
    }
   },
   "id": "initial_id"
  },
  {
   "cell_type": "code",
   "execution_count": 7,
   "outputs": [
    {
     "name": "stdout",
     "output_type": "stream",
     "text": [
      "    count\n",
      "0  176666\n"
     ]
    }
   ],
   "source": [
    "query = \"\"\"\n",
    "select count(*) from iso_forest_analysis;\n",
    "\"\"\"\n",
    "\n",
    "# Execute the query and fetch the data into a DataFrame\n",
    "print(pd.read_sql_query(query, engine))"
   ],
   "metadata": {
    "collapsed": false,
    "ExecuteTime": {
     "end_time": "2023-12-17T10:19:21.693077Z",
     "start_time": "2023-12-17T10:19:21.470393Z"
    }
   },
   "id": "9647c93d67becc1c"
  },
  {
   "cell_type": "code",
   "execution_count": 8,
   "outputs": [
    {
     "name": "stdout",
     "output_type": "stream",
     "text": [
      "    count\n",
      "0  133039\n"
     ]
    }
   ],
   "source": [
    "query = \"\"\"\n",
    "select count(*) from iso_forest_analysis\n",
    "where (RS_E_RPM_PC1 = 0) and (RS_E_RPM_PC2 = 0);\n",
    "\"\"\"\n",
    "\n",
    "# Execute the query and fetch the data into a DataFrame\n",
    "print(pd.read_sql_query(query, engine))"
   ],
   "metadata": {
    "collapsed": false,
    "ExecuteTime": {
     "end_time": "2023-12-17T10:19:28.798757Z",
     "start_time": "2023-12-17T10:19:28.749538Z"
    }
   },
   "id": "c92da5a6a6829c48"
  },
  {
   "cell_type": "markdown",
   "source": [
    "Here we see that a lot of the detected outliers are entries where the train is not moving. This is a result that could be expected. We can continue looking at the results where the train is moving (where one of the rpm values is not zero). We already analysed the points where the train is not moving (-> research question 12)"
   ],
   "metadata": {
    "collapsed": false
   },
   "id": "b0b609a0bf10d504"
  },
  {
   "cell_type": "code",
   "execution_count": 9,
   "outputs": [
    {
     "name": "stdout",
     "output_type": "stream",
     "text": [
      "       rs_e_inairtemp_pc1  rs_e_inairtemp_pc2\n",
      "count        43627.000000        43627.000000\n",
      "mean           257.883078          373.117979\n",
      "std           4006.746902         4853.955077\n",
      "min              0.000000            0.000000\n",
      "25%              3.000000            3.000000\n",
      "50%              7.000000            7.000000\n",
      "75%             14.500000           15.000000\n",
      "max          65535.000000        65535.000000\n"
     ]
    }
   ],
   "source": [
    "query = \"\"\"\n",
    "select * from iso_forest_analysis\n",
    "where (RS_E_RPM_PC1 != 0) or (RS_E_RPM_PC2 != 0);\n",
    "\"\"\"\n",
    "\n",
    "# Execute the query and fetch the data into a DataFrame\n",
    "df = pd.read_sql_query(query, engine)\n",
    "\n",
    "stats = df[['rs_e_inairtemp_pc1', 'rs_e_inairtemp_pc2']].describe()\n",
    "\n",
    "# Display the statistics\n",
    "print(stats)\n"
   ],
   "metadata": {
    "collapsed": false,
    "ExecuteTime": {
     "end_time": "2023-12-17T10:19:40.370405Z",
     "start_time": "2023-12-17T10:19:39.871547Z"
    }
   },
   "id": "8af6a15e360b38d9"
  },
  {
   "cell_type": "markdown",
   "source": [
    "So here we see the stats for rpm values that are not zero for both engines.\n",
    "\n",
    "We can start by looking at the data for one vehicle id. Let's start with veh_id = 102"
   ],
   "metadata": {
    "collapsed": false
   },
   "id": "e8a121afa60db01e"
  },
  {
   "cell_type": "code",
   "execution_count": null,
   "outputs": [],
   "source": [
    "df_102 = df[]"
   ],
   "metadata": {
    "collapsed": false
   },
   "id": "18b402406710bba8"
  }
 ],
 "metadata": {
  "kernelspec": {
   "display_name": "Python 3",
   "language": "python",
   "name": "python3"
  },
  "language_info": {
   "codemirror_mode": {
    "name": "ipython",
    "version": 2
   },
   "file_extension": ".py",
   "mimetype": "text/x-python",
   "name": "python",
   "nbconvert_exporter": "python",
   "pygments_lexer": "ipython2",
   "version": "2.7.6"
  }
 },
 "nbformat": 4,
 "nbformat_minor": 5
}
